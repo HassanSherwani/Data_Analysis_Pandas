{
 "cells": [
  {
   "cell_type": "markdown",
   "metadata": {},
   "source": [
    "# Working with Pandas\n",
    "\n",
    "Data exploration"
   ]
  },
  {
   "cell_type": "code",
   "execution_count": 1,
   "metadata": {},
   "outputs": [],
   "source": [
    "import warnings\n",
    "warnings.filterwarnings('ignore')"
   ]
  },
  {
   "cell_type": "code",
   "execution_count": 2,
   "metadata": {},
   "outputs": [],
   "source": [
    "import pandas as pd\n",
    "import matplotlib.pyplot as plt\n",
    "import seaborn as sns\n",
    "from datetime import datetime\n",
    "%matplotlib inline"
   ]
  },
  {
   "cell_type": "code",
   "execution_count": 3,
   "metadata": {},
   "outputs": [
    {
     "data": {
      "text/html": [
       "<style>body {\n",
       "    margin: 0;\n",
       "    font-family: Helvetica;\n",
       "}\n",
       "table.dataframe {\n",
       "    border-collapse: collapse;\n",
       "    border: none;\n",
       "}\n",
       "table.dataframe tr {\n",
       "    border: none;\n",
       "}\n",
       "table.dataframe td, table.dataframe th {\n",
       "    margin: 0;\n",
       "    border: 1px solid white;\n",
       "    padding-left: 0.25em;\n",
       "    padding-right: 0.25em;\n",
       "}\n",
       "table.dataframe th:not(:empty) {\n",
       "    background-color: #fec;\n",
       "    text-align: left;\n",
       "    font-weight: normal;\n",
       "}\n",
       "table.dataframe tr:nth-child(2) th:empty {\n",
       "    border-left: none;\n",
       "    border-right: 1px dashed #888;\n",
       "}\n",
       "table.dataframe td {\n",
       "    border: 2px solid #ccf;\n",
       "    background-color: #f4f4ff;\n",
       "}\n",
       "h3 {\n",
       "    color: white;\n",
       "    background-color: black;\n",
       "    padding: 0.5em;\n",
       "}\n",
       "</style>"
      ],
      "text/plain": [
       "<IPython.core.display.HTML object>"
      ]
     },
     "execution_count": 3,
     "metadata": {},
     "output_type": "execute_result"
    }
   ],
   "source": [
    "from IPython.core.display import HTML\n",
    "css = open('style-table.css').read() + open('style-notebook.css').read()\n",
    "HTML('<style>{}</style>'.format(css))"
   ]
  },
  {
   "cell_type": "code",
   "execution_count": 4,
   "metadata": {},
   "outputs": [
    {
     "data": {
      "text/plain": [
       "'0.23.4'"
      ]
     },
     "execution_count": 4,
     "metadata": {},
     "output_type": "execute_result"
    }
   ],
   "source": [
    "pd.__version__"
   ]
  },
  {
   "cell_type": "markdown",
   "metadata": {},
   "source": [
    "# 1)-Reading and loading data with Pandas"
   ]
  },
  {
   "cell_type": "code",
   "execution_count": 5,
   "metadata": {},
   "outputs": [],
   "source": [
    "orders=pd.read_excel('sales.xls')"
   ]
  },
  {
   "cell_type": "code",
   "execution_count": 6,
   "metadata": {},
   "outputs": [
    {
     "data": {
      "text/html": [
       "<div>\n",
       "<style scoped>\n",
       "    .dataframe tbody tr th:only-of-type {\n",
       "        vertical-align: middle;\n",
       "    }\n",
       "\n",
       "    .dataframe tbody tr th {\n",
       "        vertical-align: top;\n",
       "    }\n",
       "\n",
       "    .dataframe thead th {\n",
       "        text-align: right;\n",
       "    }\n",
       "</style>\n",
       "<table border=\"1\" class=\"dataframe\">\n",
       "  <thead>\n",
       "    <tr style=\"text-align: right;\">\n",
       "      <th></th>\n",
       "      <th>Row ID</th>\n",
       "      <th>Order ID</th>\n",
       "      <th>Order Date</th>\n",
       "      <th>Order Priority</th>\n",
       "      <th>Order Quantity</th>\n",
       "      <th>Sales</th>\n",
       "      <th>Discount</th>\n",
       "      <th>Ship Mode</th>\n",
       "      <th>Profit</th>\n",
       "      <th>Unit Price</th>\n",
       "      <th>...</th>\n",
       "      <th>Customer Name</th>\n",
       "      <th>Province</th>\n",
       "      <th>Region</th>\n",
       "      <th>Customer Segment</th>\n",
       "      <th>Product Category</th>\n",
       "      <th>Product Sub-Category</th>\n",
       "      <th>Product Name</th>\n",
       "      <th>Product Container</th>\n",
       "      <th>Product Base Margin</th>\n",
       "      <th>Ship Date</th>\n",
       "    </tr>\n",
       "  </thead>\n",
       "  <tbody>\n",
       "    <tr>\n",
       "      <th>0</th>\n",
       "      <td>1</td>\n",
       "      <td>3</td>\n",
       "      <td>2010-10-13</td>\n",
       "      <td>Low</td>\n",
       "      <td>6</td>\n",
       "      <td>261.5400</td>\n",
       "      <td>0.04</td>\n",
       "      <td>Regular Air</td>\n",
       "      <td>-213.2500</td>\n",
       "      <td>38.94</td>\n",
       "      <td>...</td>\n",
       "      <td>Muhammed MacIntyre</td>\n",
       "      <td>Nunavut</td>\n",
       "      <td>Nunavut</td>\n",
       "      <td>Small Business</td>\n",
       "      <td>Office Supplies</td>\n",
       "      <td>Storage &amp; Organization</td>\n",
       "      <td>Eldon Base for stackable storage shelf, platinum</td>\n",
       "      <td>Large Box</td>\n",
       "      <td>0.80</td>\n",
       "      <td>2010-10-20</td>\n",
       "    </tr>\n",
       "    <tr>\n",
       "      <th>1</th>\n",
       "      <td>49</td>\n",
       "      <td>293</td>\n",
       "      <td>2012-10-01</td>\n",
       "      <td>High</td>\n",
       "      <td>49</td>\n",
       "      <td>10123.0200</td>\n",
       "      <td>0.07</td>\n",
       "      <td>Delivery Truck</td>\n",
       "      <td>457.8100</td>\n",
       "      <td>208.16</td>\n",
       "      <td>...</td>\n",
       "      <td>Barry French</td>\n",
       "      <td>Nunavut</td>\n",
       "      <td>Nunavut</td>\n",
       "      <td>Consumer</td>\n",
       "      <td>Office Supplies</td>\n",
       "      <td>Appliances</td>\n",
       "      <td>1.7 Cubic Foot Compact \"Cube\" Office Refrigera...</td>\n",
       "      <td>Jumbo Drum</td>\n",
       "      <td>0.58</td>\n",
       "      <td>2012-10-02</td>\n",
       "    </tr>\n",
       "    <tr>\n",
       "      <th>2</th>\n",
       "      <td>50</td>\n",
       "      <td>293</td>\n",
       "      <td>2012-10-01</td>\n",
       "      <td>High</td>\n",
       "      <td>27</td>\n",
       "      <td>244.5700</td>\n",
       "      <td>0.01</td>\n",
       "      <td>Regular Air</td>\n",
       "      <td>46.7075</td>\n",
       "      <td>8.69</td>\n",
       "      <td>...</td>\n",
       "      <td>Barry French</td>\n",
       "      <td>Nunavut</td>\n",
       "      <td>Nunavut</td>\n",
       "      <td>Consumer</td>\n",
       "      <td>Office Supplies</td>\n",
       "      <td>Binders and Binder Accessories</td>\n",
       "      <td>Cardinal Slant-D® Ring Binder, Heavy Gauge Vinyl</td>\n",
       "      <td>Small Box</td>\n",
       "      <td>0.39</td>\n",
       "      <td>2012-10-03</td>\n",
       "    </tr>\n",
       "    <tr>\n",
       "      <th>3</th>\n",
       "      <td>80</td>\n",
       "      <td>483</td>\n",
       "      <td>2011-07-10</td>\n",
       "      <td>High</td>\n",
       "      <td>30</td>\n",
       "      <td>4965.7595</td>\n",
       "      <td>0.08</td>\n",
       "      <td>Regular Air</td>\n",
       "      <td>1198.9710</td>\n",
       "      <td>195.99</td>\n",
       "      <td>...</td>\n",
       "      <td>Clay Rozendal</td>\n",
       "      <td>Nunavut</td>\n",
       "      <td>Nunavut</td>\n",
       "      <td>Corporate</td>\n",
       "      <td>Technology</td>\n",
       "      <td>Telephones and Communication</td>\n",
       "      <td>R380</td>\n",
       "      <td>Small Box</td>\n",
       "      <td>0.58</td>\n",
       "      <td>2011-07-12</td>\n",
       "    </tr>\n",
       "    <tr>\n",
       "      <th>4</th>\n",
       "      <td>85</td>\n",
       "      <td>515</td>\n",
       "      <td>2010-08-28</td>\n",
       "      <td>Not Specified</td>\n",
       "      <td>19</td>\n",
       "      <td>394.2700</td>\n",
       "      <td>0.08</td>\n",
       "      <td>Regular Air</td>\n",
       "      <td>30.9400</td>\n",
       "      <td>21.78</td>\n",
       "      <td>...</td>\n",
       "      <td>Carlos Soltero</td>\n",
       "      <td>Nunavut</td>\n",
       "      <td>Nunavut</td>\n",
       "      <td>Consumer</td>\n",
       "      <td>Office Supplies</td>\n",
       "      <td>Appliances</td>\n",
       "      <td>Holmes HEPA Air Purifier</td>\n",
       "      <td>Medium Box</td>\n",
       "      <td>0.50</td>\n",
       "      <td>2010-08-30</td>\n",
       "    </tr>\n",
       "  </tbody>\n",
       "</table>\n",
       "<p>5 rows × 21 columns</p>\n",
       "</div>"
      ],
      "text/plain": [
       "   Row ID  Order ID Order Date Order Priority  Order Quantity       Sales  \\\n",
       "0       1         3 2010-10-13            Low               6    261.5400   \n",
       "1      49       293 2012-10-01           High              49  10123.0200   \n",
       "2      50       293 2012-10-01           High              27    244.5700   \n",
       "3      80       483 2011-07-10           High              30   4965.7595   \n",
       "4      85       515 2010-08-28  Not Specified              19    394.2700   \n",
       "\n",
       "   Discount       Ship Mode     Profit  Unit Price    ...      \\\n",
       "0      0.04     Regular Air  -213.2500       38.94    ...       \n",
       "1      0.07  Delivery Truck   457.8100      208.16    ...       \n",
       "2      0.01     Regular Air    46.7075        8.69    ...       \n",
       "3      0.08     Regular Air  1198.9710      195.99    ...       \n",
       "4      0.08     Regular Air    30.9400       21.78    ...       \n",
       "\n",
       "        Customer Name Province   Region Customer Segment Product Category  \\\n",
       "0  Muhammed MacIntyre  Nunavut  Nunavut   Small Business  Office Supplies   \n",
       "1        Barry French  Nunavut  Nunavut         Consumer  Office Supplies   \n",
       "2        Barry French  Nunavut  Nunavut         Consumer  Office Supplies   \n",
       "3       Clay Rozendal  Nunavut  Nunavut        Corporate       Technology   \n",
       "4      Carlos Soltero  Nunavut  Nunavut         Consumer  Office Supplies   \n",
       "\n",
       "             Product Sub-Category  \\\n",
       "0          Storage & Organization   \n",
       "1                      Appliances   \n",
       "2  Binders and Binder Accessories   \n",
       "3    Telephones and Communication   \n",
       "4                      Appliances   \n",
       "\n",
       "                                        Product Name Product Container  \\\n",
       "0   Eldon Base for stackable storage shelf, platinum         Large Box   \n",
       "1  1.7 Cubic Foot Compact \"Cube\" Office Refrigera...        Jumbo Drum   \n",
       "2   Cardinal Slant-D® Ring Binder, Heavy Gauge Vinyl         Small Box   \n",
       "3                                               R380         Small Box   \n",
       "4                           Holmes HEPA Air Purifier        Medium Box   \n",
       "\n",
       "  Product Base Margin  Ship Date  \n",
       "0                0.80 2010-10-20  \n",
       "1                0.58 2012-10-02  \n",
       "2                0.39 2012-10-03  \n",
       "3                0.58 2011-07-12  \n",
       "4                0.50 2010-08-30  \n",
       "\n",
       "[5 rows x 21 columns]"
      ]
     },
     "execution_count": 6,
     "metadata": {},
     "output_type": "execute_result"
    }
   ],
   "source": [
    "orders.head()"
   ]
  },
  {
   "cell_type": "markdown",
   "metadata": {},
   "source": [
    "# 2)-Summary Statistic "
   ]
  },
  {
   "cell_type": "code",
   "execution_count": 7,
   "metadata": {},
   "outputs": [
    {
     "data": {
      "text/html": [
       "<div>\n",
       "<style scoped>\n",
       "    .dataframe tbody tr th:only-of-type {\n",
       "        vertical-align: middle;\n",
       "    }\n",
       "\n",
       "    .dataframe tbody tr th {\n",
       "        vertical-align: top;\n",
       "    }\n",
       "\n",
       "    .dataframe thead th {\n",
       "        text-align: right;\n",
       "    }\n",
       "</style>\n",
       "<table border=\"1\" class=\"dataframe\">\n",
       "  <thead>\n",
       "    <tr style=\"text-align: right;\">\n",
       "      <th></th>\n",
       "      <th>Row ID</th>\n",
       "      <th>Order ID</th>\n",
       "      <th>Order Quantity</th>\n",
       "      <th>Sales</th>\n",
       "      <th>Discount</th>\n",
       "      <th>Profit</th>\n",
       "      <th>Unit Price</th>\n",
       "      <th>Shipping Cost</th>\n",
       "      <th>Product Base Margin</th>\n",
       "    </tr>\n",
       "  </thead>\n",
       "  <tbody>\n",
       "    <tr>\n",
       "      <th>count</th>\n",
       "      <td>8399.000000</td>\n",
       "      <td>8399.000000</td>\n",
       "      <td>8399.000000</td>\n",
       "      <td>8399.000000</td>\n",
       "      <td>8399.000000</td>\n",
       "      <td>8399.000000</td>\n",
       "      <td>8399.000000</td>\n",
       "      <td>8399.000000</td>\n",
       "      <td>8336.000000</td>\n",
       "    </tr>\n",
       "    <tr>\n",
       "      <th>mean</th>\n",
       "      <td>4200.000000</td>\n",
       "      <td>29965.179783</td>\n",
       "      <td>25.571735</td>\n",
       "      <td>1775.878179</td>\n",
       "      <td>0.049671</td>\n",
       "      <td>181.184422</td>\n",
       "      <td>89.346259</td>\n",
       "      <td>12.838557</td>\n",
       "      <td>0.512513</td>\n",
       "    </tr>\n",
       "    <tr>\n",
       "      <th>std</th>\n",
       "      <td>2424.726789</td>\n",
       "      <td>17260.883447</td>\n",
       "      <td>14.481071</td>\n",
       "      <td>3585.050525</td>\n",
       "      <td>0.031823</td>\n",
       "      <td>1196.653326</td>\n",
       "      <td>290.354383</td>\n",
       "      <td>17.264052</td>\n",
       "      <td>0.135589</td>\n",
       "    </tr>\n",
       "    <tr>\n",
       "      <th>min</th>\n",
       "      <td>1.000000</td>\n",
       "      <td>3.000000</td>\n",
       "      <td>1.000000</td>\n",
       "      <td>2.240000</td>\n",
       "      <td>0.000000</td>\n",
       "      <td>-14140.701600</td>\n",
       "      <td>0.990000</td>\n",
       "      <td>0.490000</td>\n",
       "      <td>0.350000</td>\n",
       "    </tr>\n",
       "    <tr>\n",
       "      <th>25%</th>\n",
       "      <td>2100.500000</td>\n",
       "      <td>15011.500000</td>\n",
       "      <td>13.000000</td>\n",
       "      <td>143.195000</td>\n",
       "      <td>0.020000</td>\n",
       "      <td>-83.315000</td>\n",
       "      <td>6.480000</td>\n",
       "      <td>3.300000</td>\n",
       "      <td>0.380000</td>\n",
       "    </tr>\n",
       "    <tr>\n",
       "      <th>50%</th>\n",
       "      <td>4200.000000</td>\n",
       "      <td>29857.000000</td>\n",
       "      <td>26.000000</td>\n",
       "      <td>449.420000</td>\n",
       "      <td>0.050000</td>\n",
       "      <td>-1.500000</td>\n",
       "      <td>20.990000</td>\n",
       "      <td>6.070000</td>\n",
       "      <td>0.520000</td>\n",
       "    </tr>\n",
       "    <tr>\n",
       "      <th>75%</th>\n",
       "      <td>6299.500000</td>\n",
       "      <td>44596.000000</td>\n",
       "      <td>38.000000</td>\n",
       "      <td>1709.320000</td>\n",
       "      <td>0.080000</td>\n",
       "      <td>162.748000</td>\n",
       "      <td>85.990000</td>\n",
       "      <td>13.990000</td>\n",
       "      <td>0.590000</td>\n",
       "    </tr>\n",
       "    <tr>\n",
       "      <th>max</th>\n",
       "      <td>8399.000000</td>\n",
       "      <td>59973.000000</td>\n",
       "      <td>50.000000</td>\n",
       "      <td>89061.050000</td>\n",
       "      <td>0.250000</td>\n",
       "      <td>27220.690000</td>\n",
       "      <td>6783.020000</td>\n",
       "      <td>164.730000</td>\n",
       "      <td>0.850000</td>\n",
       "    </tr>\n",
       "  </tbody>\n",
       "</table>\n",
       "</div>"
      ],
      "text/plain": [
       "            Row ID      Order ID  Order Quantity         Sales     Discount  \\\n",
       "count  8399.000000   8399.000000     8399.000000   8399.000000  8399.000000   \n",
       "mean   4200.000000  29965.179783       25.571735   1775.878179     0.049671   \n",
       "std    2424.726789  17260.883447       14.481071   3585.050525     0.031823   \n",
       "min       1.000000      3.000000        1.000000      2.240000     0.000000   \n",
       "25%    2100.500000  15011.500000       13.000000    143.195000     0.020000   \n",
       "50%    4200.000000  29857.000000       26.000000    449.420000     0.050000   \n",
       "75%    6299.500000  44596.000000       38.000000   1709.320000     0.080000   \n",
       "max    8399.000000  59973.000000       50.000000  89061.050000     0.250000   \n",
       "\n",
       "             Profit   Unit Price  Shipping Cost  Product Base Margin  \n",
       "count   8399.000000  8399.000000    8399.000000          8336.000000  \n",
       "mean     181.184422    89.346259      12.838557             0.512513  \n",
       "std     1196.653326   290.354383      17.264052             0.135589  \n",
       "min   -14140.701600     0.990000       0.490000             0.350000  \n",
       "25%      -83.315000     6.480000       3.300000             0.380000  \n",
       "50%       -1.500000    20.990000       6.070000             0.520000  \n",
       "75%      162.748000    85.990000      13.990000             0.590000  \n",
       "max    27220.690000  6783.020000     164.730000             0.850000  "
      ]
     },
     "execution_count": 7,
     "metadata": {},
     "output_type": "execute_result"
    }
   ],
   "source": [
    "orders.describe()"
   ]
  },
  {
   "cell_type": "code",
   "execution_count": 8,
   "metadata": {},
   "outputs": [
    {
     "data": {
      "text/html": [
       "<div>\n",
       "<style scoped>\n",
       "    .dataframe tbody tr th:only-of-type {\n",
       "        vertical-align: middle;\n",
       "    }\n",
       "\n",
       "    .dataframe tbody tr th {\n",
       "        vertical-align: top;\n",
       "    }\n",
       "\n",
       "    .dataframe thead th {\n",
       "        text-align: right;\n",
       "    }\n",
       "</style>\n",
       "<table border=\"1\" class=\"dataframe\">\n",
       "  <thead>\n",
       "    <tr style=\"text-align: right;\">\n",
       "      <th></th>\n",
       "      <th>Row ID</th>\n",
       "      <th>Order ID</th>\n",
       "      <th>Order Date</th>\n",
       "      <th>Order Priority</th>\n",
       "      <th>Order Quantity</th>\n",
       "      <th>Sales</th>\n",
       "      <th>Discount</th>\n",
       "      <th>Ship Mode</th>\n",
       "      <th>Profit</th>\n",
       "      <th>Unit Price</th>\n",
       "      <th>...</th>\n",
       "      <th>Customer Name</th>\n",
       "      <th>Province</th>\n",
       "      <th>Region</th>\n",
       "      <th>Customer Segment</th>\n",
       "      <th>Product Category</th>\n",
       "      <th>Product Sub-Category</th>\n",
       "      <th>Product Name</th>\n",
       "      <th>Product Container</th>\n",
       "      <th>Product Base Margin</th>\n",
       "      <th>Ship Date</th>\n",
       "    </tr>\n",
       "  </thead>\n",
       "  <tbody>\n",
       "    <tr>\n",
       "      <th>count</th>\n",
       "      <td>8399.000000</td>\n",
       "      <td>8399.000000</td>\n",
       "      <td>8399</td>\n",
       "      <td>8399</td>\n",
       "      <td>8399.000000</td>\n",
       "      <td>8399.000000</td>\n",
       "      <td>8399.000000</td>\n",
       "      <td>8399</td>\n",
       "      <td>8399.000000</td>\n",
       "      <td>8399.000000</td>\n",
       "      <td>...</td>\n",
       "      <td>8399</td>\n",
       "      <td>8399</td>\n",
       "      <td>8399</td>\n",
       "      <td>8399</td>\n",
       "      <td>8399</td>\n",
       "      <td>8399</td>\n",
       "      <td>8399</td>\n",
       "      <td>8399</td>\n",
       "      <td>8336.000000</td>\n",
       "      <td>8399</td>\n",
       "    </tr>\n",
       "    <tr>\n",
       "      <th>unique</th>\n",
       "      <td>NaN</td>\n",
       "      <td>NaN</td>\n",
       "      <td>1418</td>\n",
       "      <td>5</td>\n",
       "      <td>NaN</td>\n",
       "      <td>NaN</td>\n",
       "      <td>NaN</td>\n",
       "      <td>3</td>\n",
       "      <td>NaN</td>\n",
       "      <td>NaN</td>\n",
       "      <td>...</td>\n",
       "      <td>795</td>\n",
       "      <td>13</td>\n",
       "      <td>8</td>\n",
       "      <td>4</td>\n",
       "      <td>3</td>\n",
       "      <td>17</td>\n",
       "      <td>1263</td>\n",
       "      <td>7</td>\n",
       "      <td>NaN</td>\n",
       "      <td>1450</td>\n",
       "    </tr>\n",
       "    <tr>\n",
       "      <th>top</th>\n",
       "      <td>NaN</td>\n",
       "      <td>NaN</td>\n",
       "      <td>2012-03-28 00:00:00</td>\n",
       "      <td>High</td>\n",
       "      <td>NaN</td>\n",
       "      <td>NaN</td>\n",
       "      <td>NaN</td>\n",
       "      <td>Regular Air</td>\n",
       "      <td>NaN</td>\n",
       "      <td>NaN</td>\n",
       "      <td>...</td>\n",
       "      <td>Darren Budd</td>\n",
       "      <td>Ontario</td>\n",
       "      <td>West</td>\n",
       "      <td>Corporate</td>\n",
       "      <td>Office Supplies</td>\n",
       "      <td>Paper</td>\n",
       "      <td>Global High-Back Leather Tilter, Burgundy</td>\n",
       "      <td>Small Box</td>\n",
       "      <td>NaN</td>\n",
       "      <td>2011-05-21 00:00:00</td>\n",
       "    </tr>\n",
       "    <tr>\n",
       "      <th>freq</th>\n",
       "      <td>NaN</td>\n",
       "      <td>NaN</td>\n",
       "      <td>20</td>\n",
       "      <td>1768</td>\n",
       "      <td>NaN</td>\n",
       "      <td>NaN</td>\n",
       "      <td>NaN</td>\n",
       "      <td>6270</td>\n",
       "      <td>NaN</td>\n",
       "      <td>NaN</td>\n",
       "      <td>...</td>\n",
       "      <td>41</td>\n",
       "      <td>1826</td>\n",
       "      <td>1991</td>\n",
       "      <td>3076</td>\n",
       "      <td>4610</td>\n",
       "      <td>1225</td>\n",
       "      <td>24</td>\n",
       "      <td>4347</td>\n",
       "      <td>NaN</td>\n",
       "      <td>19</td>\n",
       "    </tr>\n",
       "    <tr>\n",
       "      <th>first</th>\n",
       "      <td>NaN</td>\n",
       "      <td>NaN</td>\n",
       "      <td>2009-01-01 00:00:00</td>\n",
       "      <td>NaN</td>\n",
       "      <td>NaN</td>\n",
       "      <td>NaN</td>\n",
       "      <td>NaN</td>\n",
       "      <td>NaN</td>\n",
       "      <td>NaN</td>\n",
       "      <td>NaN</td>\n",
       "      <td>...</td>\n",
       "      <td>NaN</td>\n",
       "      <td>NaN</td>\n",
       "      <td>NaN</td>\n",
       "      <td>NaN</td>\n",
       "      <td>NaN</td>\n",
       "      <td>NaN</td>\n",
       "      <td>NaN</td>\n",
       "      <td>NaN</td>\n",
       "      <td>NaN</td>\n",
       "      <td>2009-01-02 00:00:00</td>\n",
       "    </tr>\n",
       "    <tr>\n",
       "      <th>last</th>\n",
       "      <td>NaN</td>\n",
       "      <td>NaN</td>\n",
       "      <td>2012-12-30 00:00:00</td>\n",
       "      <td>NaN</td>\n",
       "      <td>NaN</td>\n",
       "      <td>NaN</td>\n",
       "      <td>NaN</td>\n",
       "      <td>NaN</td>\n",
       "      <td>NaN</td>\n",
       "      <td>NaN</td>\n",
       "      <td>...</td>\n",
       "      <td>NaN</td>\n",
       "      <td>NaN</td>\n",
       "      <td>NaN</td>\n",
       "      <td>NaN</td>\n",
       "      <td>NaN</td>\n",
       "      <td>NaN</td>\n",
       "      <td>NaN</td>\n",
       "      <td>NaN</td>\n",
       "      <td>NaN</td>\n",
       "      <td>2012-12-30 00:00:00</td>\n",
       "    </tr>\n",
       "    <tr>\n",
       "      <th>mean</th>\n",
       "      <td>4200.000000</td>\n",
       "      <td>29965.179783</td>\n",
       "      <td>NaN</td>\n",
       "      <td>NaN</td>\n",
       "      <td>25.571735</td>\n",
       "      <td>1775.878179</td>\n",
       "      <td>0.049671</td>\n",
       "      <td>NaN</td>\n",
       "      <td>181.184422</td>\n",
       "      <td>89.346259</td>\n",
       "      <td>...</td>\n",
       "      <td>NaN</td>\n",
       "      <td>NaN</td>\n",
       "      <td>NaN</td>\n",
       "      <td>NaN</td>\n",
       "      <td>NaN</td>\n",
       "      <td>NaN</td>\n",
       "      <td>NaN</td>\n",
       "      <td>NaN</td>\n",
       "      <td>0.512513</td>\n",
       "      <td>NaN</td>\n",
       "    </tr>\n",
       "    <tr>\n",
       "      <th>std</th>\n",
       "      <td>2424.726789</td>\n",
       "      <td>17260.883447</td>\n",
       "      <td>NaN</td>\n",
       "      <td>NaN</td>\n",
       "      <td>14.481071</td>\n",
       "      <td>3585.050525</td>\n",
       "      <td>0.031823</td>\n",
       "      <td>NaN</td>\n",
       "      <td>1196.653326</td>\n",
       "      <td>290.354383</td>\n",
       "      <td>...</td>\n",
       "      <td>NaN</td>\n",
       "      <td>NaN</td>\n",
       "      <td>NaN</td>\n",
       "      <td>NaN</td>\n",
       "      <td>NaN</td>\n",
       "      <td>NaN</td>\n",
       "      <td>NaN</td>\n",
       "      <td>NaN</td>\n",
       "      <td>0.135589</td>\n",
       "      <td>NaN</td>\n",
       "    </tr>\n",
       "    <tr>\n",
       "      <th>min</th>\n",
       "      <td>1.000000</td>\n",
       "      <td>3.000000</td>\n",
       "      <td>NaN</td>\n",
       "      <td>NaN</td>\n",
       "      <td>1.000000</td>\n",
       "      <td>2.240000</td>\n",
       "      <td>0.000000</td>\n",
       "      <td>NaN</td>\n",
       "      <td>-14140.701600</td>\n",
       "      <td>0.990000</td>\n",
       "      <td>...</td>\n",
       "      <td>NaN</td>\n",
       "      <td>NaN</td>\n",
       "      <td>NaN</td>\n",
       "      <td>NaN</td>\n",
       "      <td>NaN</td>\n",
       "      <td>NaN</td>\n",
       "      <td>NaN</td>\n",
       "      <td>NaN</td>\n",
       "      <td>0.350000</td>\n",
       "      <td>NaN</td>\n",
       "    </tr>\n",
       "    <tr>\n",
       "      <th>25%</th>\n",
       "      <td>2100.500000</td>\n",
       "      <td>15011.500000</td>\n",
       "      <td>NaN</td>\n",
       "      <td>NaN</td>\n",
       "      <td>13.000000</td>\n",
       "      <td>143.195000</td>\n",
       "      <td>0.020000</td>\n",
       "      <td>NaN</td>\n",
       "      <td>-83.315000</td>\n",
       "      <td>6.480000</td>\n",
       "      <td>...</td>\n",
       "      <td>NaN</td>\n",
       "      <td>NaN</td>\n",
       "      <td>NaN</td>\n",
       "      <td>NaN</td>\n",
       "      <td>NaN</td>\n",
       "      <td>NaN</td>\n",
       "      <td>NaN</td>\n",
       "      <td>NaN</td>\n",
       "      <td>0.380000</td>\n",
       "      <td>NaN</td>\n",
       "    </tr>\n",
       "    <tr>\n",
       "      <th>50%</th>\n",
       "      <td>4200.000000</td>\n",
       "      <td>29857.000000</td>\n",
       "      <td>NaN</td>\n",
       "      <td>NaN</td>\n",
       "      <td>26.000000</td>\n",
       "      <td>449.420000</td>\n",
       "      <td>0.050000</td>\n",
       "      <td>NaN</td>\n",
       "      <td>-1.500000</td>\n",
       "      <td>20.990000</td>\n",
       "      <td>...</td>\n",
       "      <td>NaN</td>\n",
       "      <td>NaN</td>\n",
       "      <td>NaN</td>\n",
       "      <td>NaN</td>\n",
       "      <td>NaN</td>\n",
       "      <td>NaN</td>\n",
       "      <td>NaN</td>\n",
       "      <td>NaN</td>\n",
       "      <td>0.520000</td>\n",
       "      <td>NaN</td>\n",
       "    </tr>\n",
       "    <tr>\n",
       "      <th>75%</th>\n",
       "      <td>6299.500000</td>\n",
       "      <td>44596.000000</td>\n",
       "      <td>NaN</td>\n",
       "      <td>NaN</td>\n",
       "      <td>38.000000</td>\n",
       "      <td>1709.320000</td>\n",
       "      <td>0.080000</td>\n",
       "      <td>NaN</td>\n",
       "      <td>162.748000</td>\n",
       "      <td>85.990000</td>\n",
       "      <td>...</td>\n",
       "      <td>NaN</td>\n",
       "      <td>NaN</td>\n",
       "      <td>NaN</td>\n",
       "      <td>NaN</td>\n",
       "      <td>NaN</td>\n",
       "      <td>NaN</td>\n",
       "      <td>NaN</td>\n",
       "      <td>NaN</td>\n",
       "      <td>0.590000</td>\n",
       "      <td>NaN</td>\n",
       "    </tr>\n",
       "    <tr>\n",
       "      <th>max</th>\n",
       "      <td>8399.000000</td>\n",
       "      <td>59973.000000</td>\n",
       "      <td>NaN</td>\n",
       "      <td>NaN</td>\n",
       "      <td>50.000000</td>\n",
       "      <td>89061.050000</td>\n",
       "      <td>0.250000</td>\n",
       "      <td>NaN</td>\n",
       "      <td>27220.690000</td>\n",
       "      <td>6783.020000</td>\n",
       "      <td>...</td>\n",
       "      <td>NaN</td>\n",
       "      <td>NaN</td>\n",
       "      <td>NaN</td>\n",
       "      <td>NaN</td>\n",
       "      <td>NaN</td>\n",
       "      <td>NaN</td>\n",
       "      <td>NaN</td>\n",
       "      <td>NaN</td>\n",
       "      <td>0.850000</td>\n",
       "      <td>NaN</td>\n",
       "    </tr>\n",
       "  </tbody>\n",
       "</table>\n",
       "<p>13 rows × 21 columns</p>\n",
       "</div>"
      ],
      "text/plain": [
       "             Row ID      Order ID           Order Date Order Priority  \\\n",
       "count   8399.000000   8399.000000                 8399           8399   \n",
       "unique          NaN           NaN                 1418              5   \n",
       "top             NaN           NaN  2012-03-28 00:00:00           High   \n",
       "freq            NaN           NaN                   20           1768   \n",
       "first           NaN           NaN  2009-01-01 00:00:00            NaN   \n",
       "last            NaN           NaN  2012-12-30 00:00:00            NaN   \n",
       "mean    4200.000000  29965.179783                  NaN            NaN   \n",
       "std     2424.726789  17260.883447                  NaN            NaN   \n",
       "min        1.000000      3.000000                  NaN            NaN   \n",
       "25%     2100.500000  15011.500000                  NaN            NaN   \n",
       "50%     4200.000000  29857.000000                  NaN            NaN   \n",
       "75%     6299.500000  44596.000000                  NaN            NaN   \n",
       "max     8399.000000  59973.000000                  NaN            NaN   \n",
       "\n",
       "        Order Quantity         Sales     Discount    Ship Mode        Profit  \\\n",
       "count      8399.000000   8399.000000  8399.000000         8399   8399.000000   \n",
       "unique             NaN           NaN          NaN            3           NaN   \n",
       "top                NaN           NaN          NaN  Regular Air           NaN   \n",
       "freq               NaN           NaN          NaN         6270           NaN   \n",
       "first              NaN           NaN          NaN          NaN           NaN   \n",
       "last               NaN           NaN          NaN          NaN           NaN   \n",
       "mean         25.571735   1775.878179     0.049671          NaN    181.184422   \n",
       "std          14.481071   3585.050525     0.031823          NaN   1196.653326   \n",
       "min           1.000000      2.240000     0.000000          NaN -14140.701600   \n",
       "25%          13.000000    143.195000     0.020000          NaN    -83.315000   \n",
       "50%          26.000000    449.420000     0.050000          NaN     -1.500000   \n",
       "75%          38.000000   1709.320000     0.080000          NaN    162.748000   \n",
       "max          50.000000  89061.050000     0.250000          NaN  27220.690000   \n",
       "\n",
       "         Unit Price         ...           Customer Name Province Region  \\\n",
       "count   8399.000000         ...                    8399     8399   8399   \n",
       "unique          NaN         ...                     795       13      8   \n",
       "top             NaN         ...             Darren Budd  Ontario   West   \n",
       "freq            NaN         ...                      41     1826   1991   \n",
       "first           NaN         ...                     NaN      NaN    NaN   \n",
       "last            NaN         ...                     NaN      NaN    NaN   \n",
       "mean      89.346259         ...                     NaN      NaN    NaN   \n",
       "std      290.354383         ...                     NaN      NaN    NaN   \n",
       "min        0.990000         ...                     NaN      NaN    NaN   \n",
       "25%        6.480000         ...                     NaN      NaN    NaN   \n",
       "50%       20.990000         ...                     NaN      NaN    NaN   \n",
       "75%       85.990000         ...                     NaN      NaN    NaN   \n",
       "max     6783.020000         ...                     NaN      NaN    NaN   \n",
       "\n",
       "       Customer Segment Product Category Product Sub-Category  \\\n",
       "count              8399             8399                 8399   \n",
       "unique                4                3                   17   \n",
       "top           Corporate  Office Supplies                Paper   \n",
       "freq               3076             4610                 1225   \n",
       "first               NaN              NaN                  NaN   \n",
       "last                NaN              NaN                  NaN   \n",
       "mean                NaN              NaN                  NaN   \n",
       "std                 NaN              NaN                  NaN   \n",
       "min                 NaN              NaN                  NaN   \n",
       "25%                 NaN              NaN                  NaN   \n",
       "50%                 NaN              NaN                  NaN   \n",
       "75%                 NaN              NaN                  NaN   \n",
       "max                 NaN              NaN                  NaN   \n",
       "\n",
       "                                     Product Name Product Container  \\\n",
       "count                                        8399              8399   \n",
       "unique                                       1263                 7   \n",
       "top     Global High-Back Leather Tilter, Burgundy         Small Box   \n",
       "freq                                           24              4347   \n",
       "first                                         NaN               NaN   \n",
       "last                                          NaN               NaN   \n",
       "mean                                          NaN               NaN   \n",
       "std                                           NaN               NaN   \n",
       "min                                           NaN               NaN   \n",
       "25%                                           NaN               NaN   \n",
       "50%                                           NaN               NaN   \n",
       "75%                                           NaN               NaN   \n",
       "max                                           NaN               NaN   \n",
       "\n",
       "       Product Base Margin            Ship Date  \n",
       "count          8336.000000                 8399  \n",
       "unique                 NaN                 1450  \n",
       "top                    NaN  2011-05-21 00:00:00  \n",
       "freq                   NaN                   19  \n",
       "first                  NaN  2009-01-02 00:00:00  \n",
       "last                   NaN  2012-12-30 00:00:00  \n",
       "mean              0.512513                  NaN  \n",
       "std               0.135589                  NaN  \n",
       "min               0.350000                  NaN  \n",
       "25%               0.380000                  NaN  \n",
       "50%               0.520000                  NaN  \n",
       "75%               0.590000                  NaN  \n",
       "max               0.850000                  NaN  \n",
       "\n",
       "[13 rows x 21 columns]"
      ]
     },
     "execution_count": 8,
     "metadata": {},
     "output_type": "execute_result"
    }
   ],
   "source": [
    "orders.describe(include='all')"
   ]
  },
  {
   "cell_type": "code",
   "execution_count": 9,
   "metadata": {},
   "outputs": [
    {
     "data": {
      "text/html": [
       "<div>\n",
       "<style scoped>\n",
       "    .dataframe tbody tr th:only-of-type {\n",
       "        vertical-align: middle;\n",
       "    }\n",
       "\n",
       "    .dataframe tbody tr th {\n",
       "        vertical-align: top;\n",
       "    }\n",
       "\n",
       "    .dataframe thead th {\n",
       "        text-align: right;\n",
       "    }\n",
       "</style>\n",
       "<table border=\"1\" class=\"dataframe\">\n",
       "  <thead>\n",
       "    <tr style=\"text-align: right;\">\n",
       "      <th></th>\n",
       "      <th>Order Priority</th>\n",
       "      <th>Ship Mode</th>\n",
       "      <th>Customer Name</th>\n",
       "      <th>Province</th>\n",
       "      <th>Region</th>\n",
       "      <th>Customer Segment</th>\n",
       "      <th>Product Category</th>\n",
       "      <th>Product Sub-Category</th>\n",
       "      <th>Product Name</th>\n",
       "      <th>Product Container</th>\n",
       "    </tr>\n",
       "  </thead>\n",
       "  <tbody>\n",
       "    <tr>\n",
       "      <th>count</th>\n",
       "      <td>8399</td>\n",
       "      <td>8399</td>\n",
       "      <td>8399</td>\n",
       "      <td>8399</td>\n",
       "      <td>8399</td>\n",
       "      <td>8399</td>\n",
       "      <td>8399</td>\n",
       "      <td>8399</td>\n",
       "      <td>8399</td>\n",
       "      <td>8399</td>\n",
       "    </tr>\n",
       "    <tr>\n",
       "      <th>unique</th>\n",
       "      <td>5</td>\n",
       "      <td>3</td>\n",
       "      <td>795</td>\n",
       "      <td>13</td>\n",
       "      <td>8</td>\n",
       "      <td>4</td>\n",
       "      <td>3</td>\n",
       "      <td>17</td>\n",
       "      <td>1263</td>\n",
       "      <td>7</td>\n",
       "    </tr>\n",
       "    <tr>\n",
       "      <th>top</th>\n",
       "      <td>High</td>\n",
       "      <td>Regular Air</td>\n",
       "      <td>Darren Budd</td>\n",
       "      <td>Ontario</td>\n",
       "      <td>West</td>\n",
       "      <td>Corporate</td>\n",
       "      <td>Office Supplies</td>\n",
       "      <td>Paper</td>\n",
       "      <td>Global High-Back Leather Tilter, Burgundy</td>\n",
       "      <td>Small Box</td>\n",
       "    </tr>\n",
       "    <tr>\n",
       "      <th>freq</th>\n",
       "      <td>1768</td>\n",
       "      <td>6270</td>\n",
       "      <td>41</td>\n",
       "      <td>1826</td>\n",
       "      <td>1991</td>\n",
       "      <td>3076</td>\n",
       "      <td>4610</td>\n",
       "      <td>1225</td>\n",
       "      <td>24</td>\n",
       "      <td>4347</td>\n",
       "    </tr>\n",
       "  </tbody>\n",
       "</table>\n",
       "</div>"
      ],
      "text/plain": [
       "       Order Priority    Ship Mode Customer Name Province Region  \\\n",
       "count            8399         8399          8399     8399   8399   \n",
       "unique              5            3           795       13      8   \n",
       "top              High  Regular Air   Darren Budd  Ontario   West   \n",
       "freq             1768         6270            41     1826   1991   \n",
       "\n",
       "       Customer Segment Product Category Product Sub-Category  \\\n",
       "count              8399             8399                 8399   \n",
       "unique                4                3                   17   \n",
       "top           Corporate  Office Supplies                Paper   \n",
       "freq               3076             4610                 1225   \n",
       "\n",
       "                                     Product Name Product Container  \n",
       "count                                        8399              8399  \n",
       "unique                                       1263                 7  \n",
       "top     Global High-Back Leather Tilter, Burgundy         Small Box  \n",
       "freq                                           24              4347  "
      ]
     },
     "execution_count": 9,
     "metadata": {},
     "output_type": "execute_result"
    }
   ],
   "source": [
    "orders.describe(include='object')"
   ]
  },
  {
   "cell_type": "code",
   "execution_count": 10,
   "metadata": {},
   "outputs": [
    {
     "data": {
      "text/html": [
       "<div>\n",
       "<style scoped>\n",
       "    .dataframe tbody tr th:only-of-type {\n",
       "        vertical-align: middle;\n",
       "    }\n",
       "\n",
       "    .dataframe tbody tr th {\n",
       "        vertical-align: top;\n",
       "    }\n",
       "\n",
       "    .dataframe thead th {\n",
       "        text-align: right;\n",
       "    }\n",
       "</style>\n",
       "<table border=\"1\" class=\"dataframe\">\n",
       "  <thead>\n",
       "    <tr style=\"text-align: right;\">\n",
       "      <th></th>\n",
       "      <th>Order Priority</th>\n",
       "      <th>Sales</th>\n",
       "      <th>Discount</th>\n",
       "      <th>Ship Mode</th>\n",
       "      <th>Profit</th>\n",
       "      <th>Unit Price</th>\n",
       "      <th>Shipping Cost</th>\n",
       "      <th>Customer Name</th>\n",
       "      <th>Province</th>\n",
       "      <th>Region</th>\n",
       "      <th>Customer Segment</th>\n",
       "      <th>Product Category</th>\n",
       "      <th>Product Sub-Category</th>\n",
       "      <th>Product Name</th>\n",
       "      <th>Product Container</th>\n",
       "      <th>Product Base Margin</th>\n",
       "    </tr>\n",
       "  </thead>\n",
       "  <tbody>\n",
       "    <tr>\n",
       "      <th>count</th>\n",
       "      <td>8399</td>\n",
       "      <td>8399.000000</td>\n",
       "      <td>8399.000000</td>\n",
       "      <td>8399</td>\n",
       "      <td>8399.000000</td>\n",
       "      <td>8399.000000</td>\n",
       "      <td>8399.000000</td>\n",
       "      <td>8399</td>\n",
       "      <td>8399</td>\n",
       "      <td>8399</td>\n",
       "      <td>8399</td>\n",
       "      <td>8399</td>\n",
       "      <td>8399</td>\n",
       "      <td>8399</td>\n",
       "      <td>8399</td>\n",
       "      <td>8336.000000</td>\n",
       "    </tr>\n",
       "    <tr>\n",
       "      <th>unique</th>\n",
       "      <td>5</td>\n",
       "      <td>NaN</td>\n",
       "      <td>NaN</td>\n",
       "      <td>3</td>\n",
       "      <td>NaN</td>\n",
       "      <td>NaN</td>\n",
       "      <td>NaN</td>\n",
       "      <td>795</td>\n",
       "      <td>13</td>\n",
       "      <td>8</td>\n",
       "      <td>4</td>\n",
       "      <td>3</td>\n",
       "      <td>17</td>\n",
       "      <td>1263</td>\n",
       "      <td>7</td>\n",
       "      <td>NaN</td>\n",
       "    </tr>\n",
       "    <tr>\n",
       "      <th>top</th>\n",
       "      <td>High</td>\n",
       "      <td>NaN</td>\n",
       "      <td>NaN</td>\n",
       "      <td>Regular Air</td>\n",
       "      <td>NaN</td>\n",
       "      <td>NaN</td>\n",
       "      <td>NaN</td>\n",
       "      <td>Darren Budd</td>\n",
       "      <td>Ontario</td>\n",
       "      <td>West</td>\n",
       "      <td>Corporate</td>\n",
       "      <td>Office Supplies</td>\n",
       "      <td>Paper</td>\n",
       "      <td>Global High-Back Leather Tilter, Burgundy</td>\n",
       "      <td>Small Box</td>\n",
       "      <td>NaN</td>\n",
       "    </tr>\n",
       "    <tr>\n",
       "      <th>freq</th>\n",
       "      <td>1768</td>\n",
       "      <td>NaN</td>\n",
       "      <td>NaN</td>\n",
       "      <td>6270</td>\n",
       "      <td>NaN</td>\n",
       "      <td>NaN</td>\n",
       "      <td>NaN</td>\n",
       "      <td>41</td>\n",
       "      <td>1826</td>\n",
       "      <td>1991</td>\n",
       "      <td>3076</td>\n",
       "      <td>4610</td>\n",
       "      <td>1225</td>\n",
       "      <td>24</td>\n",
       "      <td>4347</td>\n",
       "      <td>NaN</td>\n",
       "    </tr>\n",
       "    <tr>\n",
       "      <th>mean</th>\n",
       "      <td>NaN</td>\n",
       "      <td>1775.878179</td>\n",
       "      <td>0.049671</td>\n",
       "      <td>NaN</td>\n",
       "      <td>181.184422</td>\n",
       "      <td>89.346259</td>\n",
       "      <td>12.838557</td>\n",
       "      <td>NaN</td>\n",
       "      <td>NaN</td>\n",
       "      <td>NaN</td>\n",
       "      <td>NaN</td>\n",
       "      <td>NaN</td>\n",
       "      <td>NaN</td>\n",
       "      <td>NaN</td>\n",
       "      <td>NaN</td>\n",
       "      <td>0.512513</td>\n",
       "    </tr>\n",
       "    <tr>\n",
       "      <th>std</th>\n",
       "      <td>NaN</td>\n",
       "      <td>3585.050525</td>\n",
       "      <td>0.031823</td>\n",
       "      <td>NaN</td>\n",
       "      <td>1196.653326</td>\n",
       "      <td>290.354383</td>\n",
       "      <td>17.264052</td>\n",
       "      <td>NaN</td>\n",
       "      <td>NaN</td>\n",
       "      <td>NaN</td>\n",
       "      <td>NaN</td>\n",
       "      <td>NaN</td>\n",
       "      <td>NaN</td>\n",
       "      <td>NaN</td>\n",
       "      <td>NaN</td>\n",
       "      <td>0.135589</td>\n",
       "    </tr>\n",
       "    <tr>\n",
       "      <th>min</th>\n",
       "      <td>NaN</td>\n",
       "      <td>2.240000</td>\n",
       "      <td>0.000000</td>\n",
       "      <td>NaN</td>\n",
       "      <td>-14140.701600</td>\n",
       "      <td>0.990000</td>\n",
       "      <td>0.490000</td>\n",
       "      <td>NaN</td>\n",
       "      <td>NaN</td>\n",
       "      <td>NaN</td>\n",
       "      <td>NaN</td>\n",
       "      <td>NaN</td>\n",
       "      <td>NaN</td>\n",
       "      <td>NaN</td>\n",
       "      <td>NaN</td>\n",
       "      <td>0.350000</td>\n",
       "    </tr>\n",
       "    <tr>\n",
       "      <th>25%</th>\n",
       "      <td>NaN</td>\n",
       "      <td>143.195000</td>\n",
       "      <td>0.020000</td>\n",
       "      <td>NaN</td>\n",
       "      <td>-83.315000</td>\n",
       "      <td>6.480000</td>\n",
       "      <td>3.300000</td>\n",
       "      <td>NaN</td>\n",
       "      <td>NaN</td>\n",
       "      <td>NaN</td>\n",
       "      <td>NaN</td>\n",
       "      <td>NaN</td>\n",
       "      <td>NaN</td>\n",
       "      <td>NaN</td>\n",
       "      <td>NaN</td>\n",
       "      <td>0.380000</td>\n",
       "    </tr>\n",
       "    <tr>\n",
       "      <th>50%</th>\n",
       "      <td>NaN</td>\n",
       "      <td>449.420000</td>\n",
       "      <td>0.050000</td>\n",
       "      <td>NaN</td>\n",
       "      <td>-1.500000</td>\n",
       "      <td>20.990000</td>\n",
       "      <td>6.070000</td>\n",
       "      <td>NaN</td>\n",
       "      <td>NaN</td>\n",
       "      <td>NaN</td>\n",
       "      <td>NaN</td>\n",
       "      <td>NaN</td>\n",
       "      <td>NaN</td>\n",
       "      <td>NaN</td>\n",
       "      <td>NaN</td>\n",
       "      <td>0.520000</td>\n",
       "    </tr>\n",
       "    <tr>\n",
       "      <th>75%</th>\n",
       "      <td>NaN</td>\n",
       "      <td>1709.320000</td>\n",
       "      <td>0.080000</td>\n",
       "      <td>NaN</td>\n",
       "      <td>162.748000</td>\n",
       "      <td>85.990000</td>\n",
       "      <td>13.990000</td>\n",
       "      <td>NaN</td>\n",
       "      <td>NaN</td>\n",
       "      <td>NaN</td>\n",
       "      <td>NaN</td>\n",
       "      <td>NaN</td>\n",
       "      <td>NaN</td>\n",
       "      <td>NaN</td>\n",
       "      <td>NaN</td>\n",
       "      <td>0.590000</td>\n",
       "    </tr>\n",
       "    <tr>\n",
       "      <th>max</th>\n",
       "      <td>NaN</td>\n",
       "      <td>89061.050000</td>\n",
       "      <td>0.250000</td>\n",
       "      <td>NaN</td>\n",
       "      <td>27220.690000</td>\n",
       "      <td>6783.020000</td>\n",
       "      <td>164.730000</td>\n",
       "      <td>NaN</td>\n",
       "      <td>NaN</td>\n",
       "      <td>NaN</td>\n",
       "      <td>NaN</td>\n",
       "      <td>NaN</td>\n",
       "      <td>NaN</td>\n",
       "      <td>NaN</td>\n",
       "      <td>NaN</td>\n",
       "      <td>0.850000</td>\n",
       "    </tr>\n",
       "  </tbody>\n",
       "</table>\n",
       "</div>"
      ],
      "text/plain": [
       "       Order Priority         Sales     Discount    Ship Mode        Profit  \\\n",
       "count            8399   8399.000000  8399.000000         8399   8399.000000   \n",
       "unique              5           NaN          NaN            3           NaN   \n",
       "top              High           NaN          NaN  Regular Air           NaN   \n",
       "freq             1768           NaN          NaN         6270           NaN   \n",
       "mean              NaN   1775.878179     0.049671          NaN    181.184422   \n",
       "std               NaN   3585.050525     0.031823          NaN   1196.653326   \n",
       "min               NaN      2.240000     0.000000          NaN -14140.701600   \n",
       "25%               NaN    143.195000     0.020000          NaN    -83.315000   \n",
       "50%               NaN    449.420000     0.050000          NaN     -1.500000   \n",
       "75%               NaN   1709.320000     0.080000          NaN    162.748000   \n",
       "max               NaN  89061.050000     0.250000          NaN  27220.690000   \n",
       "\n",
       "         Unit Price  Shipping Cost Customer Name Province Region  \\\n",
       "count   8399.000000    8399.000000          8399     8399   8399   \n",
       "unique          NaN            NaN           795       13      8   \n",
       "top             NaN            NaN   Darren Budd  Ontario   West   \n",
       "freq            NaN            NaN            41     1826   1991   \n",
       "mean      89.346259      12.838557           NaN      NaN    NaN   \n",
       "std      290.354383      17.264052           NaN      NaN    NaN   \n",
       "min        0.990000       0.490000           NaN      NaN    NaN   \n",
       "25%        6.480000       3.300000           NaN      NaN    NaN   \n",
       "50%       20.990000       6.070000           NaN      NaN    NaN   \n",
       "75%       85.990000      13.990000           NaN      NaN    NaN   \n",
       "max     6783.020000     164.730000           NaN      NaN    NaN   \n",
       "\n",
       "       Customer Segment Product Category Product Sub-Category  \\\n",
       "count              8399             8399                 8399   \n",
       "unique                4                3                   17   \n",
       "top           Corporate  Office Supplies                Paper   \n",
       "freq               3076             4610                 1225   \n",
       "mean                NaN              NaN                  NaN   \n",
       "std                 NaN              NaN                  NaN   \n",
       "min                 NaN              NaN                  NaN   \n",
       "25%                 NaN              NaN                  NaN   \n",
       "50%                 NaN              NaN                  NaN   \n",
       "75%                 NaN              NaN                  NaN   \n",
       "max                 NaN              NaN                  NaN   \n",
       "\n",
       "                                     Product Name Product Container  \\\n",
       "count                                        8399              8399   \n",
       "unique                                       1263                 7   \n",
       "top     Global High-Back Leather Tilter, Burgundy         Small Box   \n",
       "freq                                           24              4347   \n",
       "mean                                          NaN               NaN   \n",
       "std                                           NaN               NaN   \n",
       "min                                           NaN               NaN   \n",
       "25%                                           NaN               NaN   \n",
       "50%                                           NaN               NaN   \n",
       "75%                                           NaN               NaN   \n",
       "max                                           NaN               NaN   \n",
       "\n",
       "        Product Base Margin  \n",
       "count           8336.000000  \n",
       "unique                  NaN  \n",
       "top                     NaN  \n",
       "freq                    NaN  \n",
       "mean               0.512513  \n",
       "std                0.135589  \n",
       "min                0.350000  \n",
       "25%                0.380000  \n",
       "50%                0.520000  \n",
       "75%                0.590000  \n",
       "max                0.850000  "
      ]
     },
     "execution_count": 10,
     "metadata": {},
     "output_type": "execute_result"
    }
   ],
   "source": [
    "orders.describe(include=['object', 'float'])"
   ]
  },
  {
   "cell_type": "code",
   "execution_count": 11,
   "metadata": {},
   "outputs": [
    {
     "data": {
      "text/html": [
       "<div>\n",
       "<style scoped>\n",
       "    .dataframe tbody tr th:only-of-type {\n",
       "        vertical-align: middle;\n",
       "    }\n",
       "\n",
       "    .dataframe tbody tr th {\n",
       "        vertical-align: top;\n",
       "    }\n",
       "\n",
       "    .dataframe thead th {\n",
       "        text-align: right;\n",
       "    }\n",
       "</style>\n",
       "<table border=\"1\" class=\"dataframe\">\n",
       "  <thead>\n",
       "    <tr style=\"text-align: right;\">\n",
       "      <th></th>\n",
       "      <th>Row ID</th>\n",
       "      <th>Order ID</th>\n",
       "      <th>Order Quantity</th>\n",
       "      <th>Sales</th>\n",
       "      <th>Discount</th>\n",
       "      <th>Profit</th>\n",
       "      <th>Unit Price</th>\n",
       "      <th>Shipping Cost</th>\n",
       "      <th>Product Base Margin</th>\n",
       "    </tr>\n",
       "  </thead>\n",
       "  <tbody>\n",
       "    <tr>\n",
       "      <th>count</th>\n",
       "      <td>1768.000000</td>\n",
       "      <td>1768.000000</td>\n",
       "      <td>1768.000000</td>\n",
       "      <td>1768.00000</td>\n",
       "      <td>1768.000000</td>\n",
       "      <td>1768.000000</td>\n",
       "      <td>1768.000000</td>\n",
       "      <td>1768.000000</td>\n",
       "      <td>1755.000000</td>\n",
       "    </tr>\n",
       "    <tr>\n",
       "      <th>mean</th>\n",
       "      <td>4280.267534</td>\n",
       "      <td>30541.058824</td>\n",
       "      <td>25.834276</td>\n",
       "      <td>1848.05224</td>\n",
       "      <td>0.049446</td>\n",
       "      <td>230.243022</td>\n",
       "      <td>88.736985</td>\n",
       "      <td>12.819808</td>\n",
       "      <td>0.513350</td>\n",
       "    </tr>\n",
       "    <tr>\n",
       "      <th>std</th>\n",
       "      <td>2453.694215</td>\n",
       "      <td>17472.590404</td>\n",
       "      <td>14.544867</td>\n",
       "      <td>3550.53304</td>\n",
       "      <td>0.031761</td>\n",
       "      <td>1293.987581</td>\n",
       "      <td>239.446384</td>\n",
       "      <td>16.898160</td>\n",
       "      <td>0.133185</td>\n",
       "    </tr>\n",
       "    <tr>\n",
       "      <th>min</th>\n",
       "      <td>3.000000</td>\n",
       "      <td>32.000000</td>\n",
       "      <td>1.000000</td>\n",
       "      <td>3.41000</td>\n",
       "      <td>0.000000</td>\n",
       "      <td>-11861.460000</td>\n",
       "      <td>1.260000</td>\n",
       "      <td>0.490000</td>\n",
       "      <td>0.350000</td>\n",
       "    </tr>\n",
       "    <tr>\n",
       "      <th>25%</th>\n",
       "      <td>2190.500000</td>\n",
       "      <td>15780.250000</td>\n",
       "      <td>13.000000</td>\n",
       "      <td>157.86500</td>\n",
       "      <td>0.020000</td>\n",
       "      <td>-83.292500</td>\n",
       "      <td>6.680000</td>\n",
       "      <td>3.000000</td>\n",
       "      <td>0.380000</td>\n",
       "    </tr>\n",
       "    <tr>\n",
       "      <th>50%</th>\n",
       "      <td>4283.500000</td>\n",
       "      <td>30515.500000</td>\n",
       "      <td>26.000000</td>\n",
       "      <td>464.25000</td>\n",
       "      <td>0.050000</td>\n",
       "      <td>0.990000</td>\n",
       "      <td>21.980000</td>\n",
       "      <td>6.130000</td>\n",
       "      <td>0.530000</td>\n",
       "    </tr>\n",
       "    <tr>\n",
       "      <th>75%</th>\n",
       "      <td>6469.250000</td>\n",
       "      <td>46050.000000</td>\n",
       "      <td>39.000000</td>\n",
       "      <td>1770.55925</td>\n",
       "      <td>0.080000</td>\n",
       "      <td>174.738125</td>\n",
       "      <td>95.560000</td>\n",
       "      <td>13.990000</td>\n",
       "      <td>0.590000</td>\n",
       "    </tr>\n",
       "    <tr>\n",
       "      <th>max</th>\n",
       "      <td>8394.000000</td>\n",
       "      <td>59969.000000</td>\n",
       "      <td>50.000000</td>\n",
       "      <td>28664.52000</td>\n",
       "      <td>0.100000</td>\n",
       "      <td>13340.260000</td>\n",
       "      <td>3502.140000</td>\n",
       "      <td>110.200000</td>\n",
       "      <td>0.850000</td>\n",
       "    </tr>\n",
       "  </tbody>\n",
       "</table>\n",
       "</div>"
      ],
      "text/plain": [
       "            Row ID      Order ID  Order Quantity        Sales     Discount  \\\n",
       "count  1768.000000   1768.000000     1768.000000   1768.00000  1768.000000   \n",
       "mean   4280.267534  30541.058824       25.834276   1848.05224     0.049446   \n",
       "std    2453.694215  17472.590404       14.544867   3550.53304     0.031761   \n",
       "min       3.000000     32.000000        1.000000      3.41000     0.000000   \n",
       "25%    2190.500000  15780.250000       13.000000    157.86500     0.020000   \n",
       "50%    4283.500000  30515.500000       26.000000    464.25000     0.050000   \n",
       "75%    6469.250000  46050.000000       39.000000   1770.55925     0.080000   \n",
       "max    8394.000000  59969.000000       50.000000  28664.52000     0.100000   \n",
       "\n",
       "             Profit   Unit Price  Shipping Cost  Product Base Margin  \n",
       "count   1768.000000  1768.000000    1768.000000          1755.000000  \n",
       "mean     230.243022    88.736985      12.819808             0.513350  \n",
       "std     1293.987581   239.446384      16.898160             0.133185  \n",
       "min   -11861.460000     1.260000       0.490000             0.350000  \n",
       "25%      -83.292500     6.680000       3.000000             0.380000  \n",
       "50%        0.990000    21.980000       6.130000             0.530000  \n",
       "75%      174.738125    95.560000      13.990000             0.590000  \n",
       "max    13340.260000  3502.140000     110.200000             0.850000  "
      ]
     },
     "execution_count": 11,
     "metadata": {},
     "output_type": "execute_result"
    }
   ],
   "source": [
    "orders[orders['Order Priority']== 'High']. describe()"
   ]
  },
  {
   "cell_type": "code",
   "execution_count": 12,
   "metadata": {},
   "outputs": [
    {
     "data": {
      "text/html": [
       "<div>\n",
       "<style scoped>\n",
       "    .dataframe tbody tr th:only-of-type {\n",
       "        vertical-align: middle;\n",
       "    }\n",
       "\n",
       "    .dataframe tbody tr th {\n",
       "        vertical-align: top;\n",
       "    }\n",
       "\n",
       "    .dataframe thead th {\n",
       "        text-align: right;\n",
       "    }\n",
       "</style>\n",
       "<table border=\"1\" class=\"dataframe\">\n",
       "  <thead>\n",
       "    <tr style=\"text-align: right;\">\n",
       "      <th></th>\n",
       "      <th>Row ID</th>\n",
       "      <th>Order ID</th>\n",
       "      <th>Order Quantity</th>\n",
       "      <th>Sales</th>\n",
       "      <th>Discount</th>\n",
       "      <th>Profit</th>\n",
       "      <th>Unit Price</th>\n",
       "      <th>Shipping Cost</th>\n",
       "      <th>Product Base Margin</th>\n",
       "    </tr>\n",
       "  </thead>\n",
       "  <tbody>\n",
       "    <tr>\n",
       "      <th>count</th>\n",
       "      <td>68.000000</td>\n",
       "      <td>68.000000</td>\n",
       "      <td>68.000000</td>\n",
       "      <td>68.000000</td>\n",
       "      <td>68.000000</td>\n",
       "      <td>68.000000</td>\n",
       "      <td>68.000000</td>\n",
       "      <td>68.000000</td>\n",
       "      <td>67.000000</td>\n",
       "    </tr>\n",
       "    <tr>\n",
       "      <th>mean</th>\n",
       "      <td>4548.926471</td>\n",
       "      <td>32442.308824</td>\n",
       "      <td>36.044118</td>\n",
       "      <td>16129.923059</td>\n",
       "      <td>0.043824</td>\n",
       "      <td>4003.466282</td>\n",
       "      <td>557.899118</td>\n",
       "      <td>35.634118</td>\n",
       "      <td>0.523881</td>\n",
       "    </tr>\n",
       "    <tr>\n",
       "      <th>std</th>\n",
       "      <td>2613.045814</td>\n",
       "      <td>18626.326331</td>\n",
       "      <td>10.912725</td>\n",
       "      <td>5094.178907</td>\n",
       "      <td>0.029626</td>\n",
       "      <td>3948.943598</td>\n",
       "      <td>471.986656</td>\n",
       "      <td>20.791751</td>\n",
       "      <td>0.129169</td>\n",
       "    </tr>\n",
       "    <tr>\n",
       "      <th>min</th>\n",
       "      <td>49.000000</td>\n",
       "      <td>293.000000</td>\n",
       "      <td>3.000000</td>\n",
       "      <td>10071.090000</td>\n",
       "      <td>0.000000</td>\n",
       "      <td>-8389.470900</td>\n",
       "      <td>208.160000</td>\n",
       "      <td>8.730000</td>\n",
       "      <td>0.350000</td>\n",
       "    </tr>\n",
       "    <tr>\n",
       "      <th>25%</th>\n",
       "      <td>2517.500000</td>\n",
       "      <td>18157.500000</td>\n",
       "      <td>30.000000</td>\n",
       "      <td>12264.360000</td>\n",
       "      <td>0.017500</td>\n",
       "      <td>1081.835000</td>\n",
       "      <td>350.605000</td>\n",
       "      <td>19.990000</td>\n",
       "      <td>0.380000</td>\n",
       "    </tr>\n",
       "    <tr>\n",
       "      <th>50%</th>\n",
       "      <td>4205.000000</td>\n",
       "      <td>29876.500000</td>\n",
       "      <td>39.000000</td>\n",
       "      <td>14709.315000</td>\n",
       "      <td>0.040000</td>\n",
       "      <td>4306.494000</td>\n",
       "      <td>449.990000</td>\n",
       "      <td>26.000000</td>\n",
       "      <td>0.560000</td>\n",
       "    </tr>\n",
       "    <tr>\n",
       "      <th>75%</th>\n",
       "      <td>7193.250000</td>\n",
       "      <td>51314.750000</td>\n",
       "      <td>44.000000</td>\n",
       "      <td>19524.586500</td>\n",
       "      <td>0.070000</td>\n",
       "      <td>7057.997625</td>\n",
       "      <td>550.980000</td>\n",
       "      <td>46.340000</td>\n",
       "      <td>0.600000</td>\n",
       "    </tr>\n",
       "    <tr>\n",
       "      <th>max</th>\n",
       "      <td>8325.000000</td>\n",
       "      <td>59491.000000</td>\n",
       "      <td>50.000000</td>\n",
       "      <td>28664.520000</td>\n",
       "      <td>0.100000</td>\n",
       "      <td>13340.260000</td>\n",
       "      <td>3502.140000</td>\n",
       "      <td>99.000000</td>\n",
       "      <td>0.810000</td>\n",
       "    </tr>\n",
       "  </tbody>\n",
       "</table>\n",
       "</div>"
      ],
      "text/plain": [
       "            Row ID      Order ID  Order Quantity         Sales   Discount  \\\n",
       "count    68.000000     68.000000       68.000000     68.000000  68.000000   \n",
       "mean   4548.926471  32442.308824       36.044118  16129.923059   0.043824   \n",
       "std    2613.045814  18626.326331       10.912725   5094.178907   0.029626   \n",
       "min      49.000000    293.000000        3.000000  10071.090000   0.000000   \n",
       "25%    2517.500000  18157.500000       30.000000  12264.360000   0.017500   \n",
       "50%    4205.000000  29876.500000       39.000000  14709.315000   0.040000   \n",
       "75%    7193.250000  51314.750000       44.000000  19524.586500   0.070000   \n",
       "max    8325.000000  59491.000000       50.000000  28664.520000   0.100000   \n",
       "\n",
       "             Profit   Unit Price  Shipping Cost  Product Base Margin  \n",
       "count     68.000000    68.000000      68.000000            67.000000  \n",
       "mean    4003.466282   557.899118      35.634118             0.523881  \n",
       "std     3948.943598   471.986656      20.791751             0.129169  \n",
       "min    -8389.470900   208.160000       8.730000             0.350000  \n",
       "25%     1081.835000   350.605000      19.990000             0.380000  \n",
       "50%     4306.494000   449.990000      26.000000             0.560000  \n",
       "75%     7057.997625   550.980000      46.340000             0.600000  \n",
       "max    13340.260000  3502.140000      99.000000             0.810000  "
      ]
     },
     "execution_count": 12,
     "metadata": {},
     "output_type": "execute_result"
    }
   ],
   "source": [
    "orders[(orders['Order Priority']== 'High') & (orders.Sales >= 10000)].describe()"
   ]
  },
  {
   "cell_type": "markdown",
   "metadata": {},
   "source": [
    "### TED dataset\n",
    "https://www.kaggle.com/rounakbanik/ted-talks"
   ]
  },
  {
   "cell_type": "code",
   "execution_count": 13,
   "metadata": {},
   "outputs": [],
   "source": [
    "ted = pd.read_csv('ted.csv')"
   ]
  },
  {
   "cell_type": "code",
   "execution_count": 14,
   "metadata": {},
   "outputs": [
    {
     "data": {
      "text/html": [
       "<div>\n",
       "<style scoped>\n",
       "    .dataframe tbody tr th:only-of-type {\n",
       "        vertical-align: middle;\n",
       "    }\n",
       "\n",
       "    .dataframe tbody tr th {\n",
       "        vertical-align: top;\n",
       "    }\n",
       "\n",
       "    .dataframe thead th {\n",
       "        text-align: right;\n",
       "    }\n",
       "</style>\n",
       "<table border=\"1\" class=\"dataframe\">\n",
       "  <thead>\n",
       "    <tr style=\"text-align: right;\">\n",
       "      <th></th>\n",
       "      <th>comments</th>\n",
       "      <th>description</th>\n",
       "      <th>duration</th>\n",
       "      <th>event</th>\n",
       "      <th>film_date</th>\n",
       "      <th>languages</th>\n",
       "      <th>main_speaker</th>\n",
       "      <th>name</th>\n",
       "      <th>num_speaker</th>\n",
       "      <th>published_date</th>\n",
       "      <th>ratings</th>\n",
       "      <th>related_talks</th>\n",
       "      <th>speaker_occupation</th>\n",
       "      <th>tags</th>\n",
       "      <th>title</th>\n",
       "      <th>url</th>\n",
       "      <th>views</th>\n",
       "    </tr>\n",
       "  </thead>\n",
       "  <tbody>\n",
       "    <tr>\n",
       "      <th>0</th>\n",
       "      <td>4553</td>\n",
       "      <td>Sir Ken Robinson makes an entertaining and pro...</td>\n",
       "      <td>1164</td>\n",
       "      <td>TED2006</td>\n",
       "      <td>1140825600</td>\n",
       "      <td>60</td>\n",
       "      <td>Ken Robinson</td>\n",
       "      <td>Ken Robinson: Do schools kill creativity?</td>\n",
       "      <td>1</td>\n",
       "      <td>1151367060</td>\n",
       "      <td>[{'id': 7, 'name': 'Funny', 'count': 19645}, {...</td>\n",
       "      <td>[{'id': 865, 'hero': 'https://pe.tedcdn.com/im...</td>\n",
       "      <td>Author/educator</td>\n",
       "      <td>['children', 'creativity', 'culture', 'dance',...</td>\n",
       "      <td>Do schools kill creativity?</td>\n",
       "      <td>https://www.ted.com/talks/ken_robinson_says_sc...</td>\n",
       "      <td>47227110</td>\n",
       "    </tr>\n",
       "    <tr>\n",
       "      <th>1</th>\n",
       "      <td>265</td>\n",
       "      <td>With the same humor and humanity he exuded in ...</td>\n",
       "      <td>977</td>\n",
       "      <td>TED2006</td>\n",
       "      <td>1140825600</td>\n",
       "      <td>43</td>\n",
       "      <td>Al Gore</td>\n",
       "      <td>Al Gore: Averting the climate crisis</td>\n",
       "      <td>1</td>\n",
       "      <td>1151367060</td>\n",
       "      <td>[{'id': 7, 'name': 'Funny', 'count': 544}, {'i...</td>\n",
       "      <td>[{'id': 243, 'hero': 'https://pe.tedcdn.com/im...</td>\n",
       "      <td>Climate advocate</td>\n",
       "      <td>['alternative energy', 'cars', 'climate change...</td>\n",
       "      <td>Averting the climate crisis</td>\n",
       "      <td>https://www.ted.com/talks/al_gore_on_averting_...</td>\n",
       "      <td>3200520</td>\n",
       "    </tr>\n",
       "    <tr>\n",
       "      <th>2</th>\n",
       "      <td>124</td>\n",
       "      <td>New York Times columnist David Pogue takes aim...</td>\n",
       "      <td>1286</td>\n",
       "      <td>TED2006</td>\n",
       "      <td>1140739200</td>\n",
       "      <td>26</td>\n",
       "      <td>David Pogue</td>\n",
       "      <td>David Pogue: Simplicity sells</td>\n",
       "      <td>1</td>\n",
       "      <td>1151367060</td>\n",
       "      <td>[{'id': 7, 'name': 'Funny', 'count': 964}, {'i...</td>\n",
       "      <td>[{'id': 1725, 'hero': 'https://pe.tedcdn.com/i...</td>\n",
       "      <td>Technology columnist</td>\n",
       "      <td>['computers', 'entertainment', 'interface desi...</td>\n",
       "      <td>Simplicity sells</td>\n",
       "      <td>https://www.ted.com/talks/david_pogue_says_sim...</td>\n",
       "      <td>1636292</td>\n",
       "    </tr>\n",
       "    <tr>\n",
       "      <th>3</th>\n",
       "      <td>200</td>\n",
       "      <td>In an emotionally charged talk, MacArthur-winn...</td>\n",
       "      <td>1116</td>\n",
       "      <td>TED2006</td>\n",
       "      <td>1140912000</td>\n",
       "      <td>35</td>\n",
       "      <td>Majora Carter</td>\n",
       "      <td>Majora Carter: Greening the ghetto</td>\n",
       "      <td>1</td>\n",
       "      <td>1151367060</td>\n",
       "      <td>[{'id': 3, 'name': 'Courageous', 'count': 760}...</td>\n",
       "      <td>[{'id': 1041, 'hero': 'https://pe.tedcdn.com/i...</td>\n",
       "      <td>Activist for environmental justice</td>\n",
       "      <td>['MacArthur grant', 'activism', 'business', 'c...</td>\n",
       "      <td>Greening the ghetto</td>\n",
       "      <td>https://www.ted.com/talks/majora_carter_s_tale...</td>\n",
       "      <td>1697550</td>\n",
       "    </tr>\n",
       "    <tr>\n",
       "      <th>4</th>\n",
       "      <td>593</td>\n",
       "      <td>You've never seen data presented like this. Wi...</td>\n",
       "      <td>1190</td>\n",
       "      <td>TED2006</td>\n",
       "      <td>1140566400</td>\n",
       "      <td>48</td>\n",
       "      <td>Hans Rosling</td>\n",
       "      <td>Hans Rosling: The best stats you've ever seen</td>\n",
       "      <td>1</td>\n",
       "      <td>1151440680</td>\n",
       "      <td>[{'id': 9, 'name': 'Ingenious', 'count': 3202}...</td>\n",
       "      <td>[{'id': 2056, 'hero': 'https://pe.tedcdn.com/i...</td>\n",
       "      <td>Global health expert; data visionary</td>\n",
       "      <td>['Africa', 'Asia', 'Google', 'demo', 'economic...</td>\n",
       "      <td>The best stats you've ever seen</td>\n",
       "      <td>https://www.ted.com/talks/hans_rosling_shows_t...</td>\n",
       "      <td>12005869</td>\n",
       "    </tr>\n",
       "  </tbody>\n",
       "</table>\n",
       "</div>"
      ],
      "text/plain": [
       "   comments                                        description  duration  \\\n",
       "0      4553  Sir Ken Robinson makes an entertaining and pro...      1164   \n",
       "1       265  With the same humor and humanity he exuded in ...       977   \n",
       "2       124  New York Times columnist David Pogue takes aim...      1286   \n",
       "3       200  In an emotionally charged talk, MacArthur-winn...      1116   \n",
       "4       593  You've never seen data presented like this. Wi...      1190   \n",
       "\n",
       "     event   film_date  languages   main_speaker  \\\n",
       "0  TED2006  1140825600         60   Ken Robinson   \n",
       "1  TED2006  1140825600         43        Al Gore   \n",
       "2  TED2006  1140739200         26    David Pogue   \n",
       "3  TED2006  1140912000         35  Majora Carter   \n",
       "4  TED2006  1140566400         48   Hans Rosling   \n",
       "\n",
       "                                            name  num_speaker  published_date  \\\n",
       "0      Ken Robinson: Do schools kill creativity?            1      1151367060   \n",
       "1           Al Gore: Averting the climate crisis            1      1151367060   \n",
       "2                  David Pogue: Simplicity sells            1      1151367060   \n",
       "3             Majora Carter: Greening the ghetto            1      1151367060   \n",
       "4  Hans Rosling: The best stats you've ever seen            1      1151440680   \n",
       "\n",
       "                                             ratings  \\\n",
       "0  [{'id': 7, 'name': 'Funny', 'count': 19645}, {...   \n",
       "1  [{'id': 7, 'name': 'Funny', 'count': 544}, {'i...   \n",
       "2  [{'id': 7, 'name': 'Funny', 'count': 964}, {'i...   \n",
       "3  [{'id': 3, 'name': 'Courageous', 'count': 760}...   \n",
       "4  [{'id': 9, 'name': 'Ingenious', 'count': 3202}...   \n",
       "\n",
       "                                       related_talks  \\\n",
       "0  [{'id': 865, 'hero': 'https://pe.tedcdn.com/im...   \n",
       "1  [{'id': 243, 'hero': 'https://pe.tedcdn.com/im...   \n",
       "2  [{'id': 1725, 'hero': 'https://pe.tedcdn.com/i...   \n",
       "3  [{'id': 1041, 'hero': 'https://pe.tedcdn.com/i...   \n",
       "4  [{'id': 2056, 'hero': 'https://pe.tedcdn.com/i...   \n",
       "\n",
       "                     speaker_occupation  \\\n",
       "0                       Author/educator   \n",
       "1                      Climate advocate   \n",
       "2                  Technology columnist   \n",
       "3    Activist for environmental justice   \n",
       "4  Global health expert; data visionary   \n",
       "\n",
       "                                                tags  \\\n",
       "0  ['children', 'creativity', 'culture', 'dance',...   \n",
       "1  ['alternative energy', 'cars', 'climate change...   \n",
       "2  ['computers', 'entertainment', 'interface desi...   \n",
       "3  ['MacArthur grant', 'activism', 'business', 'c...   \n",
       "4  ['Africa', 'Asia', 'Google', 'demo', 'economic...   \n",
       "\n",
       "                             title  \\\n",
       "0      Do schools kill creativity?   \n",
       "1      Averting the climate crisis   \n",
       "2                 Simplicity sells   \n",
       "3              Greening the ghetto   \n",
       "4  The best stats you've ever seen   \n",
       "\n",
       "                                                 url     views  \n",
       "0  https://www.ted.com/talks/ken_robinson_says_sc...  47227110  \n",
       "1  https://www.ted.com/talks/al_gore_on_averting_...   3200520  \n",
       "2  https://www.ted.com/talks/david_pogue_says_sim...   1636292  \n",
       "3  https://www.ted.com/talks/majora_carter_s_tale...   1697550  \n",
       "4  https://www.ted.com/talks/hans_rosling_shows_t...  12005869  "
      ]
     },
     "execution_count": 14,
     "metadata": {},
     "output_type": "execute_result"
    }
   ],
   "source": [
    "ted.head()"
   ]
  },
  {
   "cell_type": "code",
   "execution_count": 15,
   "metadata": {},
   "outputs": [
    {
     "data": {
      "text/html": [
       "<div>\n",
       "<style scoped>\n",
       "    .dataframe tbody tr th:only-of-type {\n",
       "        vertical-align: middle;\n",
       "    }\n",
       "\n",
       "    .dataframe tbody tr th {\n",
       "        vertical-align: top;\n",
       "    }\n",
       "\n",
       "    .dataframe thead th {\n",
       "        text-align: right;\n",
       "    }\n",
       "</style>\n",
       "<table border=\"1\" class=\"dataframe\">\n",
       "  <thead>\n",
       "    <tr style=\"text-align: right;\">\n",
       "      <th></th>\n",
       "      <th>comments</th>\n",
       "      <th>description</th>\n",
       "      <th>duration</th>\n",
       "      <th>event</th>\n",
       "      <th>film_date</th>\n",
       "      <th>languages</th>\n",
       "      <th>main_speaker</th>\n",
       "      <th>name</th>\n",
       "      <th>num_speaker</th>\n",
       "      <th>published_date</th>\n",
       "      <th>ratings</th>\n",
       "      <th>related_talks</th>\n",
       "      <th>speaker_occupation</th>\n",
       "      <th>tags</th>\n",
       "      <th>title</th>\n",
       "      <th>url</th>\n",
       "      <th>views</th>\n",
       "    </tr>\n",
       "  </thead>\n",
       "  <tbody>\n",
       "    <tr>\n",
       "      <th>2545</th>\n",
       "      <td>17</td>\n",
       "      <td>Between 2008 and 2016, the United States depor...</td>\n",
       "      <td>476</td>\n",
       "      <td>TED2017</td>\n",
       "      <td>1496707200</td>\n",
       "      <td>4</td>\n",
       "      <td>Duarte Geraldino</td>\n",
       "      <td>Duarte Geraldino: What we're missing in the de...</td>\n",
       "      <td>1</td>\n",
       "      <td>1505851216</td>\n",
       "      <td>[{'id': 3, 'name': 'Courageous', 'count': 24},...</td>\n",
       "      <td>[{'id': 2596, 'hero': 'https://pe.tedcdn.com/i...</td>\n",
       "      <td>Journalist</td>\n",
       "      <td>['TED Residency', 'United States', 'community'...</td>\n",
       "      <td>What we're missing in the debate about immigra...</td>\n",
       "      <td>https://www.ted.com/talks/duarte_geraldino_wha...</td>\n",
       "      <td>450430</td>\n",
       "    </tr>\n",
       "    <tr>\n",
       "      <th>2546</th>\n",
       "      <td>6</td>\n",
       "      <td>How can you study Mars without a spaceship? He...</td>\n",
       "      <td>290</td>\n",
       "      <td>TED2017</td>\n",
       "      <td>1492992000</td>\n",
       "      <td>3</td>\n",
       "      <td>Armando Azua-Bustos</td>\n",
       "      <td>Armando Azua-Bustos: The most Martian place on...</td>\n",
       "      <td>1</td>\n",
       "      <td>1505919737</td>\n",
       "      <td>[{'id': 22, 'name': 'Fascinating', 'count': 32...</td>\n",
       "      <td>[{'id': 2491, 'hero': 'https://pe.tedcdn.com/i...</td>\n",
       "      <td>Astrobiologist</td>\n",
       "      <td>['Mars', 'South America', 'TED Fellows', 'astr...</td>\n",
       "      <td>The most Martian place on Earth</td>\n",
       "      <td>https://www.ted.com/talks/armando_azua_bustos_...</td>\n",
       "      <td>417470</td>\n",
       "    </tr>\n",
       "    <tr>\n",
       "      <th>2547</th>\n",
       "      <td>10</td>\n",
       "      <td>Science fiction visions of the future show us ...</td>\n",
       "      <td>651</td>\n",
       "      <td>TED2017</td>\n",
       "      <td>1492992000</td>\n",
       "      <td>1</td>\n",
       "      <td>Radhika Nagpal</td>\n",
       "      <td>Radhika Nagpal: What intelligent machines can ...</td>\n",
       "      <td>1</td>\n",
       "      <td>1506006095</td>\n",
       "      <td>[{'id': 1, 'name': 'Beautiful', 'count': 14}, ...</td>\n",
       "      <td>[{'id': 2346, 'hero': 'https://pe.tedcdn.com/i...</td>\n",
       "      <td>Robotics engineer</td>\n",
       "      <td>['AI', 'ants', 'fish', 'future', 'innovation',...</td>\n",
       "      <td>What intelligent machines can learn from a sch...</td>\n",
       "      <td>https://www.ted.com/talks/radhika_nagpal_what_...</td>\n",
       "      <td>375647</td>\n",
       "    </tr>\n",
       "    <tr>\n",
       "      <th>2548</th>\n",
       "      <td>32</td>\n",
       "      <td>In an unmissable talk about race and politics ...</td>\n",
       "      <td>1100</td>\n",
       "      <td>TEDxMileHigh</td>\n",
       "      <td>1499472000</td>\n",
       "      <td>1</td>\n",
       "      <td>Theo E.J. Wilson</td>\n",
       "      <td>Theo E.J. Wilson: A black man goes undercover ...</td>\n",
       "      <td>1</td>\n",
       "      <td>1506024042</td>\n",
       "      <td>[{'id': 11, 'name': 'Longwinded', 'count': 3},...</td>\n",
       "      <td>[{'id': 2512, 'hero': 'https://pe.tedcdn.com/i...</td>\n",
       "      <td>Public intellectual</td>\n",
       "      <td>['Internet', 'TEDx', 'United States', 'communi...</td>\n",
       "      <td>A black man goes undercover in the alt-right</td>\n",
       "      <td>https://www.ted.com/talks/theo_e_j_wilson_a_bl...</td>\n",
       "      <td>419309</td>\n",
       "    </tr>\n",
       "    <tr>\n",
       "      <th>2549</th>\n",
       "      <td>8</td>\n",
       "      <td>With more than half of the world population li...</td>\n",
       "      <td>519</td>\n",
       "      <td>TED2017</td>\n",
       "      <td>1492992000</td>\n",
       "      <td>1</td>\n",
       "      <td>Karoliina Korppoo</td>\n",
       "      <td>Karoliina Korppoo: How a video game might help...</td>\n",
       "      <td>1</td>\n",
       "      <td>1506092422</td>\n",
       "      <td>[{'id': 21, 'name': 'Unconvincing', 'count': 2...</td>\n",
       "      <td>[{'id': 2682, 'hero': 'https://pe.tedcdn.com/i...</td>\n",
       "      <td>Game designer</td>\n",
       "      <td>['cities', 'design', 'future', 'infrastructure...</td>\n",
       "      <td>How a video game might help us build better ci...</td>\n",
       "      <td>https://www.ted.com/talks/karoliina_korppoo_ho...</td>\n",
       "      <td>391721</td>\n",
       "    </tr>\n",
       "  </tbody>\n",
       "</table>\n",
       "</div>"
      ],
      "text/plain": [
       "      comments                                        description  duration  \\\n",
       "2545        17  Between 2008 and 2016, the United States depor...       476   \n",
       "2546         6  How can you study Mars without a spaceship? He...       290   \n",
       "2547        10  Science fiction visions of the future show us ...       651   \n",
       "2548        32  In an unmissable talk about race and politics ...      1100   \n",
       "2549         8  With more than half of the world population li...       519   \n",
       "\n",
       "             event   film_date  languages         main_speaker  \\\n",
       "2545       TED2017  1496707200          4     Duarte Geraldino   \n",
       "2546       TED2017  1492992000          3  Armando Azua-Bustos   \n",
       "2547       TED2017  1492992000          1       Radhika Nagpal   \n",
       "2548  TEDxMileHigh  1499472000          1     Theo E.J. Wilson   \n",
       "2549       TED2017  1492992000          1    Karoliina Korppoo   \n",
       "\n",
       "                                                   name  num_speaker  \\\n",
       "2545  Duarte Geraldino: What we're missing in the de...            1   \n",
       "2546  Armando Azua-Bustos: The most Martian place on...            1   \n",
       "2547  Radhika Nagpal: What intelligent machines can ...            1   \n",
       "2548  Theo E.J. Wilson: A black man goes undercover ...            1   \n",
       "2549  Karoliina Korppoo: How a video game might help...            1   \n",
       "\n",
       "      published_date                                            ratings  \\\n",
       "2545      1505851216  [{'id': 3, 'name': 'Courageous', 'count': 24},...   \n",
       "2546      1505919737  [{'id': 22, 'name': 'Fascinating', 'count': 32...   \n",
       "2547      1506006095  [{'id': 1, 'name': 'Beautiful', 'count': 14}, ...   \n",
       "2548      1506024042  [{'id': 11, 'name': 'Longwinded', 'count': 3},...   \n",
       "2549      1506092422  [{'id': 21, 'name': 'Unconvincing', 'count': 2...   \n",
       "\n",
       "                                          related_talks   speaker_occupation  \\\n",
       "2545  [{'id': 2596, 'hero': 'https://pe.tedcdn.com/i...           Journalist   \n",
       "2546  [{'id': 2491, 'hero': 'https://pe.tedcdn.com/i...       Astrobiologist   \n",
       "2547  [{'id': 2346, 'hero': 'https://pe.tedcdn.com/i...    Robotics engineer   \n",
       "2548  [{'id': 2512, 'hero': 'https://pe.tedcdn.com/i...  Public intellectual   \n",
       "2549  [{'id': 2682, 'hero': 'https://pe.tedcdn.com/i...        Game designer   \n",
       "\n",
       "                                                   tags  \\\n",
       "2545  ['TED Residency', 'United States', 'community'...   \n",
       "2546  ['Mars', 'South America', 'TED Fellows', 'astr...   \n",
       "2547  ['AI', 'ants', 'fish', 'future', 'innovation',...   \n",
       "2548  ['Internet', 'TEDx', 'United States', 'communi...   \n",
       "2549  ['cities', 'design', 'future', 'infrastructure...   \n",
       "\n",
       "                                                  title  \\\n",
       "2545  What we're missing in the debate about immigra...   \n",
       "2546                    The most Martian place on Earth   \n",
       "2547  What intelligent machines can learn from a sch...   \n",
       "2548       A black man goes undercover in the alt-right   \n",
       "2549  How a video game might help us build better ci...   \n",
       "\n",
       "                                                    url   views  \n",
       "2545  https://www.ted.com/talks/duarte_geraldino_wha...  450430  \n",
       "2546  https://www.ted.com/talks/armando_azua_bustos_...  417470  \n",
       "2547  https://www.ted.com/talks/radhika_nagpal_what_...  375647  \n",
       "2548  https://www.ted.com/talks/theo_e_j_wilson_a_bl...  419309  \n",
       "2549  https://www.ted.com/talks/karoliina_korppoo_ho...  391721  "
      ]
     },
     "execution_count": 15,
     "metadata": {},
     "output_type": "execute_result"
    }
   ],
   "source": [
    "ted.tail()"
   ]
  },
  {
   "cell_type": "code",
   "execution_count": 16,
   "metadata": {},
   "outputs": [
    {
     "data": {
      "text/plain": [
       "comments               int64\n",
       "description           object\n",
       "duration               int64\n",
       "event                 object\n",
       "film_date              int64\n",
       "languages              int64\n",
       "main_speaker          object\n",
       "name                  object\n",
       "num_speaker            int64\n",
       "published_date         int64\n",
       "ratings               object\n",
       "related_talks         object\n",
       "speaker_occupation    object\n",
       "tags                  object\n",
       "title                 object\n",
       "url                   object\n",
       "views                  int64\n",
       "dtype: object"
      ]
     },
     "execution_count": 16,
     "metadata": {},
     "output_type": "execute_result"
    }
   ],
   "source": [
    "ted.dtypes"
   ]
  },
  {
   "cell_type": "markdown",
   "metadata": {},
   "source": [
    "object columns are usually strings, but can also be arbitrary Python objects (lists, dictionaries)"
   ]
  },
  {
   "cell_type": "code",
   "execution_count": 17,
   "metadata": {},
   "outputs": [
    {
     "data": {
      "text/plain": [
       "(2550, 17)"
      ]
     },
     "execution_count": 17,
     "metadata": {},
     "output_type": "execute_result"
    }
   ],
   "source": [
    "ted.shape"
   ]
  },
  {
   "cell_type": "markdown",
   "metadata": {},
   "source": [
    "# 3)-Checking missing values"
   ]
  },
  {
   "cell_type": "code",
   "execution_count": 18,
   "metadata": {},
   "outputs": [
    {
     "data": {
      "text/plain": [
       "comments              0\n",
       "description           0\n",
       "duration              0\n",
       "event                 0\n",
       "film_date             0\n",
       "languages             0\n",
       "main_speaker          0\n",
       "name                  0\n",
       "num_speaker           0\n",
       "published_date        0\n",
       "ratings               0\n",
       "related_talks         0\n",
       "speaker_occupation    6\n",
       "tags                  0\n",
       "title                 0\n",
       "url                   0\n",
       "views                 0\n",
       "dtype: int64"
      ]
     },
     "execution_count": 18,
     "metadata": {},
     "output_type": "execute_result"
    }
   ],
   "source": [
    "ted.isna().sum()"
   ]
  },
  {
   "cell_type": "markdown",
   "metadata": {},
   "source": [
    "speaker_occupation has 6 missing values"
   ]
  },
  {
   "cell_type": "code",
   "execution_count": 19,
   "metadata": {},
   "outputs": [
    {
     "name": "stdout",
     "output_type": "stream",
     "text": [
      "<class 'pandas.core.frame.DataFrame'>\n",
      "RangeIndex: 2550 entries, 0 to 2549\n",
      "Data columns (total 17 columns):\n",
      "comments              2550 non-null int64\n",
      "description           2550 non-null object\n",
      "duration              2550 non-null int64\n",
      "event                 2550 non-null object\n",
      "film_date             2550 non-null int64\n",
      "languages             2550 non-null int64\n",
      "main_speaker          2550 non-null object\n",
      "name                  2550 non-null object\n",
      "num_speaker           2550 non-null int64\n",
      "published_date        2550 non-null int64\n",
      "ratings               2550 non-null object\n",
      "related_talks         2550 non-null object\n",
      "speaker_occupation    2544 non-null object\n",
      "tags                  2550 non-null object\n",
      "title                 2550 non-null object\n",
      "url                   2550 non-null object\n",
      "views                 2550 non-null int64\n",
      "dtypes: int64(7), object(10)\n",
      "memory usage: 338.8+ KB\n"
     ]
    }
   ],
   "source": [
    "ted.info()"
   ]
  },
  {
   "cell_type": "markdown",
   "metadata": {},
   "source": [
    "speaker_occupation    2544 non-null object"
   ]
  },
  {
   "cell_type": "code",
   "execution_count": 20,
   "metadata": {},
   "outputs": [
    {
     "data": {
      "text/html": [
       "<div>\n",
       "<style scoped>\n",
       "    .dataframe tbody tr th:only-of-type {\n",
       "        vertical-align: middle;\n",
       "    }\n",
       "\n",
       "    .dataframe tbody tr th {\n",
       "        vertical-align: top;\n",
       "    }\n",
       "\n",
       "    .dataframe thead th {\n",
       "        text-align: right;\n",
       "    }\n",
       "</style>\n",
       "<table border=\"1\" class=\"dataframe\">\n",
       "  <thead>\n",
       "    <tr style=\"text-align: right;\">\n",
       "      <th></th>\n",
       "      <th>comments</th>\n",
       "      <th>description</th>\n",
       "      <th>duration</th>\n",
       "      <th>event</th>\n",
       "      <th>film_date</th>\n",
       "      <th>languages</th>\n",
       "      <th>main_speaker</th>\n",
       "      <th>name</th>\n",
       "      <th>num_speaker</th>\n",
       "      <th>published_date</th>\n",
       "      <th>ratings</th>\n",
       "      <th>related_talks</th>\n",
       "      <th>speaker_occupation</th>\n",
       "      <th>tags</th>\n",
       "      <th>title</th>\n",
       "      <th>url</th>\n",
       "      <th>views</th>\n",
       "    </tr>\n",
       "  </thead>\n",
       "  <tbody>\n",
       "    <tr>\n",
       "      <th>1113</th>\n",
       "      <td>145</td>\n",
       "      <td>After a crisis, how can we tell if water is sa...</td>\n",
       "      <td>217</td>\n",
       "      <td>TEDGlobal 2011</td>\n",
       "      <td>1310601600</td>\n",
       "      <td>38</td>\n",
       "      <td>Sonaar Luthra</td>\n",
       "      <td>Sonaar Luthra: Meet the Water Canary</td>\n",
       "      <td>1</td>\n",
       "      <td>1326731605</td>\n",
       "      <td>[{'id': 10, 'name': 'Inspiring', 'count': 73},...</td>\n",
       "      <td>[{'id': 523, 'hero': 'https://pe.tedcdn.com/im...</td>\n",
       "      <td>NaN</td>\n",
       "      <td>['TED Fellows', 'design', 'global development'...</td>\n",
       "      <td>Meet the Water Canary</td>\n",
       "      <td>https://www.ted.com/talks/sonaar_luthra_meet_t...</td>\n",
       "      <td>353749</td>\n",
       "    </tr>\n",
       "    <tr>\n",
       "      <th>1192</th>\n",
       "      <td>122</td>\n",
       "      <td>The Pirate Party fights for transparency, anon...</td>\n",
       "      <td>1097</td>\n",
       "      <td>TEDxObserver</td>\n",
       "      <td>1331424000</td>\n",
       "      <td>10</td>\n",
       "      <td>Rick Falkvinge</td>\n",
       "      <td>Rick Falkvinge: I am a pirate</td>\n",
       "      <td>1</td>\n",
       "      <td>1333289675</td>\n",
       "      <td>[{'id': 8, 'name': 'Informative', 'count': 156...</td>\n",
       "      <td>[{'id': 1329, 'hero': 'https://pe.tedcdn.com/i...</td>\n",
       "      <td>NaN</td>\n",
       "      <td>['Internet', 'TEDx', 'global issues', 'politic...</td>\n",
       "      <td>I am a pirate</td>\n",
       "      <td>https://www.ted.com/talks/rick_falkvinge_i_am_...</td>\n",
       "      <td>181010</td>\n",
       "    </tr>\n",
       "    <tr>\n",
       "      <th>1220</th>\n",
       "      <td>257</td>\n",
       "      <td>As you surf the Web, information is being coll...</td>\n",
       "      <td>399</td>\n",
       "      <td>TED2012</td>\n",
       "      <td>1330473600</td>\n",
       "      <td>32</td>\n",
       "      <td>Gary Kovacs</td>\n",
       "      <td>Gary Kovacs: Tracking our online trackers</td>\n",
       "      <td>1</td>\n",
       "      <td>1336057219</td>\n",
       "      <td>[{'id': 23, 'name': 'Jaw-dropping', 'count': 9...</td>\n",
       "      <td>[{'id': 1370, 'hero': 'https://pe.tedcdn.com/i...</td>\n",
       "      <td>NaN</td>\n",
       "      <td>['Internet', 'advertising', 'business', 'priva...</td>\n",
       "      <td>Tracking our online trackers</td>\n",
       "      <td>https://www.ted.com/talks/gary_kovacs_tracking...</td>\n",
       "      <td>2098639</td>\n",
       "    </tr>\n",
       "    <tr>\n",
       "      <th>1656</th>\n",
       "      <td>140</td>\n",
       "      <td>In this lovely talk, TED Fellow Ryan Holladay ...</td>\n",
       "      <td>389</td>\n",
       "      <td>TED@BCG San Francisco</td>\n",
       "      <td>1383091200</td>\n",
       "      <td>33</td>\n",
       "      <td>Ryan Holladay</td>\n",
       "      <td>Ryan Holladay: To hear this music you have to ...</td>\n",
       "      <td>1</td>\n",
       "      <td>1389369735</td>\n",
       "      <td>[{'id': 1, 'name': 'Beautiful', 'count': 211},...</td>\n",
       "      <td>[{'id': 1152, 'hero': 'https://pe.tedcdn.com/i...</td>\n",
       "      <td>NaN</td>\n",
       "      <td>['TED Fellows', 'entertainment', 'music', 'tec...</td>\n",
       "      <td>To hear this music you have to be there. Liter...</td>\n",
       "      <td>https://www.ted.com/talks/ryan_holladay_to_hea...</td>\n",
       "      <td>1284510</td>\n",
       "    </tr>\n",
       "    <tr>\n",
       "      <th>1911</th>\n",
       "      <td>48</td>\n",
       "      <td>What do you do with an outdated encyclopedia i...</td>\n",
       "      <td>366</td>\n",
       "      <td>TEDYouth 2014</td>\n",
       "      <td>1415059200</td>\n",
       "      <td>34</td>\n",
       "      <td>Brian Dettmer</td>\n",
       "      <td>Brian Dettmer: Old books reborn as art</td>\n",
       "      <td>1</td>\n",
       "      <td>1423238442</td>\n",
       "      <td>[{'id': 1, 'name': 'Beautiful', 'count': 361},...</td>\n",
       "      <td>[{'id': 610, 'hero': 'https://pe.tedcdn.com/im...</td>\n",
       "      <td>NaN</td>\n",
       "      <td>['TEDYouth', 'art', 'books', 'creativity']</td>\n",
       "      <td>Old books reborn as art</td>\n",
       "      <td>https://www.ted.com/talks/brian_dettmer_old_bo...</td>\n",
       "      <td>1159937</td>\n",
       "    </tr>\n",
       "  </tbody>\n",
       "</table>\n",
       "</div>"
      ],
      "text/plain": [
       "      comments                                        description  duration  \\\n",
       "1113       145  After a crisis, how can we tell if water is sa...       217   \n",
       "1192       122  The Pirate Party fights for transparency, anon...      1097   \n",
       "1220       257  As you surf the Web, information is being coll...       399   \n",
       "1656       140  In this lovely talk, TED Fellow Ryan Holladay ...       389   \n",
       "1911        48  What do you do with an outdated encyclopedia i...       366   \n",
       "\n",
       "                      event   film_date  languages    main_speaker  \\\n",
       "1113         TEDGlobal 2011  1310601600         38   Sonaar Luthra   \n",
       "1192           TEDxObserver  1331424000         10  Rick Falkvinge   \n",
       "1220                TED2012  1330473600         32     Gary Kovacs   \n",
       "1656  TED@BCG San Francisco  1383091200         33   Ryan Holladay   \n",
       "1911          TEDYouth 2014  1415059200         34   Brian Dettmer   \n",
       "\n",
       "                                                   name  num_speaker  \\\n",
       "1113               Sonaar Luthra: Meet the Water Canary            1   \n",
       "1192                      Rick Falkvinge: I am a pirate            1   \n",
       "1220          Gary Kovacs: Tracking our online trackers            1   \n",
       "1656  Ryan Holladay: To hear this music you have to ...            1   \n",
       "1911             Brian Dettmer: Old books reborn as art            1   \n",
       "\n",
       "      published_date                                            ratings  \\\n",
       "1113      1326731605  [{'id': 10, 'name': 'Inspiring', 'count': 73},...   \n",
       "1192      1333289675  [{'id': 8, 'name': 'Informative', 'count': 156...   \n",
       "1220      1336057219  [{'id': 23, 'name': 'Jaw-dropping', 'count': 9...   \n",
       "1656      1389369735  [{'id': 1, 'name': 'Beautiful', 'count': 211},...   \n",
       "1911      1423238442  [{'id': 1, 'name': 'Beautiful', 'count': 361},...   \n",
       "\n",
       "                                          related_talks speaker_occupation  \\\n",
       "1113  [{'id': 523, 'hero': 'https://pe.tedcdn.com/im...                NaN   \n",
       "1192  [{'id': 1329, 'hero': 'https://pe.tedcdn.com/i...                NaN   \n",
       "1220  [{'id': 1370, 'hero': 'https://pe.tedcdn.com/i...                NaN   \n",
       "1656  [{'id': 1152, 'hero': 'https://pe.tedcdn.com/i...                NaN   \n",
       "1911  [{'id': 610, 'hero': 'https://pe.tedcdn.com/im...                NaN   \n",
       "\n",
       "                                                   tags  \\\n",
       "1113  ['TED Fellows', 'design', 'global development'...   \n",
       "1192  ['Internet', 'TEDx', 'global issues', 'politic...   \n",
       "1220  ['Internet', 'advertising', 'business', 'priva...   \n",
       "1656  ['TED Fellows', 'entertainment', 'music', 'tec...   \n",
       "1911         ['TEDYouth', 'art', 'books', 'creativity']   \n",
       "\n",
       "                                                  title  \\\n",
       "1113                              Meet the Water Canary   \n",
       "1192                                      I am a pirate   \n",
       "1220                       Tracking our online trackers   \n",
       "1656  To hear this music you have to be there. Liter...   \n",
       "1911                            Old books reborn as art   \n",
       "\n",
       "                                                    url    views  \n",
       "1113  https://www.ted.com/talks/sonaar_luthra_meet_t...   353749  \n",
       "1192  https://www.ted.com/talks/rick_falkvinge_i_am_...   181010  \n",
       "1220  https://www.ted.com/talks/gary_kovacs_tracking...  2098639  \n",
       "1656  https://www.ted.com/talks/ryan_holladay_to_hea...  1284510  \n",
       "1911  https://www.ted.com/talks/brian_dettmer_old_bo...  1159937  "
      ]
     },
     "execution_count": 20,
     "metadata": {},
     "output_type": "execute_result"
    }
   ],
   "source": [
    "# Another approach is\n",
    "\n",
    "ted[ted.isnull().any(axis=1)].head()"
   ]
  },
  {
   "cell_type": "code",
   "execution_count": 21,
   "metadata": {},
   "outputs": [
    {
     "data": {
      "text/plain": [
       "<matplotlib.axes._subplots.AxesSubplot at 0x294b4879cc0>"
      ]
     },
     "execution_count": 21,
     "metadata": {},
     "output_type": "execute_result"
    },
    {
     "data": {
      "image/png": "[encoded data removed]",
      "text/plain": [
       "<Figure size 1152x504 with 2 Axes>"
      ]
     },
     "metadata": {},
     "output_type": "display_data"
    }
   ],
   "source": [
    "import missingno as msno\n",
    "\n",
    "msno.matrix(ted.sample(500),\n",
    "            figsize=(16, 7),\n",
    "            width_ratios=(15, 1))"
   ]
  },
  {
   "cell_type": "code",
   "execution_count": 22,
   "metadata": {},
   "outputs": [
    {
     "data": {
      "text/plain": [
       "<matplotlib.axes._subplots.AxesSubplot at 0x294b4c552e8>"
      ]
     },
     "execution_count": 22,
     "metadata": {},
     "output_type": "execute_result"
    },
    {
     "data": {
      "image/png": "[encoded data removed]",
      "text/plain": [
       "<Figure size 1152x504 with 2 Axes>"
      ]
     },
     "metadata": {},
     "output_type": "display_data"
    }
   ],
   "source": [
    "msno.matrix(ted.sample(1000),\n",
    "            figsize=(16, 7),\n",
    "            width_ratios=(15, 1))"
   ]
  },
  {
   "cell_type": "code",
   "execution_count": 23,
   "metadata": {},
   "outputs": [
    {
     "data": {
      "text/plain": [
       "<matplotlib.axes._subplots.AxesSubplot at 0x294b4d25f60>"
      ]
     },
     "execution_count": 23,
     "metadata": {},
     "output_type": "execute_result"
    },
    {
     "data": {
      "image/png": "[encoded data removed]",
      "text/plain": [
       "<Figure size 1152x504 with 3 Axes>"
      ]
     },
     "metadata": {},
     "output_type": "display_data"
    }
   ],
   "source": [
    "msno.bar(ted.sample(1000),\n",
    "            figsize=(16, 7),)"
   ]
  },
  {
   "cell_type": "markdown",
   "metadata": {},
   "source": [
    "speaker_occupation has 6 missing values\n",
    "\n",
    "We got the picture :)"
   ]
  },
  {
   "cell_type": "markdown",
   "metadata": {},
   "source": [
    "# 4)-Which talks provoke the most online discussion?"
   ]
  },
  {
   "cell_type": "code",
   "execution_count": 24,
   "metadata": {
    "scrolled": true
   },
   "outputs": [
    {
     "data": {
      "text/html": [
       "<div>\n",
       "<style scoped>\n",
       "    .dataframe tbody tr th:only-of-type {\n",
       "        vertical-align: middle;\n",
       "    }\n",
       "\n",
       "    .dataframe tbody tr th {\n",
       "        vertical-align: top;\n",
       "    }\n",
       "\n",
       "    .dataframe thead th {\n",
       "        text-align: right;\n",
       "    }\n",
       "</style>\n",
       "<table border=\"1\" class=\"dataframe\">\n",
       "  <thead>\n",
       "    <tr style=\"text-align: right;\">\n",
       "      <th></th>\n",
       "      <th>comments</th>\n",
       "      <th>description</th>\n",
       "      <th>duration</th>\n",
       "      <th>event</th>\n",
       "      <th>film_date</th>\n",
       "      <th>languages</th>\n",
       "      <th>main_speaker</th>\n",
       "      <th>name</th>\n",
       "      <th>num_speaker</th>\n",
       "      <th>published_date</th>\n",
       "      <th>ratings</th>\n",
       "      <th>related_talks</th>\n",
       "      <th>speaker_occupation</th>\n",
       "      <th>tags</th>\n",
       "      <th>title</th>\n",
       "      <th>url</th>\n",
       "      <th>views</th>\n",
       "    </tr>\n",
       "  </thead>\n",
       "  <tbody>\n",
       "    <tr>\n",
       "      <th>0</th>\n",
       "      <td>4553</td>\n",
       "      <td>Sir Ken Robinson makes an entertaining and pro...</td>\n",
       "      <td>1164</td>\n",
       "      <td>TED2006</td>\n",
       "      <td>1140825600</td>\n",
       "      <td>60</td>\n",
       "      <td>Ken Robinson</td>\n",
       "      <td>Ken Robinson: Do schools kill creativity?</td>\n",
       "      <td>1</td>\n",
       "      <td>1151367060</td>\n",
       "      <td>[{'id': 7, 'name': 'Funny', 'count': 19645}, {...</td>\n",
       "      <td>[{'id': 865, 'hero': 'https://pe.tedcdn.com/im...</td>\n",
       "      <td>Author/educator</td>\n",
       "      <td>['children', 'creativity', 'culture', 'dance',...</td>\n",
       "      <td>Do schools kill creativity?</td>\n",
       "      <td>https://www.ted.com/talks/ken_robinson_says_sc...</td>\n",
       "      <td>47227110</td>\n",
       "    </tr>\n",
       "    <tr>\n",
       "      <th>1</th>\n",
       "      <td>265</td>\n",
       "      <td>With the same humor and humanity he exuded in ...</td>\n",
       "      <td>977</td>\n",
       "      <td>TED2006</td>\n",
       "      <td>1140825600</td>\n",
       "      <td>43</td>\n",
       "      <td>Al Gore</td>\n",
       "      <td>Al Gore: Averting the climate crisis</td>\n",
       "      <td>1</td>\n",
       "      <td>1151367060</td>\n",
       "      <td>[{'id': 7, 'name': 'Funny', 'count': 544}, {'i...</td>\n",
       "      <td>[{'id': 243, 'hero': 'https://pe.tedcdn.com/im...</td>\n",
       "      <td>Climate advocate</td>\n",
       "      <td>['alternative energy', 'cars', 'climate change...</td>\n",
       "      <td>Averting the climate crisis</td>\n",
       "      <td>https://www.ted.com/talks/al_gore_on_averting_...</td>\n",
       "      <td>3200520</td>\n",
       "    </tr>\n",
       "    <tr>\n",
       "      <th>2</th>\n",
       "      <td>124</td>\n",
       "      <td>New York Times columnist David Pogue takes aim...</td>\n",
       "      <td>1286</td>\n",
       "      <td>TED2006</td>\n",
       "      <td>1140739200</td>\n",
       "      <td>26</td>\n",
       "      <td>David Pogue</td>\n",
       "      <td>David Pogue: Simplicity sells</td>\n",
       "      <td>1</td>\n",
       "      <td>1151367060</td>\n",
       "      <td>[{'id': 7, 'name': 'Funny', 'count': 964}, {'i...</td>\n",
       "      <td>[{'id': 1725, 'hero': 'https://pe.tedcdn.com/i...</td>\n",
       "      <td>Technology columnist</td>\n",
       "      <td>['computers', 'entertainment', 'interface desi...</td>\n",
       "      <td>Simplicity sells</td>\n",
       "      <td>https://www.ted.com/talks/david_pogue_says_sim...</td>\n",
       "      <td>1636292</td>\n",
       "    </tr>\n",
       "    <tr>\n",
       "      <th>3</th>\n",
       "      <td>200</td>\n",
       "      <td>In an emotionally charged talk, MacArthur-winn...</td>\n",
       "      <td>1116</td>\n",
       "      <td>TED2006</td>\n",
       "      <td>1140912000</td>\n",
       "      <td>35</td>\n",
       "      <td>Majora Carter</td>\n",
       "      <td>Majora Carter: Greening the ghetto</td>\n",
       "      <td>1</td>\n",
       "      <td>1151367060</td>\n",
       "      <td>[{'id': 3, 'name': 'Courageous', 'count': 760}...</td>\n",
       "      <td>[{'id': 1041, 'hero': 'https://pe.tedcdn.com/i...</td>\n",
       "      <td>Activist for environmental justice</td>\n",
       "      <td>['MacArthur grant', 'activism', 'business', 'c...</td>\n",
       "      <td>Greening the ghetto</td>\n",
       "      <td>https://www.ted.com/talks/majora_carter_s_tale...</td>\n",
       "      <td>1697550</td>\n",
       "    </tr>\n",
       "    <tr>\n",
       "      <th>4</th>\n",
       "      <td>593</td>\n",
       "      <td>You've never seen data presented like this. Wi...</td>\n",
       "      <td>1190</td>\n",
       "      <td>TED2006</td>\n",
       "      <td>1140566400</td>\n",
       "      <td>48</td>\n",
       "      <td>Hans Rosling</td>\n",
       "      <td>Hans Rosling: The best stats you've ever seen</td>\n",
       "      <td>1</td>\n",
       "      <td>1151440680</td>\n",
       "      <td>[{'id': 9, 'name': 'Ingenious', 'count': 3202}...</td>\n",
       "      <td>[{'id': 2056, 'hero': 'https://pe.tedcdn.com/i...</td>\n",
       "      <td>Global health expert; data visionary</td>\n",
       "      <td>['Africa', 'Asia', 'Google', 'demo', 'economic...</td>\n",
       "      <td>The best stats you've ever seen</td>\n",
       "      <td>https://www.ted.com/talks/hans_rosling_shows_t...</td>\n",
       "      <td>12005869</td>\n",
       "    </tr>\n",
       "  </tbody>\n",
       "</table>\n",
       "</div>"
      ],
      "text/plain": [
       "   comments                                        description  duration  \\\n",
       "0      4553  Sir Ken Robinson makes an entertaining and pro...      1164   \n",
       "1       265  With the same humor and humanity he exuded in ...       977   \n",
       "2       124  New York Times columnist David Pogue takes aim...      1286   \n",
       "3       200  In an emotionally charged talk, MacArthur-winn...      1116   \n",
       "4       593  You've never seen data presented like this. Wi...      1190   \n",
       "\n",
       "     event   film_date  languages   main_speaker  \\\n",
       "0  TED2006  1140825600         60   Ken Robinson   \n",
       "1  TED2006  1140825600         43        Al Gore   \n",
       "2  TED2006  1140739200         26    David Pogue   \n",
       "3  TED2006  1140912000         35  Majora Carter   \n",
       "4  TED2006  1140566400         48   Hans Rosling   \n",
       "\n",
       "                                            name  num_speaker  published_date  \\\n",
       "0      Ken Robinson: Do schools kill creativity?            1      1151367060   \n",
       "1           Al Gore: Averting the climate crisis            1      1151367060   \n",
       "2                  David Pogue: Simplicity sells            1      1151367060   \n",
       "3             Majora Carter: Greening the ghetto            1      1151367060   \n",
       "4  Hans Rosling: The best stats you've ever seen            1      1151440680   \n",
       "\n",
       "                                             ratings  \\\n",
       "0  [{'id': 7, 'name': 'Funny', 'count': 19645}, {...   \n",
       "1  [{'id': 7, 'name': 'Funny', 'count': 544}, {'i...   \n",
       "2  [{'id': 7, 'name': 'Funny', 'count': 964}, {'i...   \n",
       "3  [{'id': 3, 'name': 'Courageous', 'count': 760}...   \n",
       "4  [{'id': 9, 'name': 'Ingenious', 'count': 3202}...   \n",
       "\n",
       "                                       related_talks  \\\n",
       "0  [{'id': 865, 'hero': 'https://pe.tedcdn.com/im...   \n",
       "1  [{'id': 243, 'hero': 'https://pe.tedcdn.com/im...   \n",
       "2  [{'id': 1725, 'hero': 'https://pe.tedcdn.com/i...   \n",
       "3  [{'id': 1041, 'hero': 'https://pe.tedcdn.com/i...   \n",
       "4  [{'id': 2056, 'hero': 'https://pe.tedcdn.com/i...   \n",
       "\n",
       "                     speaker_occupation  \\\n",
       "0                       Author/educator   \n",
       "1                      Climate advocate   \n",
       "2                  Technology columnist   \n",
       "3    Activist for environmental justice   \n",
       "4  Global health expert; data visionary   \n",
       "\n",
       "                                                tags  \\\n",
       "0  ['children', 'creativity', 'culture', 'dance',...   \n",
       "1  ['alternative energy', 'cars', 'climate change...   \n",
       "2  ['computers', 'entertainment', 'interface desi...   \n",
       "3  ['MacArthur grant', 'activism', 'business', 'c...   \n",
       "4  ['Africa', 'Asia', 'Google', 'demo', 'economic...   \n",
       "\n",
       "                             title  \\\n",
       "0      Do schools kill creativity?   \n",
       "1      Averting the climate crisis   \n",
       "2                 Simplicity sells   \n",
       "3              Greening the ghetto   \n",
       "4  The best stats you've ever seen   \n",
       "\n",
       "                                                 url     views  \n",
       "0  https://www.ted.com/talks/ken_robinson_says_sc...  47227110  \n",
       "1  https://www.ted.com/talks/al_gore_on_averting_...   3200520  \n",
       "2  https://www.ted.com/talks/david_pogue_says_sim...   1636292  \n",
       "3  https://www.ted.com/talks/majora_carter_s_tale...   1697550  \n",
       "4  https://www.ted.com/talks/hans_rosling_shows_t...  12005869  "
      ]
     },
     "execution_count": 24,
     "metadata": {},
     "output_type": "execute_result"
    }
   ],
   "source": [
    "ted.head()"
   ]
  },
  {
   "cell_type": "code",
   "execution_count": 25,
   "metadata": {},
   "outputs": [
    {
     "data": {
      "text/html": [
       "<div>\n",
       "<style scoped>\n",
       "    .dataframe tbody tr th:only-of-type {\n",
       "        vertical-align: middle;\n",
       "    }\n",
       "\n",
       "    .dataframe tbody tr th {\n",
       "        vertical-align: top;\n",
       "    }\n",
       "\n",
       "    .dataframe thead th {\n",
       "        text-align: right;\n",
       "    }\n",
       "</style>\n",
       "<table border=\"1\" class=\"dataframe\">\n",
       "  <thead>\n",
       "    <tr style=\"text-align: right;\">\n",
       "      <th></th>\n",
       "      <th>comments</th>\n",
       "      <th>description</th>\n",
       "      <th>duration</th>\n",
       "      <th>event</th>\n",
       "      <th>film_date</th>\n",
       "      <th>languages</th>\n",
       "      <th>main_speaker</th>\n",
       "      <th>name</th>\n",
       "      <th>num_speaker</th>\n",
       "      <th>published_date</th>\n",
       "      <th>ratings</th>\n",
       "      <th>related_talks</th>\n",
       "      <th>speaker_occupation</th>\n",
       "      <th>tags</th>\n",
       "      <th>title</th>\n",
       "      <th>url</th>\n",
       "      <th>views</th>\n",
       "    </tr>\n",
       "  </thead>\n",
       "  <tbody>\n",
       "    <tr>\n",
       "      <th>1787</th>\n",
       "      <td>2673</td>\n",
       "      <td>Our consciousness is a fundamental aspect of o...</td>\n",
       "      <td>1117</td>\n",
       "      <td>TED2014</td>\n",
       "      <td>1395100800</td>\n",
       "      <td>33</td>\n",
       "      <td>David Chalmers</td>\n",
       "      <td>David Chalmers: How do you explain consciousness?</td>\n",
       "      <td>1</td>\n",
       "      <td>1405350484</td>\n",
       "      <td>[{'id': 25, 'name': 'OK', 'count': 280}, {'id'...</td>\n",
       "      <td>[{'id': 1308, 'hero': 'https://pe.tedcdn.com/i...</td>\n",
       "      <td>Philosopher</td>\n",
       "      <td>['brain', 'consciousness', 'neuroscience', 'ph...</td>\n",
       "      <td>How do you explain consciousness?</td>\n",
       "      <td>https://www.ted.com/talks/david_chalmers_how_d...</td>\n",
       "      <td>2162764</td>\n",
       "    </tr>\n",
       "    <tr>\n",
       "      <th>201</th>\n",
       "      <td>2877</td>\n",
       "      <td>Jill Bolte Taylor got a research opportunity f...</td>\n",
       "      <td>1099</td>\n",
       "      <td>TED2008</td>\n",
       "      <td>1204070400</td>\n",
       "      <td>49</td>\n",
       "      <td>Jill Bolte Taylor</td>\n",
       "      <td>Jill Bolte Taylor: My stroke of insight</td>\n",
       "      <td>1</td>\n",
       "      <td>1205284200</td>\n",
       "      <td>[{'id': 22, 'name': 'Fascinating', 'count': 14...</td>\n",
       "      <td>[{'id': 184, 'hero': 'https://pe.tedcdn.com/im...</td>\n",
       "      <td>Neuroanatomist</td>\n",
       "      <td>['biology', 'brain', 'consciousness', 'global ...</td>\n",
       "      <td>My stroke of insight</td>\n",
       "      <td>https://www.ted.com/talks/jill_bolte_taylor_s_...</td>\n",
       "      <td>21190883</td>\n",
       "    </tr>\n",
       "    <tr>\n",
       "      <th>644</th>\n",
       "      <td>3356</td>\n",
       "      <td>Questions of good and evil, right and wrong ar...</td>\n",
       "      <td>1386</td>\n",
       "      <td>TED2010</td>\n",
       "      <td>1265846400</td>\n",
       "      <td>39</td>\n",
       "      <td>Sam Harris</td>\n",
       "      <td>Sam Harris: Science can answer moral questions</td>\n",
       "      <td>1</td>\n",
       "      <td>1269249180</td>\n",
       "      <td>[{'id': 8, 'name': 'Informative', 'count': 923...</td>\n",
       "      <td>[{'id': 666, 'hero': 'https://pe.tedcdn.com/im...</td>\n",
       "      <td>Neuroscientist, philosopher</td>\n",
       "      <td>['culture', 'evolutionary psychology', 'global...</td>\n",
       "      <td>Science can answer moral questions</td>\n",
       "      <td>https://www.ted.com/talks/sam_harris_science_c...</td>\n",
       "      <td>3433437</td>\n",
       "    </tr>\n",
       "    <tr>\n",
       "      <th>0</th>\n",
       "      <td>4553</td>\n",
       "      <td>Sir Ken Robinson makes an entertaining and pro...</td>\n",
       "      <td>1164</td>\n",
       "      <td>TED2006</td>\n",
       "      <td>1140825600</td>\n",
       "      <td>60</td>\n",
       "      <td>Ken Robinson</td>\n",
       "      <td>Ken Robinson: Do schools kill creativity?</td>\n",
       "      <td>1</td>\n",
       "      <td>1151367060</td>\n",
       "      <td>[{'id': 7, 'name': 'Funny', 'count': 19645}, {...</td>\n",
       "      <td>[{'id': 865, 'hero': 'https://pe.tedcdn.com/im...</td>\n",
       "      <td>Author/educator</td>\n",
       "      <td>['children', 'creativity', 'culture', 'dance',...</td>\n",
       "      <td>Do schools kill creativity?</td>\n",
       "      <td>https://www.ted.com/talks/ken_robinson_says_sc...</td>\n",
       "      <td>47227110</td>\n",
       "    </tr>\n",
       "    <tr>\n",
       "      <th>96</th>\n",
       "      <td>6404</td>\n",
       "      <td>Richard Dawkins urges all atheists to openly s...</td>\n",
       "      <td>1750</td>\n",
       "      <td>TED2002</td>\n",
       "      <td>1012608000</td>\n",
       "      <td>42</td>\n",
       "      <td>Richard Dawkins</td>\n",
       "      <td>Richard Dawkins: Militant atheism</td>\n",
       "      <td>1</td>\n",
       "      <td>1176689220</td>\n",
       "      <td>[{'id': 3, 'name': 'Courageous', 'count': 3236...</td>\n",
       "      <td>[{'id': 86, 'hero': 'https://pe.tedcdn.com/ima...</td>\n",
       "      <td>Evolutionary biologist</td>\n",
       "      <td>['God', 'atheism', 'culture', 'religion', 'sci...</td>\n",
       "      <td>Militant atheism</td>\n",
       "      <td>https://www.ted.com/talks/richard_dawkins_on_m...</td>\n",
       "      <td>4374792</td>\n",
       "    </tr>\n",
       "  </tbody>\n",
       "</table>\n",
       "</div>"
      ],
      "text/plain": [
       "      comments                                        description  duration  \\\n",
       "1787      2673  Our consciousness is a fundamental aspect of o...      1117   \n",
       "201       2877  Jill Bolte Taylor got a research opportunity f...      1099   \n",
       "644       3356  Questions of good and evil, right and wrong ar...      1386   \n",
       "0         4553  Sir Ken Robinson makes an entertaining and pro...      1164   \n",
       "96        6404  Richard Dawkins urges all atheists to openly s...      1750   \n",
       "\n",
       "        event   film_date  languages       main_speaker  \\\n",
       "1787  TED2014  1395100800         33     David Chalmers   \n",
       "201   TED2008  1204070400         49  Jill Bolte Taylor   \n",
       "644   TED2010  1265846400         39         Sam Harris   \n",
       "0     TED2006  1140825600         60       Ken Robinson   \n",
       "96    TED2002  1012608000         42    Richard Dawkins   \n",
       "\n",
       "                                                   name  num_speaker  \\\n",
       "1787  David Chalmers: How do you explain consciousness?            1   \n",
       "201             Jill Bolte Taylor: My stroke of insight            1   \n",
       "644      Sam Harris: Science can answer moral questions            1   \n",
       "0             Ken Robinson: Do schools kill creativity?            1   \n",
       "96                    Richard Dawkins: Militant atheism            1   \n",
       "\n",
       "      published_date                                            ratings  \\\n",
       "1787      1405350484  [{'id': 25, 'name': 'OK', 'count': 280}, {'id'...   \n",
       "201       1205284200  [{'id': 22, 'name': 'Fascinating', 'count': 14...   \n",
       "644       1269249180  [{'id': 8, 'name': 'Informative', 'count': 923...   \n",
       "0         1151367060  [{'id': 7, 'name': 'Funny', 'count': 19645}, {...   \n",
       "96        1176689220  [{'id': 3, 'name': 'Courageous', 'count': 3236...   \n",
       "\n",
       "                                          related_talks  \\\n",
       "1787  [{'id': 1308, 'hero': 'https://pe.tedcdn.com/i...   \n",
       "201   [{'id': 184, 'hero': 'https://pe.tedcdn.com/im...   \n",
       "644   [{'id': 666, 'hero': 'https://pe.tedcdn.com/im...   \n",
       "0     [{'id': 865, 'hero': 'https://pe.tedcdn.com/im...   \n",
       "96    [{'id': 86, 'hero': 'https://pe.tedcdn.com/ima...   \n",
       "\n",
       "               speaker_occupation  \\\n",
       "1787                  Philosopher   \n",
       "201                Neuroanatomist   \n",
       "644   Neuroscientist, philosopher   \n",
       "0                 Author/educator   \n",
       "96         Evolutionary biologist   \n",
       "\n",
       "                                                   tags  \\\n",
       "1787  ['brain', 'consciousness', 'neuroscience', 'ph...   \n",
       "201   ['biology', 'brain', 'consciousness', 'global ...   \n",
       "644   ['culture', 'evolutionary psychology', 'global...   \n",
       "0     ['children', 'creativity', 'culture', 'dance',...   \n",
       "96    ['God', 'atheism', 'culture', 'religion', 'sci...   \n",
       "\n",
       "                                   title  \\\n",
       "1787   How do you explain consciousness?   \n",
       "201                 My stroke of insight   \n",
       "644   Science can answer moral questions   \n",
       "0            Do schools kill creativity?   \n",
       "96                      Militant atheism   \n",
       "\n",
       "                                                    url     views  \n",
       "1787  https://www.ted.com/talks/david_chalmers_how_d...   2162764  \n",
       "201   https://www.ted.com/talks/jill_bolte_taylor_s_...  21190883  \n",
       "644   https://www.ted.com/talks/sam_harris_science_c...   3433437  \n",
       "0     https://www.ted.com/talks/ken_robinson_says_sc...  47227110  \n",
       "96    https://www.ted.com/talks/richard_dawkins_on_m...   4374792  "
      ]
     },
     "execution_count": 25,
     "metadata": {},
     "output_type": "execute_result"
    }
   ],
   "source": [
    "ted.sort_values('comments').tail()"
   ]
  },
  {
   "cell_type": "markdown",
   "metadata": {},
   "source": [
    "Militant atheism seems to be highest however;this is biased in favor of older talks"
   ]
  },
  {
   "cell_type": "code",
   "execution_count": 26,
   "metadata": {},
   "outputs": [],
   "source": [
    "ted['comments_per_view'] = ted.comments / ted.views"
   ]
  },
  {
   "cell_type": "code",
   "execution_count": 27,
   "metadata": {},
   "outputs": [
    {
     "data": {
      "text/html": [
       "<div>\n",
       "<style scoped>\n",
       "    .dataframe tbody tr th:only-of-type {\n",
       "        vertical-align: middle;\n",
       "    }\n",
       "\n",
       "    .dataframe tbody tr th {\n",
       "        vertical-align: top;\n",
       "    }\n",
       "\n",
       "    .dataframe thead th {\n",
       "        text-align: right;\n",
       "    }\n",
       "</style>\n",
       "<table border=\"1\" class=\"dataframe\">\n",
       "  <thead>\n",
       "    <tr style=\"text-align: right;\">\n",
       "      <th></th>\n",
       "      <th>comments</th>\n",
       "      <th>description</th>\n",
       "      <th>duration</th>\n",
       "      <th>event</th>\n",
       "      <th>film_date</th>\n",
       "      <th>languages</th>\n",
       "      <th>main_speaker</th>\n",
       "      <th>name</th>\n",
       "      <th>num_speaker</th>\n",
       "      <th>published_date</th>\n",
       "      <th>ratings</th>\n",
       "      <th>related_talks</th>\n",
       "      <th>speaker_occupation</th>\n",
       "      <th>tags</th>\n",
       "      <th>title</th>\n",
       "      <th>url</th>\n",
       "      <th>views</th>\n",
       "      <th>comments_per_view</th>\n",
       "    </tr>\n",
       "  </thead>\n",
       "  <tbody>\n",
       "    <tr>\n",
       "      <th>954</th>\n",
       "      <td>2492</td>\n",
       "      <td>Janet Echelman found her true voice as an arti...</td>\n",
       "      <td>566</td>\n",
       "      <td>TED2011</td>\n",
       "      <td>1299110400</td>\n",
       "      <td>35</td>\n",
       "      <td>Janet Echelman</td>\n",
       "      <td>Janet Echelman: Taking imagination seriously</td>\n",
       "      <td>1</td>\n",
       "      <td>1307489760</td>\n",
       "      <td>[{'id': 23, 'name': 'Jaw-dropping', 'count': 3...</td>\n",
       "      <td>[{'id': 453, 'hero': 'https://pe.tedcdn.com/im...</td>\n",
       "      <td>Artist</td>\n",
       "      <td>['art', 'cities', 'culture', 'data', 'design',...</td>\n",
       "      <td>Taking imagination seriously</td>\n",
       "      <td>https://www.ted.com/talks/janet_echelman</td>\n",
       "      <td>1832930</td>\n",
       "      <td>0.001360</td>\n",
       "    </tr>\n",
       "    <tr>\n",
       "      <th>694</th>\n",
       "      <td>1502</td>\n",
       "      <td>Filmmaker Sharmeen Obaid-Chinoy takes on a ter...</td>\n",
       "      <td>489</td>\n",
       "      <td>TED2010</td>\n",
       "      <td>1265760000</td>\n",
       "      <td>32</td>\n",
       "      <td>Sharmeen Obaid-Chinoy</td>\n",
       "      <td>Sharmeen Obaid-Chinoy: Inside a school for sui...</td>\n",
       "      <td>1</td>\n",
       "      <td>1274865960</td>\n",
       "      <td>[{'id': 23, 'name': 'Jaw-dropping', 'count': 3...</td>\n",
       "      <td>[{'id': 171, 'hero': 'https://pe.tedcdn.com/im...</td>\n",
       "      <td>Filmmaker</td>\n",
       "      <td>['TED Fellows', 'children', 'culture', 'film',...</td>\n",
       "      <td>Inside a school for suicide bombers</td>\n",
       "      <td>https://www.ted.com/talks/sharmeen_obaid_chino...</td>\n",
       "      <td>1057238</td>\n",
       "      <td>0.001421</td>\n",
       "    </tr>\n",
       "    <tr>\n",
       "      <th>96</th>\n",
       "      <td>6404</td>\n",
       "      <td>Richard Dawkins urges all atheists to openly s...</td>\n",
       "      <td>1750</td>\n",
       "      <td>TED2002</td>\n",
       "      <td>1012608000</td>\n",
       "      <td>42</td>\n",
       "      <td>Richard Dawkins</td>\n",
       "      <td>Richard Dawkins: Militant atheism</td>\n",
       "      <td>1</td>\n",
       "      <td>1176689220</td>\n",
       "      <td>[{'id': 3, 'name': 'Courageous', 'count': 3236...</td>\n",
       "      <td>[{'id': 86, 'hero': 'https://pe.tedcdn.com/ima...</td>\n",
       "      <td>Evolutionary biologist</td>\n",
       "      <td>['God', 'atheism', 'culture', 'religion', 'sci...</td>\n",
       "      <td>Militant atheism</td>\n",
       "      <td>https://www.ted.com/talks/richard_dawkins_on_m...</td>\n",
       "      <td>4374792</td>\n",
       "      <td>0.001464</td>\n",
       "    </tr>\n",
       "    <tr>\n",
       "      <th>803</th>\n",
       "      <td>834</td>\n",
       "      <td>David Bismark demos a new system for voting th...</td>\n",
       "      <td>422</td>\n",
       "      <td>TEDGlobal 2010</td>\n",
       "      <td>1279065600</td>\n",
       "      <td>36</td>\n",
       "      <td>David Bismark</td>\n",
       "      <td>David Bismark: E-voting without fraud</td>\n",
       "      <td>1</td>\n",
       "      <td>1288685640</td>\n",
       "      <td>[{'id': 25, 'name': 'OK', 'count': 111}, {'id'...</td>\n",
       "      <td>[{'id': 803, 'hero': 'https://pe.tedcdn.com/im...</td>\n",
       "      <td>Voting system designer</td>\n",
       "      <td>['culture', 'democracy', 'design', 'global iss...</td>\n",
       "      <td>E-voting without fraud</td>\n",
       "      <td>https://www.ted.com/talks/david_bismark_e_voti...</td>\n",
       "      <td>543551</td>\n",
       "      <td>0.001534</td>\n",
       "    </tr>\n",
       "    <tr>\n",
       "      <th>744</th>\n",
       "      <td>649</td>\n",
       "      <td>Hours before New York lawmakers rejected a key...</td>\n",
       "      <td>453</td>\n",
       "      <td>New York State Senate</td>\n",
       "      <td>1259712000</td>\n",
       "      <td>0</td>\n",
       "      <td>Diane J. Savino</td>\n",
       "      <td>Diane J. Savino: The case for same-sex marriage</td>\n",
       "      <td>1</td>\n",
       "      <td>1282062180</td>\n",
       "      <td>[{'id': 25, 'name': 'OK', 'count': 100}, {'id'...</td>\n",
       "      <td>[{'id': 217, 'hero': 'https://pe.tedcdn.com/im...</td>\n",
       "      <td>Senator</td>\n",
       "      <td>['God', 'LGBT', 'culture', 'government', 'law'...</td>\n",
       "      <td>The case for same-sex marriage</td>\n",
       "      <td>https://www.ted.com/talks/diane_j_savino_the_c...</td>\n",
       "      <td>292395</td>\n",
       "      <td>0.002220</td>\n",
       "    </tr>\n",
       "  </tbody>\n",
       "</table>\n",
       "</div>"
      ],
      "text/plain": [
       "     comments                                        description  duration  \\\n",
       "954      2492  Janet Echelman found her true voice as an arti...       566   \n",
       "694      1502  Filmmaker Sharmeen Obaid-Chinoy takes on a ter...       489   \n",
       "96       6404  Richard Dawkins urges all atheists to openly s...      1750   \n",
       "803       834  David Bismark demos a new system for voting th...       422   \n",
       "744       649  Hours before New York lawmakers rejected a key...       453   \n",
       "\n",
       "                     event   film_date  languages           main_speaker  \\\n",
       "954                TED2011  1299110400         35         Janet Echelman   \n",
       "694                TED2010  1265760000         32  Sharmeen Obaid-Chinoy   \n",
       "96                 TED2002  1012608000         42        Richard Dawkins   \n",
       "803         TEDGlobal 2010  1279065600         36          David Bismark   \n",
       "744  New York State Senate  1259712000          0        Diane J. Savino   \n",
       "\n",
       "                                                  name  num_speaker  \\\n",
       "954       Janet Echelman: Taking imagination seriously            1   \n",
       "694  Sharmeen Obaid-Chinoy: Inside a school for sui...            1   \n",
       "96                   Richard Dawkins: Militant atheism            1   \n",
       "803              David Bismark: E-voting without fraud            1   \n",
       "744    Diane J. Savino: The case for same-sex marriage            1   \n",
       "\n",
       "     published_date                                            ratings  \\\n",
       "954      1307489760  [{'id': 23, 'name': 'Jaw-dropping', 'count': 3...   \n",
       "694      1274865960  [{'id': 23, 'name': 'Jaw-dropping', 'count': 3...   \n",
       "96       1176689220  [{'id': 3, 'name': 'Courageous', 'count': 3236...   \n",
       "803      1288685640  [{'id': 25, 'name': 'OK', 'count': 111}, {'id'...   \n",
       "744      1282062180  [{'id': 25, 'name': 'OK', 'count': 100}, {'id'...   \n",
       "\n",
       "                                         related_talks  \\\n",
       "954  [{'id': 453, 'hero': 'https://pe.tedcdn.com/im...   \n",
       "694  [{'id': 171, 'hero': 'https://pe.tedcdn.com/im...   \n",
       "96   [{'id': 86, 'hero': 'https://pe.tedcdn.com/ima...   \n",
       "803  [{'id': 803, 'hero': 'https://pe.tedcdn.com/im...   \n",
       "744  [{'id': 217, 'hero': 'https://pe.tedcdn.com/im...   \n",
       "\n",
       "         speaker_occupation  \\\n",
       "954                  Artist   \n",
       "694               Filmmaker   \n",
       "96   Evolutionary biologist   \n",
       "803  Voting system designer   \n",
       "744                 Senator   \n",
       "\n",
       "                                                  tags  \\\n",
       "954  ['art', 'cities', 'culture', 'data', 'design',...   \n",
       "694  ['TED Fellows', 'children', 'culture', 'film',...   \n",
       "96   ['God', 'atheism', 'culture', 'religion', 'sci...   \n",
       "803  ['culture', 'democracy', 'design', 'global iss...   \n",
       "744  ['God', 'LGBT', 'culture', 'government', 'law'...   \n",
       "\n",
       "                                   title  \\\n",
       "954         Taking imagination seriously   \n",
       "694  Inside a school for suicide bombers   \n",
       "96                      Militant atheism   \n",
       "803               E-voting without fraud   \n",
       "744       The case for same-sex marriage   \n",
       "\n",
       "                                                   url    views  \\\n",
       "954           https://www.ted.com/talks/janet_echelman  1832930   \n",
       "694  https://www.ted.com/talks/sharmeen_obaid_chino...  1057238   \n",
       "96   https://www.ted.com/talks/richard_dawkins_on_m...  4374792   \n",
       "803  https://www.ted.com/talks/david_bismark_e_voti...   543551   \n",
       "744  https://www.ted.com/talks/diane_j_savino_the_c...   292395   \n",
       "\n",
       "     comments_per_view  \n",
       "954           0.001360  \n",
       "694           0.001421  \n",
       "96            0.001464  \n",
       "803           0.001534  \n",
       "744           0.002220  "
      ]
     },
     "execution_count": 27,
     "metadata": {},
     "output_type": "execute_result"
    }
   ],
   "source": [
    "ted.sort_values('comments_per_view').tail()"
   ]
  },
  {
   "cell_type": "markdown",
   "metadata": {},
   "source": [
    "'The case for same-sex marriage' is higher than 'Militant atheism' now\n",
    "\n",
    "for every view of the same-sex marriage talk, there are 0.002 comments"
   ]
  },
  {
   "cell_type": "code",
   "execution_count": 28,
   "metadata": {},
   "outputs": [],
   "source": [
    "# make this more interpretable by inverting the calculation\n",
    "ted['views_per_comment'] = ted.views / ted.comments"
   ]
  },
  {
   "cell_type": "code",
   "execution_count": 29,
   "metadata": {},
   "outputs": [
    {
     "data": {
      "text/html": [
       "<div>\n",
       "<style scoped>\n",
       "    .dataframe tbody tr th:only-of-type {\n",
       "        vertical-align: middle;\n",
       "    }\n",
       "\n",
       "    .dataframe tbody tr th {\n",
       "        vertical-align: top;\n",
       "    }\n",
       "\n",
       "    .dataframe thead th {\n",
       "        text-align: right;\n",
       "    }\n",
       "</style>\n",
       "<table border=\"1\" class=\"dataframe\">\n",
       "  <thead>\n",
       "    <tr style=\"text-align: right;\">\n",
       "      <th></th>\n",
       "      <th>comments</th>\n",
       "      <th>description</th>\n",
       "      <th>duration</th>\n",
       "      <th>event</th>\n",
       "      <th>film_date</th>\n",
       "      <th>languages</th>\n",
       "      <th>main_speaker</th>\n",
       "      <th>name</th>\n",
       "      <th>num_speaker</th>\n",
       "      <th>published_date</th>\n",
       "      <th>ratings</th>\n",
       "      <th>related_talks</th>\n",
       "      <th>speaker_occupation</th>\n",
       "      <th>tags</th>\n",
       "      <th>title</th>\n",
       "      <th>url</th>\n",
       "      <th>views</th>\n",
       "      <th>comments_per_view</th>\n",
       "      <th>views_per_comment</th>\n",
       "    </tr>\n",
       "  </thead>\n",
       "  <tbody>\n",
       "    <tr>\n",
       "      <th>744</th>\n",
       "      <td>649</td>\n",
       "      <td>Hours before New York lawmakers rejected a key...</td>\n",
       "      <td>453</td>\n",
       "      <td>New York State Senate</td>\n",
       "      <td>1259712000</td>\n",
       "      <td>0</td>\n",
       "      <td>Diane J. Savino</td>\n",
       "      <td>Diane J. Savino: The case for same-sex marriage</td>\n",
       "      <td>1</td>\n",
       "      <td>1282062180</td>\n",
       "      <td>[{'id': 25, 'name': 'OK', 'count': 100}, {'id'...</td>\n",
       "      <td>[{'id': 217, 'hero': 'https://pe.tedcdn.com/im...</td>\n",
       "      <td>Senator</td>\n",
       "      <td>['God', 'LGBT', 'culture', 'government', 'law'...</td>\n",
       "      <td>The case for same-sex marriage</td>\n",
       "      <td>https://www.ted.com/talks/diane_j_savino_the_c...</td>\n",
       "      <td>292395</td>\n",
       "      <td>0.002220</td>\n",
       "      <td>450.531587</td>\n",
       "    </tr>\n",
       "    <tr>\n",
       "      <th>803</th>\n",
       "      <td>834</td>\n",
       "      <td>David Bismark demos a new system for voting th...</td>\n",
       "      <td>422</td>\n",
       "      <td>TEDGlobal 2010</td>\n",
       "      <td>1279065600</td>\n",
       "      <td>36</td>\n",
       "      <td>David Bismark</td>\n",
       "      <td>David Bismark: E-voting without fraud</td>\n",
       "      <td>1</td>\n",
       "      <td>1288685640</td>\n",
       "      <td>[{'id': 25, 'name': 'OK', 'count': 111}, {'id'...</td>\n",
       "      <td>[{'id': 803, 'hero': 'https://pe.tedcdn.com/im...</td>\n",
       "      <td>Voting system designer</td>\n",
       "      <td>['culture', 'democracy', 'design', 'global iss...</td>\n",
       "      <td>E-voting without fraud</td>\n",
       "      <td>https://www.ted.com/talks/david_bismark_e_voti...</td>\n",
       "      <td>543551</td>\n",
       "      <td>0.001534</td>\n",
       "      <td>651.739808</td>\n",
       "    </tr>\n",
       "    <tr>\n",
       "      <th>96</th>\n",
       "      <td>6404</td>\n",
       "      <td>Richard Dawkins urges all atheists to openly s...</td>\n",
       "      <td>1750</td>\n",
       "      <td>TED2002</td>\n",
       "      <td>1012608000</td>\n",
       "      <td>42</td>\n",
       "      <td>Richard Dawkins</td>\n",
       "      <td>Richard Dawkins: Militant atheism</td>\n",
       "      <td>1</td>\n",
       "      <td>1176689220</td>\n",
       "      <td>[{'id': 3, 'name': 'Courageous', 'count': 3236...</td>\n",
       "      <td>[{'id': 86, 'hero': 'https://pe.tedcdn.com/ima...</td>\n",
       "      <td>Evolutionary biologist</td>\n",
       "      <td>['God', 'atheism', 'culture', 'religion', 'sci...</td>\n",
       "      <td>Militant atheism</td>\n",
       "      <td>https://www.ted.com/talks/richard_dawkins_on_m...</td>\n",
       "      <td>4374792</td>\n",
       "      <td>0.001464</td>\n",
       "      <td>683.134291</td>\n",
       "    </tr>\n",
       "    <tr>\n",
       "      <th>694</th>\n",
       "      <td>1502</td>\n",
       "      <td>Filmmaker Sharmeen Obaid-Chinoy takes on a ter...</td>\n",
       "      <td>489</td>\n",
       "      <td>TED2010</td>\n",
       "      <td>1265760000</td>\n",
       "      <td>32</td>\n",
       "      <td>Sharmeen Obaid-Chinoy</td>\n",
       "      <td>Sharmeen Obaid-Chinoy: Inside a school for sui...</td>\n",
       "      <td>1</td>\n",
       "      <td>1274865960</td>\n",
       "      <td>[{'id': 23, 'name': 'Jaw-dropping', 'count': 3...</td>\n",
       "      <td>[{'id': 171, 'hero': 'https://pe.tedcdn.com/im...</td>\n",
       "      <td>Filmmaker</td>\n",
       "      <td>['TED Fellows', 'children', 'culture', 'film',...</td>\n",
       "      <td>Inside a school for suicide bombers</td>\n",
       "      <td>https://www.ted.com/talks/sharmeen_obaid_chino...</td>\n",
       "      <td>1057238</td>\n",
       "      <td>0.001421</td>\n",
       "      <td>703.886818</td>\n",
       "    </tr>\n",
       "    <tr>\n",
       "      <th>954</th>\n",
       "      <td>2492</td>\n",
       "      <td>Janet Echelman found her true voice as an arti...</td>\n",
       "      <td>566</td>\n",
       "      <td>TED2011</td>\n",
       "      <td>1299110400</td>\n",
       "      <td>35</td>\n",
       "      <td>Janet Echelman</td>\n",
       "      <td>Janet Echelman: Taking imagination seriously</td>\n",
       "      <td>1</td>\n",
       "      <td>1307489760</td>\n",
       "      <td>[{'id': 23, 'name': 'Jaw-dropping', 'count': 3...</td>\n",
       "      <td>[{'id': 453, 'hero': 'https://pe.tedcdn.com/im...</td>\n",
       "      <td>Artist</td>\n",
       "      <td>['art', 'cities', 'culture', 'data', 'design',...</td>\n",
       "      <td>Taking imagination seriously</td>\n",
       "      <td>https://www.ted.com/talks/janet_echelman</td>\n",
       "      <td>1832930</td>\n",
       "      <td>0.001360</td>\n",
       "      <td>735.525682</td>\n",
       "    </tr>\n",
       "  </tbody>\n",
       "</table>\n",
       "</div>"
      ],
      "text/plain": [
       "     comments                                        description  duration  \\\n",
       "744       649  Hours before New York lawmakers rejected a key...       453   \n",
       "803       834  David Bismark demos a new system for voting th...       422   \n",
       "96       6404  Richard Dawkins urges all atheists to openly s...      1750   \n",
       "694      1502  Filmmaker Sharmeen Obaid-Chinoy takes on a ter...       489   \n",
       "954      2492  Janet Echelman found her true voice as an arti...       566   \n",
       "\n",
       "                     event   film_date  languages           main_speaker  \\\n",
       "744  New York State Senate  1259712000          0        Diane J. Savino   \n",
       "803         TEDGlobal 2010  1279065600         36          David Bismark   \n",
       "96                 TED2002  1012608000         42        Richard Dawkins   \n",
       "694                TED2010  1265760000         32  Sharmeen Obaid-Chinoy   \n",
       "954                TED2011  1299110400         35         Janet Echelman   \n",
       "\n",
       "                                                  name  num_speaker  \\\n",
       "744    Diane J. Savino: The case for same-sex marriage            1   \n",
       "803              David Bismark: E-voting without fraud            1   \n",
       "96                   Richard Dawkins: Militant atheism            1   \n",
       "694  Sharmeen Obaid-Chinoy: Inside a school for sui...            1   \n",
       "954       Janet Echelman: Taking imagination seriously            1   \n",
       "\n",
       "     published_date                                            ratings  \\\n",
       "744      1282062180  [{'id': 25, 'name': 'OK', 'count': 100}, {'id'...   \n",
       "803      1288685640  [{'id': 25, 'name': 'OK', 'count': 111}, {'id'...   \n",
       "96       1176689220  [{'id': 3, 'name': 'Courageous', 'count': 3236...   \n",
       "694      1274865960  [{'id': 23, 'name': 'Jaw-dropping', 'count': 3...   \n",
       "954      1307489760  [{'id': 23, 'name': 'Jaw-dropping', 'count': 3...   \n",
       "\n",
       "                                         related_talks  \\\n",
       "744  [{'id': 217, 'hero': 'https://pe.tedcdn.com/im...   \n",
       "803  [{'id': 803, 'hero': 'https://pe.tedcdn.com/im...   \n",
       "96   [{'id': 86, 'hero': 'https://pe.tedcdn.com/ima...   \n",
       "694  [{'id': 171, 'hero': 'https://pe.tedcdn.com/im...   \n",
       "954  [{'id': 453, 'hero': 'https://pe.tedcdn.com/im...   \n",
       "\n",
       "         speaker_occupation  \\\n",
       "744                 Senator   \n",
       "803  Voting system designer   \n",
       "96   Evolutionary biologist   \n",
       "694               Filmmaker   \n",
       "954                  Artist   \n",
       "\n",
       "                                                  tags  \\\n",
       "744  ['God', 'LGBT', 'culture', 'government', 'law'...   \n",
       "803  ['culture', 'democracy', 'design', 'global iss...   \n",
       "96   ['God', 'atheism', 'culture', 'religion', 'sci...   \n",
       "694  ['TED Fellows', 'children', 'culture', 'film',...   \n",
       "954  ['art', 'cities', 'culture', 'data', 'design',...   \n",
       "\n",
       "                                   title  \\\n",
       "744       The case for same-sex marriage   \n",
       "803               E-voting without fraud   \n",
       "96                      Militant atheism   \n",
       "694  Inside a school for suicide bombers   \n",
       "954         Taking imagination seriously   \n",
       "\n",
       "                                                   url    views  \\\n",
       "744  https://www.ted.com/talks/diane_j_savino_the_c...   292395   \n",
       "803  https://www.ted.com/talks/david_bismark_e_voti...   543551   \n",
       "96   https://www.ted.com/talks/richard_dawkins_on_m...  4374792   \n",
       "694  https://www.ted.com/talks/sharmeen_obaid_chino...  1057238   \n",
       "954           https://www.ted.com/talks/janet_echelman  1832930   \n",
       "\n",
       "     comments_per_view  views_per_comment  \n",
       "744           0.002220         450.531587  \n",
       "803           0.001534         651.739808  \n",
       "96            0.001464         683.134291  \n",
       "694           0.001421         703.886818  \n",
       "954           0.001360         735.525682  "
      ]
     },
     "execution_count": 29,
     "metadata": {},
     "output_type": "execute_result"
    }
   ],
   "source": [
    "ted.sort_values('views_per_comment').head()"
   ]
  },
  {
   "cell_type": "markdown",
   "metadata": {},
   "source": [
    " 1 out of every 450 people leave a comment"
   ]
  },
  {
   "cell_type": "markdown",
   "metadata": {},
   "source": [
    "# 5)-Visualize the distribution of comments"
   ]
  },
  {
   "cell_type": "code",
   "execution_count": 30,
   "metadata": {},
   "outputs": [
    {
     "data": {
      "text/plain": [
       "<matplotlib.axes._subplots.AxesSubplot at 0x294b4cd5780>"
      ]
     },
     "execution_count": 30,
     "metadata": {},
     "output_type": "execute_result"
    },
    {
     "data": {
      "image/png": "[encoded data removed]",
      "text/plain": [
       "<Figure size 432x288 with 1 Axes>"
      ]
     },
     "metadata": {},
     "output_type": "display_data"
    }
   ],
   "source": [
    "ted.comments.plot()"
   ]
  },
  {
   "cell_type": "markdown",
   "metadata": {},
   "source": [
    "x-axis is index<br>\n",
    "y-axis is value of comments field"
   ]
  },
  {
   "cell_type": "markdown",
   "metadata": {},
   "source": [
    "**As there is no time component so, line plot is not right plot**"
   ]
  },
  {
   "cell_type": "code",
   "execution_count": 31,
   "metadata": {},
   "outputs": [
    {
     "data": {
      "text/plain": [
       "<matplotlib.axes._subplots.AxesSubplot at 0x294b6f45860>"
      ]
     },
     "execution_count": 31,
     "metadata": {},
     "output_type": "execute_result"
    },
    {
     "data": {
      "image/png": "[encoded data removed]",
      "text/plain": [
       "<Figure size 432x288 with 1 Axes>"
      ]
     },
     "metadata": {},
     "output_type": "display_data"
    }
   ],
   "source": [
    "ted.comments.plot(kind='hist')"
   ]
  },
  {
   "cell_type": "code",
   "execution_count": 32,
   "metadata": {},
   "outputs": [
    {
     "data": {
      "text/plain": [
       "<matplotlib.axes._subplots.AxesSubplot at 0x294b6ee58d0>"
      ]
     },
     "execution_count": 32,
     "metadata": {},
     "output_type": "execute_result"
    },
    {
     "data": {
      "image/png": "[encoded data removed]",
      "text/plain": [
       "<Figure size 432x288 with 1 Axes>"
      ]
     },
     "metadata": {},
     "output_type": "display_data"
    }
   ],
   "source": [
    "# modify the plot to be more informative\n",
    "ted[ted.comments < 1000].comments.plot(kind='hist')"
   ]
  },
  {
   "cell_type": "code",
   "execution_count": 33,
   "metadata": {},
   "outputs": [
    {
     "data": {
      "text/plain": [
       "(32, 19)"
      ]
     },
     "execution_count": 33,
     "metadata": {},
     "output_type": "execute_result"
    }
   ],
   "source": [
    "ted[ted.comments >= 1000].shape"
   ]
  },
  {
   "cell_type": "markdown",
   "metadata": {},
   "source": [
    "We are only losing 32 comments out of our bound"
   ]
  },
  {
   "cell_type": "markdown",
   "metadata": {},
   "source": [
    "### using query method"
   ]
  },
  {
   "cell_type": "code",
   "execution_count": 34,
   "metadata": {},
   "outputs": [
    {
     "data": {
      "text/plain": [
       "<matplotlib.axes._subplots.AxesSubplot at 0x294b746c128>"
      ]
     },
     "execution_count": 34,
     "metadata": {},
     "output_type": "execute_result"
    },
    {
     "data": {
      "image/png": "[encoded data removed]",
      "text/plain": [
       "<Figure size 432x288 with 1 Axes>"
      ]
     },
     "metadata": {},
     "output_type": "display_data"
    }
   ],
   "source": [
    "# Another coding style\n",
    "ted.query('comments < 1000').comments.plot(kind='hist')"
   ]
  },
  {
   "cell_type": "markdown",
   "metadata": {},
   "source": [
    "### loc method"
   ]
  },
  {
   "cell_type": "code",
   "execution_count": 35,
   "metadata": {},
   "outputs": [
    {
     "data": {
      "text/plain": [
       "<matplotlib.axes._subplots.AxesSubplot at 0x294b4b14e10>"
      ]
     },
     "execution_count": 35,
     "metadata": {},
     "output_type": "execute_result"
    },
    {
     "data": {
      "image/png": "[encoded data removed]",
      "text/plain": [
       "<Figure size 432x288 with 1 Axes>"
      ]
     },
     "metadata": {},
     "output_type": "display_data"
    }
   ],
   "source": [
    "ted.loc[ted.comments < 1000, 'comments'].plot(kind='hist')"
   ]
  },
  {
   "cell_type": "code",
   "execution_count": 36,
   "metadata": {},
   "outputs": [
    {
     "data": {
      "text/plain": [
       "<matplotlib.axes._subplots.AxesSubplot at 0x294b43cca20>"
      ]
     },
     "execution_count": 36,
     "metadata": {},
     "output_type": "execute_result"
    },
    {
     "data": {
      "image/png": "[encoded data removed]",
      "text/plain": [
       "<Figure size 432x288 with 1 Axes>"
      ]
     },
     "metadata": {},
     "output_type": "display_data"
    }
   ],
   "source": [
    "# increase the number of bins to see more detail\n",
    "ted.loc[ted.comments < 1000, 'comments'].plot(kind='hist', bins=20)"
   ]
  },
  {
   "cell_type": "markdown",
   "metadata": {},
   "source": [
    "### boxplot"
   ]
  },
  {
   "cell_type": "code",
   "execution_count": 37,
   "metadata": {},
   "outputs": [
    {
     "data": {
      "text/plain": [
       "<matplotlib.axes._subplots.AxesSubplot at 0x294b4444d30>"
      ]
     },
     "execution_count": 37,
     "metadata": {},
     "output_type": "execute_result"
    },
    {
     "data": {
      "image/png": "[encoded data removed]",
      "text/plain": [
       "<Figure size 432x288 with 1 Axes>"
      ]
     },
     "metadata": {},
     "output_type": "display_data"
    }
   ],
   "source": [
    "ted.loc[ted.comments < 1000, 'comments'].plot(kind='box')"
   ]
  },
  {
   "cell_type": "markdown",
   "metadata": {},
   "source": [
    "less useful for concentrated distributions because of outliers"
   ]
  },
  {
   "cell_type": "markdown",
   "metadata": {},
   "source": [
    "# 6)-datetime\n",
    "\n",
    "Plot the number of talks that took place each year"
   ]
  },
  {
   "cell_type": "code",
   "execution_count": 38,
   "metadata": {},
   "outputs": [
    {
     "data": {
      "text/plain": [
       "TED2014                     84\n",
       "TED2009                     83\n",
       "TED2016                     77\n",
       "TED2013                     77\n",
       "TED2015                     75\n",
       "TED2011                     70\n",
       "TEDGlobal 2012              70\n",
       "TED2010                     68\n",
       "TEDGlobal 2011              68\n",
       "TED2007                     68\n",
       "TED2017                     67\n",
       "TEDGlobal 2013              66\n",
       "TEDGlobal 2009              65\n",
       "TED2012                     65\n",
       "TED2008                     57\n",
       "TEDGlobal 2010              55\n",
       "TEDGlobal 2014              51\n",
       "TED2006                     45\n",
       "TED2005                     37\n",
       "TEDIndia 2009               35\n",
       "TEDSummit                   34\n",
       "TED2003                     34\n",
       "TEDWomen 2010               34\n",
       "TED2004                     31\n",
       "TEDWomen 2015               28\n",
       "TED2002                     28\n",
       "TEDGlobal 2007              27\n",
       "TEDGlobal 2005              26\n",
       "TEDWomen 2016               25\n",
       "TEDxBeaconStreet            22\n",
       "                            ..\n",
       "TEDxProvidence               1\n",
       "TEDxColumbusWomen            1\n",
       "DLD 2007                     1\n",
       "TEDxEastEnd                  1\n",
       "TEDxGrandRapids              1\n",
       "New York State Senate        1\n",
       "TEDxNatick                   1\n",
       "TEDxNijmegen                 1\n",
       "TEDxZurich 2011              1\n",
       "TEDxCrenshaw                 1\n",
       "TEDxSiliconValley            1\n",
       "TEDxHamburg                  1\n",
       "TEDxCHUV                     1\n",
       "TED@Nairobi                  1\n",
       "TED@Johannesburg             1\n",
       "TED@Bangalore                1\n",
       "TEDxIndianapolis             1\n",
       "TEDxHampshireCollege         1\n",
       "TEDxJaffa 2012               1\n",
       "TEDxBoston 2009              1\n",
       "TED@SXSWi                    1\n",
       "TED1990                      1\n",
       "TEDxBinghamtonUniversity     1\n",
       "TED1984                      1\n",
       "TEDxPortland                 1\n",
       "Fort Worth City Council      1\n",
       "Harvard University           1\n",
       "TEDxCreativeCoast            1\n",
       "TED@StateStreet Boston       1\n",
       "TEDxDesMoines                1\n",
       "Name: event, Length: 355, dtype: int64"
      ]
     },
     "execution_count": 38,
     "metadata": {},
     "output_type": "execute_result"
    }
   ],
   "source": [
    "#Starting with event column\n",
    "ted.event.value_counts()"
   ]
  },
  {
   "cell_type": "code",
   "execution_count": 39,
   "metadata": {},
   "outputs": [
    {
     "data": {
      "text/plain": [
       "1246        TEDxSummit\n",
       "79      TEDGlobal 2005\n",
       "1158    TEDGlobal 2011\n",
       "871      TEDWomen 2010\n",
       "2198           TED2016\n",
       "1567         TEDxTokyo\n",
       "579      TEDIndia 2009\n",
       "2417    TEDxBratislava\n",
       "576     TEDGlobal 2009\n",
       "560     TEDGlobal 2009\n",
       "Name: event, dtype: object"
      ]
     },
     "execution_count": 39,
     "metadata": {},
     "output_type": "execute_result"
    }
   ],
   "source": [
    "#showing 10 randomly selected events\n",
    "ted.event.sample(10)"
   ]
  },
  {
   "cell_type": "code",
   "execution_count": 40,
   "metadata": {},
   "outputs": [
    {
     "data": {
      "text/plain": [
       "0    1140825600\n",
       "1    1140825600\n",
       "2    1140739200\n",
       "3    1140912000\n",
       "4    1140566400\n",
       "Name: film_date, dtype: int64"
      ]
     },
     "execution_count": 40,
     "metadata": {},
     "output_type": "execute_result"
    }
   ],
   "source": [
    "# Let's try film_date . It is given as Unix timestamp of the filming\n",
    "ted.film_date.head()"
   ]
  },
  {
   "cell_type": "code",
   "execution_count": 41,
   "metadata": {},
   "outputs": [
    {
     "data": {
      "text/plain": [
       "dtype('int64')"
      ]
     },
     "execution_count": 41,
     "metadata": {},
     "output_type": "execute_result"
    }
   ],
   "source": [
    "ted['film_date'].dtypes"
   ]
  },
  {
   "cell_type": "markdown",
   "metadata": {},
   "source": [
    "We need to convert it into datetime 1st so that pandas may recognize its data type."
   ]
  },
  {
   "cell_type": "markdown",
   "metadata": {},
   "source": [
    "### pd.to_datetime() function"
   ]
  },
  {
   "cell_type": "code",
   "execution_count": 42,
   "metadata": {},
   "outputs": [
    {
     "data": {
      "text/plain": [
       "0   1970-01-01 00:00:01.140825600\n",
       "1   1970-01-01 00:00:01.140825600\n",
       "2   1970-01-01 00:00:01.140739200\n",
       "3   1970-01-01 00:00:01.140912000\n",
       "4   1970-01-01 00:00:01.140566400\n",
       "Name: film_date, dtype: datetime64[ns]"
      ]
     },
     "execution_count": 42,
     "metadata": {},
     "output_type": "execute_result"
    }
   ],
   "source": [
    "pd.to_datetime(ted.film_date).head()"
   ]
  },
  {
   "cell_type": "markdown",
   "metadata": {},
   "source": [
    " results don't look right"
   ]
  },
  {
   "cell_type": "markdown",
   "metadata": {},
   "source": [
    "### Use unix epoch time"
   ]
  },
  {
   "cell_type": "code",
   "execution_count": 43,
   "metadata": {},
   "outputs": [
    {
     "data": {
      "text/plain": [
       "0   2006-02-25\n",
       "1   2006-02-25\n",
       "2   2006-02-24\n",
       "3   2006-02-26\n",
       "4   2006-02-22\n",
       "Name: film_date, dtype: datetime64[ns]"
      ]
     },
     "execution_count": 43,
     "metadata": {},
     "output_type": "execute_result"
    }
   ],
   "source": [
    "pd.to_datetime(ted.film_date, unit='s').head()"
   ]
  },
  {
   "cell_type": "code",
   "execution_count": 44,
   "metadata": {},
   "outputs": [],
   "source": [
    "# creating a new column to store\n",
    "ted['film_datetime'] = pd.to_datetime(ted.film_date, unit='s')"
   ]
  },
  {
   "cell_type": "code",
   "execution_count": 45,
   "metadata": {},
   "outputs": [
    {
     "data": {
      "text/plain": [
       "dtype('<M8[ns]')"
      ]
     },
     "execution_count": 45,
     "metadata": {},
     "output_type": "execute_result"
    }
   ],
   "source": [
    "# new column uses the datetime data type\n",
    "ted['film_datetime'].dtypes"
   ]
  },
  {
   "cell_type": "code",
   "execution_count": 46,
   "metadata": {},
   "outputs": [
    {
     "data": {
      "text/html": [
       "<div>\n",
       "<style scoped>\n",
       "    .dataframe tbody tr th:only-of-type {\n",
       "        vertical-align: middle;\n",
       "    }\n",
       "\n",
       "    .dataframe tbody tr th {\n",
       "        vertical-align: top;\n",
       "    }\n",
       "\n",
       "    .dataframe thead th {\n",
       "        text-align: right;\n",
       "    }\n",
       "</style>\n",
       "<table border=\"1\" class=\"dataframe\">\n",
       "  <thead>\n",
       "    <tr style=\"text-align: right;\">\n",
       "      <th></th>\n",
       "      <th>event</th>\n",
       "      <th>film_datetime</th>\n",
       "    </tr>\n",
       "  </thead>\n",
       "  <tbody>\n",
       "    <tr>\n",
       "      <th>1135</th>\n",
       "      <td>TEDSalon London Spring 2011</td>\n",
       "      <td>2011-11-11</td>\n",
       "    </tr>\n",
       "    <tr>\n",
       "      <th>66</th>\n",
       "      <td>TED2002</td>\n",
       "      <td>2002-03-01</td>\n",
       "    </tr>\n",
       "    <tr>\n",
       "      <th>1750</th>\n",
       "      <td>TED2014</td>\n",
       "      <td>2014-03-11</td>\n",
       "    </tr>\n",
       "    <tr>\n",
       "      <th>223</th>\n",
       "      <td>TEDGlobal 2007</td>\n",
       "      <td>2007-06-06</td>\n",
       "    </tr>\n",
       "    <tr>\n",
       "      <th>1676</th>\n",
       "      <td>TEDxHousesOfParliament</td>\n",
       "      <td>2013-06-20</td>\n",
       "    </tr>\n",
       "  </tbody>\n",
       "</table>\n",
       "</div>"
      ],
      "text/plain": [
       "                            event film_datetime\n",
       "1135  TEDSalon London Spring 2011    2011-11-11\n",
       "66                        TED2002    2002-03-01\n",
       "1750                      TED2014    2014-03-11\n",
       "223                TEDGlobal 2007    2007-06-06\n",
       "1676       TEDxHousesOfParliament    2013-06-20"
      ]
     },
     "execution_count": 46,
     "metadata": {},
     "output_type": "execute_result"
    }
   ],
   "source": [
    "# verify that event name matches film_datetime for a random sample like we did earlier with sample()\n",
    "\n",
    "ted[['event', 'film_datetime']].sample(5)"
   ]
  },
  {
   "cell_type": "code",
   "execution_count": 47,
   "metadata": {},
   "outputs": [
    {
     "data": {
      "text/plain": [
       "0    2006\n",
       "1    2006\n",
       "2    2006\n",
       "3    2006\n",
       "4    2006\n",
       "Name: film_datetime, dtype: int64"
      ]
     },
     "execution_count": 47,
     "metadata": {},
     "output_type": "execute_result"
    }
   ],
   "source": [
    "# if we only want to fetch year vice\n",
    "ted.film_datetime.dt.year.head()"
   ]
  },
  {
   "cell_type": "code",
   "execution_count": 48,
   "metadata": {},
   "outputs": [
    {
     "data": {
      "text/plain": [
       "0    ted2006\n",
       "1    ted2006\n",
       "2    ted2006\n",
       "3    ted2006\n",
       "4    ted2006\n",
       "Name: event, dtype: object"
      ]
     },
     "execution_count": 48,
     "metadata": {},
     "output_type": "execute_result"
    }
   ],
   "source": [
    "# similar to string methods under the str namespace\n",
    "ted.event.str.lower().head()"
   ]
  },
  {
   "cell_type": "code",
   "execution_count": 49,
   "metadata": {},
   "outputs": [
    {
     "data": {
      "text/plain": [
       "0    5\n",
       "1    5\n",
       "2    4\n",
       "3    6\n",
       "4    2\n",
       "Name: film_datetime, dtype: int64"
      ]
     },
     "execution_count": 49,
     "metadata": {},
     "output_type": "execute_result"
    }
   ],
   "source": [
    "ted.film_datetime.dt.dayofweek[:5]"
   ]
  },
  {
   "cell_type": "code",
   "execution_count": 50,
   "metadata": {},
   "outputs": [
    {
     "data": {
      "text/plain": [
       "2013    270\n",
       "2011    270\n",
       "2010    267\n",
       "2012    267\n",
       "2016    246\n",
       "2015    239\n",
       "2014    237\n",
       "2009    232\n",
       "2007    114\n",
       "2017     98\n",
       "2008     84\n",
       "2005     66\n",
       "2006     50\n",
       "2003     33\n",
       "2004     33\n",
       "2002     27\n",
       "1998      6\n",
       "2001      5\n",
       "1983      1\n",
       "1991      1\n",
       "1994      1\n",
       "1990      1\n",
       "1984      1\n",
       "1972      1\n",
       "Name: film_datetime, dtype: int64"
      ]
     },
     "execution_count": 50,
     "metadata": {},
     "output_type": "execute_result"
    }
   ],
   "source": [
    "# count the number of talks each year\n",
    "ted.film_datetime.dt.year.value_counts()"
   ]
  },
  {
   "cell_type": "code",
   "execution_count": 51,
   "metadata": {},
   "outputs": [
    {
     "data": {
      "text/plain": [
       "2550"
      ]
     },
     "execution_count": 51,
     "metadata": {},
     "output_type": "execute_result"
    }
   ],
   "source": [
    "#count calculates total values\n",
    "ted.film_datetime.dt.year.count()"
   ]
  },
  {
   "cell_type": "code",
   "execution_count": 52,
   "metadata": {},
   "outputs": [
    {
     "data": {
      "text/plain": [
       "<matplotlib.axes._subplots.AxesSubplot at 0x294b44eb710>"
      ]
     },
     "execution_count": 52,
     "metadata": {},
     "output_type": "execute_result"
    },
    {
     "data": {
      "image/png": "[encoded data removed]",
      "text/plain": [
       "<Figure size 432x288 with 1 Axes>"
      ]
     },
     "metadata": {},
     "output_type": "display_data"
    }
   ],
   "source": [
    "ted.film_datetime.dt.year.value_counts().plot(kind='bar')"
   ]
  },
  {
   "cell_type": "code",
   "execution_count": 53,
   "metadata": {},
   "outputs": [
    {
     "data": {
      "text/plain": [
       "<matplotlib.axes._subplots.AxesSubplot at 0x294b4393e10>"
      ]
     },
     "execution_count": 53,
     "metadata": {},
     "output_type": "execute_result"
    },
    {
     "data": {
      "image/png": "[encoded data removed]",
      "text/plain": [
       "<Figure size 432x288 with 1 Axes>"
      ]
     },
     "metadata": {},
     "output_type": "display_data"
    }
   ],
   "source": [
    "# drawing line plot\n",
    "ted.film_datetime.dt.year.value_counts().plot()"
   ]
  },
  {
   "cell_type": "markdown",
   "metadata": {},
   "source": [
    "As plotting is done through index so, we need to sort our values at index as well"
   ]
  },
  {
   "cell_type": "code",
   "execution_count": 54,
   "metadata": {},
   "outputs": [
    {
     "data": {
      "text/plain": [
       "<matplotlib.axes._subplots.AxesSubplot at 0x294b492d6a0>"
      ]
     },
     "execution_count": 54,
     "metadata": {},
     "output_type": "execute_result"
    },
    {
     "data": {
      "image/png": "[encoded data removed]",
      "text/plain": [
       "<Figure size 432x288 with 1 Axes>"
      ]
     },
     "metadata": {},
     "output_type": "display_data"
    }
   ],
   "source": [
    "ted.film_datetime.dt.year.value_counts().sort_index().plot()"
   ]
  },
  {
   "cell_type": "code",
   "execution_count": 55,
   "metadata": {},
   "outputs": [
    {
     "data": {
      "text/plain": [
       "<matplotlib.axes._subplots.AxesSubplot at 0x294b4980550>"
      ]
     },
     "execution_count": 55,
     "metadata": {},
     "output_type": "execute_result"
    },
    {
     "data": {
      "image/png": "[encoded data removed]",
      "text/plain": [
       "<Figure size 432x288 with 1 Axes>"
      ]
     },
     "metadata": {},
     "output_type": "display_data"
    }
   ],
   "source": [
    "ted.film_datetime.dt.year.value_counts().sort_index().plot(kind='bar')"
   ]
  },
  {
   "cell_type": "markdown",
   "metadata": {},
   "source": [
    "# 7)- Determine \"best\" events in TED history to attend"
   ]
  },
  {
   "cell_type": "code",
   "execution_count": 56,
   "metadata": {},
   "outputs": [
    {
     "data": {
      "text/plain": [
       "TED2014           84\n",
       "TED2009           83\n",
       "TED2016           77\n",
       "TED2013           77\n",
       "TED2015           75\n",
       "TED2011           70\n",
       "TEDGlobal 2012    70\n",
       "TED2010           68\n",
       "TEDGlobal 2011    68\n",
       "TED2007           68\n",
       "Name: event, dtype: int64"
      ]
     },
     "execution_count": 56,
     "metadata": {},
     "output_type": "execute_result"
    }
   ],
   "source": [
    "# count the number of talks as by event\n",
    "ted.event.value_counts().head(10)"
   ]
  },
  {
   "cell_type": "markdown",
   "metadata": {},
   "source": [
    "We need to quantify this \"best\" part. There could be two features. One is number of comments and two is number of views"
   ]
  },
  {
   "cell_type": "code",
   "execution_count": 57,
   "metadata": {},
   "outputs": [
    {
     "data": {
      "text/plain": [
       "event\n",
       "AORN Congress                   87.0\n",
       "Arbejdsglaede Live             258.0\n",
       "BBC TV                         146.0\n",
       "Bowery Poetry Club             177.0\n",
       "Business Innovation Factory     88.0\n",
       "Name: comments, dtype: float64"
      ]
     },
     "execution_count": 57,
     "metadata": {},
     "output_type": "execute_result"
    }
   ],
   "source": [
    "ted.groupby('event').comments.mean().head()"
   ]
  },
  {
   "cell_type": "markdown",
   "metadata": {},
   "source": [
    "This is average number of comments for each event"
   ]
  },
  {
   "cell_type": "code",
   "execution_count": 58,
   "metadata": {},
   "outputs": [
    {
     "data": {
      "text/plain": [
       "event\n",
       "AORN Congress                  149818.0\n",
       "Arbejdsglaede Live             971594.0\n",
       "BBC TV                         521974.0\n",
       "Bowery Poetry Club             676741.0\n",
       "Business Innovation Factory    304086.0\n",
       "Name: views, dtype: float64"
      ]
     },
     "execution_count": 58,
     "metadata": {},
     "output_type": "execute_result"
    }
   ],
   "source": [
    "ted.groupby('event').views.mean().head()"
   ]
  },
  {
   "cell_type": "markdown",
   "metadata": {},
   "source": [
    "It is rather intutive that those events that viewed higer might have higher comment rate. We can check co-relation  "
   ]
  },
  {
   "cell_type": "code",
   "execution_count": 59,
   "metadata": {},
   "outputs": [],
   "source": [
    "ted_corr=pd.DataFrame(ted[['comments','views']])"
   ]
  },
  {
   "cell_type": "code",
   "execution_count": 60,
   "metadata": {},
   "outputs": [
    {
     "data": {
      "text/html": [
       "<div>\n",
       "<style scoped>\n",
       "    .dataframe tbody tr th:only-of-type {\n",
       "        vertical-align: middle;\n",
       "    }\n",
       "\n",
       "    .dataframe tbody tr th {\n",
       "        vertical-align: top;\n",
       "    }\n",
       "\n",
       "    .dataframe thead th {\n",
       "        text-align: right;\n",
       "    }\n",
       "</style>\n",
       "<table border=\"1\" class=\"dataframe\">\n",
       "  <thead>\n",
       "    <tr style=\"text-align: right;\">\n",
       "      <th></th>\n",
       "      <th>comments</th>\n",
       "      <th>views</th>\n",
       "    </tr>\n",
       "  </thead>\n",
       "  <tbody>\n",
       "    <tr>\n",
       "      <th>0</th>\n",
       "      <td>4553</td>\n",
       "      <td>47227110</td>\n",
       "    </tr>\n",
       "    <tr>\n",
       "      <th>1</th>\n",
       "      <td>265</td>\n",
       "      <td>3200520</td>\n",
       "    </tr>\n",
       "    <tr>\n",
       "      <th>2</th>\n",
       "      <td>124</td>\n",
       "      <td>1636292</td>\n",
       "    </tr>\n",
       "    <tr>\n",
       "      <th>3</th>\n",
       "      <td>200</td>\n",
       "      <td>1697550</td>\n",
       "    </tr>\n",
       "    <tr>\n",
       "      <th>4</th>\n",
       "      <td>593</td>\n",
       "      <td>12005869</td>\n",
       "    </tr>\n",
       "  </tbody>\n",
       "</table>\n",
       "</div>"
      ],
      "text/plain": [
       "   comments     views\n",
       "0      4553  47227110\n",
       "1       265   3200520\n",
       "2       124   1636292\n",
       "3       200   1697550\n",
       "4       593  12005869"
      ]
     },
     "execution_count": 60,
     "metadata": {},
     "output_type": "execute_result"
    }
   ],
   "source": [
    "ted_corr.head()"
   ]
  },
  {
   "cell_type": "code",
   "execution_count": 61,
   "metadata": {},
   "outputs": [
    {
     "data": {
      "text/html": [
       "<div>\n",
       "<style scoped>\n",
       "    .dataframe tbody tr th:only-of-type {\n",
       "        vertical-align: middle;\n",
       "    }\n",
       "\n",
       "    .dataframe tbody tr th {\n",
       "        vertical-align: top;\n",
       "    }\n",
       "\n",
       "    .dataframe thead th {\n",
       "        text-align: right;\n",
       "    }\n",
       "</style>\n",
       "<table border=\"1\" class=\"dataframe\">\n",
       "  <thead>\n",
       "    <tr style=\"text-align: right;\">\n",
       "      <th></th>\n",
       "      <th>comments</th>\n",
       "      <th>views</th>\n",
       "    </tr>\n",
       "  </thead>\n",
       "  <tbody>\n",
       "    <tr>\n",
       "      <th>comments</th>\n",
       "      <td>1.000000</td>\n",
       "      <td>0.530939</td>\n",
       "    </tr>\n",
       "    <tr>\n",
       "      <th>views</th>\n",
       "      <td>0.530939</td>\n",
       "      <td>1.000000</td>\n",
       "    </tr>\n",
       "  </tbody>\n",
       "</table>\n",
       "</div>"
      ],
      "text/plain": [
       "          comments     views\n",
       "comments  1.000000  0.530939\n",
       "views     0.530939  1.000000"
      ]
     },
     "execution_count": 61,
     "metadata": {},
     "output_type": "execute_result"
    }
   ],
   "source": [
    "#use corr function simply\n",
    "ted_corr.corr()"
   ]
  },
  {
   "cell_type": "markdown",
   "metadata": {},
   "source": [
    "This is not very high as we anticipated. So, we are no worried about one feature explaining the same effect as of by other feature"
   ]
  },
  {
   "cell_type": "code",
   "execution_count": 62,
   "metadata": {},
   "outputs": [
    {
     "data": {
      "text/plain": [
       "event\n",
       "TEDxNorrkoping        6569493.0\n",
       "TEDxCreativeCoast     8444981.0\n",
       "TEDxBloomington       9484259.5\n",
       "TEDxHouston          16140250.5\n",
       "TEDxPuget Sound      34309432.0\n",
       "Name: views, dtype: float64"
      ]
     },
     "execution_count": 62,
     "metadata": {},
     "output_type": "execute_result"
    }
   ],
   "source": [
    "# find the largest values for views \n",
    "\n",
    "ted.groupby('event').views.mean().sort_values().tail()"
   ]
  },
  {
   "cell_type": "markdown",
   "metadata": {},
   "source": [
    "TEDxPuget Sound has higher average views. So, we may consider it as candidate for best event."
   ]
  },
  {
   "cell_type": "code",
   "execution_count": 63,
   "metadata": {},
   "outputs": [
    {
     "data": {
      "text/html": [
       "<div>\n",
       "<style scoped>\n",
       "    .dataframe tbody tr th:only-of-type {\n",
       "        vertical-align: middle;\n",
       "    }\n",
       "\n",
       "    .dataframe tbody tr th {\n",
       "        vertical-align: top;\n",
       "    }\n",
       "\n",
       "    .dataframe thead th {\n",
       "        text-align: right;\n",
       "    }\n",
       "</style>\n",
       "<table border=\"1\" class=\"dataframe\">\n",
       "  <thead>\n",
       "    <tr style=\"text-align: right;\">\n",
       "      <th></th>\n",
       "      <th>count</th>\n",
       "      <th>mean</th>\n",
       "    </tr>\n",
       "    <tr>\n",
       "      <th>event</th>\n",
       "      <th></th>\n",
       "      <th></th>\n",
       "    </tr>\n",
       "  </thead>\n",
       "  <tbody>\n",
       "    <tr>\n",
       "      <th>TEDxNorrkoping</th>\n",
       "      <td>1</td>\n",
       "      <td>6569493.0</td>\n",
       "    </tr>\n",
       "    <tr>\n",
       "      <th>TEDxCreativeCoast</th>\n",
       "      <td>1</td>\n",
       "      <td>8444981.0</td>\n",
       "    </tr>\n",
       "    <tr>\n",
       "      <th>TEDxBloomington</th>\n",
       "      <td>2</td>\n",
       "      <td>9484259.5</td>\n",
       "    </tr>\n",
       "    <tr>\n",
       "      <th>TEDxHouston</th>\n",
       "      <td>2</td>\n",
       "      <td>16140250.5</td>\n",
       "    </tr>\n",
       "    <tr>\n",
       "      <th>TEDxPuget Sound</th>\n",
       "      <td>1</td>\n",
       "      <td>34309432.0</td>\n",
       "    </tr>\n",
       "  </tbody>\n",
       "</table>\n",
       "</div>"
      ],
      "text/plain": [
       "                   count        mean\n",
       "event                               \n",
       "TEDxNorrkoping         1   6569493.0\n",
       "TEDxCreativeCoast      1   8444981.0\n",
       "TEDxBloomington        2   9484259.5\n",
       "TEDxHouston            2  16140250.5\n",
       "TEDxPuget Sound        1  34309432.0"
      ]
     },
     "execution_count": 63,
     "metadata": {},
     "output_type": "execute_result"
    }
   ],
   "source": [
    "ted.groupby('event').views.agg(['count', 'mean']).sort_values('mean').tail()"
   ]
  },
  {
   "cell_type": "markdown",
   "metadata": {},
   "source": [
    "TEDxPuget Sound has only one count. So, perhaps not an ideal case for us"
   ]
  },
  {
   "cell_type": "code",
   "execution_count": 64,
   "metadata": {},
   "outputs": [
    {
     "data": {
      "text/html": [
       "<div>\n",
       "<style scoped>\n",
       "    .dataframe tbody tr th:only-of-type {\n",
       "        vertical-align: middle;\n",
       "    }\n",
       "\n",
       "    .dataframe tbody tr th {\n",
       "        vertical-align: top;\n",
       "    }\n",
       "\n",
       "    .dataframe thead th {\n",
       "        text-align: right;\n",
       "    }\n",
       "</style>\n",
       "<table border=\"1\" class=\"dataframe\">\n",
       "  <thead>\n",
       "    <tr style=\"text-align: right;\">\n",
       "      <th></th>\n",
       "      <th>count</th>\n",
       "      <th>mean</th>\n",
       "      <th>sum</th>\n",
       "    </tr>\n",
       "    <tr>\n",
       "      <th>event</th>\n",
       "      <th></th>\n",
       "      <th></th>\n",
       "      <th></th>\n",
       "    </tr>\n",
       "  </thead>\n",
       "  <tbody>\n",
       "    <tr>\n",
       "      <th>TED2006</th>\n",
       "      <td>45</td>\n",
       "      <td>3.274345e+06</td>\n",
       "      <td>147345533</td>\n",
       "    </tr>\n",
       "    <tr>\n",
       "      <th>TED2015</th>\n",
       "      <td>75</td>\n",
       "      <td>2.011017e+06</td>\n",
       "      <td>150826305</td>\n",
       "    </tr>\n",
       "    <tr>\n",
       "      <th>TEDGlobal 2013</th>\n",
       "      <td>66</td>\n",
       "      <td>2.584163e+06</td>\n",
       "      <td>170554736</td>\n",
       "    </tr>\n",
       "    <tr>\n",
       "      <th>TED2014</th>\n",
       "      <td>84</td>\n",
       "      <td>2.072874e+06</td>\n",
       "      <td>174121423</td>\n",
       "    </tr>\n",
       "    <tr>\n",
       "      <th>TED2013</th>\n",
       "      <td>77</td>\n",
       "      <td>2.302700e+06</td>\n",
       "      <td>177307937</td>\n",
       "    </tr>\n",
       "  </tbody>\n",
       "</table>\n",
       "</div>"
      ],
      "text/plain": [
       "                count          mean        sum\n",
       "event                                         \n",
       "TED2006            45  3.274345e+06  147345533\n",
       "TED2015            75  2.011017e+06  150826305\n",
       "TEDGlobal 2013     66  2.584163e+06  170554736\n",
       "TED2014            84  2.072874e+06  174121423\n",
       "TED2013            77  2.302700e+06  177307937"
      ]
     },
     "execution_count": 64,
     "metadata": {},
     "output_type": "execute_result"
    }
   ],
   "source": [
    "# calculate the total views per event\n",
    "ted.groupby('event').views.agg(['count', 'mean', 'sum']).sort_values('sum').tail()"
   ]
  },
  {
   "cell_type": "markdown",
   "metadata": {},
   "source": [
    "We may do same with comments variable to check which event has highest value and count. But, there will be still biaseness<br>\n",
    "\n",
    "- An old event has more time to get more view/comments compared to new one\n",
    "- Some talks become contraversial and hence, they have higher views. So, we cannot assume good quality by just checking views/comments"
   ]
  },
  {
   "cell_type": "markdown",
   "metadata": {},
   "source": [
    "# 8)-Unpack the ratings data"
   ]
  },
  {
   "cell_type": "code",
   "execution_count": 65,
   "metadata": {},
   "outputs": [
    {
     "data": {
      "text/plain": [
       "0    [{'id': 7, 'name': 'Funny', 'count': 19645}, {...\n",
       "1    [{'id': 7, 'name': 'Funny', 'count': 544}, {'i...\n",
       "2    [{'id': 7, 'name': 'Funny', 'count': 964}, {'i...\n",
       "3    [{'id': 3, 'name': 'Courageous', 'count': 760}...\n",
       "4    [{'id': 9, 'name': 'Ingenious', 'count': 3202}...\n",
       "Name: ratings, dtype: object"
      ]
     },
     "execution_count": 65,
     "metadata": {},
     "output_type": "execute_result"
    }
   ],
   "source": [
    "ted.ratings.head()"
   ]
  },
  {
   "cell_type": "code",
   "execution_count": 66,
   "metadata": {},
   "outputs": [
    {
     "data": {
      "text/plain": [
       "\"[{'id': 7, 'name': 'Funny', 'count': 19645}, {'id': 1, 'name': 'Beautiful', 'count': 4573}, {'id': 9, 'name': 'Ingenious', 'count': 6073}, {'id': 3, 'name': 'Courageous', 'count': 3253}, {'id': 11, 'name': 'Longwinded', 'count': 387}, {'id': 2, 'name': 'Confusing', 'count': 242}, {'id': 8, 'name': 'Informative', 'count': 7346}, {'id': 22, 'name': 'Fascinating', 'count': 10581}, {'id': 21, 'name': 'Unconvincing', 'count': 300}, {'id': 24, 'name': 'Persuasive', 'count': 10704}, {'id': 23, 'name': 'Jaw-dropping', 'count': 4439}, {'id': 25, 'name': 'OK', 'count': 1174}, {'id': 26, 'name': 'Obnoxious', 'count': 209}, {'id': 10, 'name': 'Inspiring', 'count': 24924}]\""
      ]
     },
     "execution_count": 66,
     "metadata": {},
     "output_type": "execute_result"
    }
   ],
   "source": [
    "# two ways to examine the ratings data for the first talk\n",
    "ted.loc[0, 'ratings']"
   ]
  },
  {
   "cell_type": "code",
   "execution_count": 67,
   "metadata": {},
   "outputs": [
    {
     "data": {
      "text/plain": [
       "\"[{'id': 7, 'name': 'Funny', 'count': 19645}, {'id': 1, 'name': 'Beautiful', 'count': 4573}, {'id': 9, 'name': 'Ingenious', 'count': 6073}, {'id': 3, 'name': 'Courageous', 'count': 3253}, {'id': 11, 'name': 'Longwinded', 'count': 387}, {'id': 2, 'name': 'Confusing', 'count': 242}, {'id': 8, 'name': 'Informative', 'count': 7346}, {'id': 22, 'name': 'Fascinating', 'count': 10581}, {'id': 21, 'name': 'Unconvincing', 'count': 300}, {'id': 24, 'name': 'Persuasive', 'count': 10704}, {'id': 23, 'name': 'Jaw-dropping', 'count': 4439}, {'id': 25, 'name': 'OK', 'count': 1174}, {'id': 26, 'name': 'Obnoxious', 'count': 209}, {'id': 10, 'name': 'Inspiring', 'count': 24924}]\""
      ]
     },
     "execution_count": 67,
     "metadata": {},
     "output_type": "execute_result"
    }
   ],
   "source": [
    "ted.ratings[0]"
   ]
  },
  {
   "cell_type": "code",
   "execution_count": 68,
   "metadata": {},
   "outputs": [
    {
     "data": {
      "text/plain": [
       "str"
      ]
     },
     "execution_count": 68,
     "metadata": {},
     "output_type": "execute_result"
    }
   ],
   "source": [
    "type(ted.ratings[0])"
   ]
  },
  {
   "cell_type": "code",
   "execution_count": 69,
   "metadata": {},
   "outputs": [
    {
     "data": {
      "text/plain": [
       "[1, 2, 3]"
      ]
     },
     "execution_count": 69,
     "metadata": {},
     "output_type": "execute_result"
    }
   ],
   "source": [
    "# convert this into something useful using Python's ast module (Abstract Syntax Tree)\n",
    "import ast\n",
    "ast.literal_eval('[1, 2, 3]')"
   ]
  },
  {
   "cell_type": "code",
   "execution_count": 70,
   "metadata": {},
   "outputs": [
    {
     "data": {
      "text/plain": [
       "list"
      ]
     },
     "execution_count": 70,
     "metadata": {},
     "output_type": "execute_result"
    }
   ],
   "source": [
    "type(ast.literal_eval('[1, 2, 3]'))"
   ]
  },
  {
   "cell_type": "markdown",
   "metadata": {},
   "source": [
    "if you have a string representation of something, you can retrieve what it actually represents"
   ]
  },
  {
   "cell_type": "code",
   "execution_count": 71,
   "metadata": {},
   "outputs": [
    {
     "data": {
      "text/plain": [
       "[{'id': 7, 'name': 'Funny', 'count': 19645},\n",
       " {'id': 1, 'name': 'Beautiful', 'count': 4573},\n",
       " {'id': 9, 'name': 'Ingenious', 'count': 6073},\n",
       " {'id': 3, 'name': 'Courageous', 'count': 3253},\n",
       " {'id': 11, 'name': 'Longwinded', 'count': 387},\n",
       " {'id': 2, 'name': 'Confusing', 'count': 242},\n",
       " {'id': 8, 'name': 'Informative', 'count': 7346},\n",
       " {'id': 22, 'name': 'Fascinating', 'count': 10581},\n",
       " {'id': 21, 'name': 'Unconvincing', 'count': 300},\n",
       " {'id': 24, 'name': 'Persuasive', 'count': 10704},\n",
       " {'id': 23, 'name': 'Jaw-dropping', 'count': 4439},\n",
       " {'id': 25, 'name': 'OK', 'count': 1174},\n",
       " {'id': 26, 'name': 'Obnoxious', 'count': 209},\n",
       " {'id': 10, 'name': 'Inspiring', 'count': 24924}]"
      ]
     },
     "execution_count": 71,
     "metadata": {},
     "output_type": "execute_result"
    }
   ],
   "source": [
    "# unpack the ratings data for the first talk\n",
    "ast.literal_eval(ted.ratings[0])"
   ]
  },
  {
   "cell_type": "code",
   "execution_count": 72,
   "metadata": {},
   "outputs": [
    {
     "data": {
      "text/plain": [
       "list"
      ]
     },
     "execution_count": 72,
     "metadata": {},
     "output_type": "execute_result"
    }
   ],
   "source": [
    "type(ast.literal_eval(ted.ratings[0]))"
   ]
  },
  {
   "cell_type": "code",
   "execution_count": 73,
   "metadata": {},
   "outputs": [],
   "source": [
    "def str_to_list(ratings_str):\n",
    "    return ast.literal_eval(ratings_str)"
   ]
  },
  {
   "cell_type": "code",
   "execution_count": 74,
   "metadata": {},
   "outputs": [
    {
     "data": {
      "text/plain": [
       "[{'id': 7, 'name': 'Funny', 'count': 19645},\n",
       " {'id': 1, 'name': 'Beautiful', 'count': 4573},\n",
       " {'id': 9, 'name': 'Ingenious', 'count': 6073},\n",
       " {'id': 3, 'name': 'Courageous', 'count': 3253},\n",
       " {'id': 11, 'name': 'Longwinded', 'count': 387},\n",
       " {'id': 2, 'name': 'Confusing', 'count': 242},\n",
       " {'id': 8, 'name': 'Informative', 'count': 7346},\n",
       " {'id': 22, 'name': 'Fascinating', 'count': 10581},\n",
       " {'id': 21, 'name': 'Unconvincing', 'count': 300},\n",
       " {'id': 24, 'name': 'Persuasive', 'count': 10704},\n",
       " {'id': 23, 'name': 'Jaw-dropping', 'count': 4439},\n",
       " {'id': 25, 'name': 'OK', 'count': 1174},\n",
       " {'id': 26, 'name': 'Obnoxious', 'count': 209},\n",
       " {'id': 10, 'name': 'Inspiring', 'count': 24924}]"
      ]
     },
     "execution_count": 74,
     "metadata": {},
     "output_type": "execute_result"
    }
   ],
   "source": [
    "str_to_list(ted.ratings[0])"
   ]
  },
  {
   "cell_type": "code",
   "execution_count": 75,
   "metadata": {},
   "outputs": [
    {
     "data": {
      "text/plain": [
       "0    [{'id': 7, 'name': 'Funny', 'count': 19645}, {...\n",
       "1    [{'id': 7, 'name': 'Funny', 'count': 544}, {'i...\n",
       "2    [{'id': 7, 'name': 'Funny', 'count': 964}, {'i...\n",
       "3    [{'id': 3, 'name': 'Courageous', 'count': 760}...\n",
       "4    [{'id': 9, 'name': 'Ingenious', 'count': 3202}...\n",
       "Name: ratings, dtype: object"
      ]
     },
     "execution_count": 75,
     "metadata": {},
     "output_type": "execute_result"
    }
   ],
   "source": [
    "# Series apply method applies a function to every element in a Series and returns a Series\n",
    "ted.ratings.apply(str_to_list).head()"
   ]
  },
  {
   "cell_type": "code",
   "execution_count": 76,
   "metadata": {},
   "outputs": [
    {
     "data": {
      "text/plain": [
       "0    [{'id': 7, 'name': 'Funny', 'count': 19645}, {...\n",
       "1    [{'id': 7, 'name': 'Funny', 'count': 544}, {'i...\n",
       "2    [{'id': 7, 'name': 'Funny', 'count': 964}, {'i...\n",
       "3    [{'id': 3, 'name': 'Courageous', 'count': 760}...\n",
       "4    [{'id': 9, 'name': 'Ingenious', 'count': 3202}...\n",
       "Name: ratings, dtype: object"
      ]
     },
     "execution_count": 76,
     "metadata": {},
     "output_type": "execute_result"
    }
   ],
   "source": [
    "# lambda is a shorter alternative\n",
    "ted.ratings.apply(lambda x: ast.literal_eval(x)).head()"
   ]
  },
  {
   "cell_type": "code",
   "execution_count": 77,
   "metadata": {},
   "outputs": [
    {
     "data": {
      "text/plain": [
       "0    [{'id': 7, 'name': 'Funny', 'count': 19645}, {...\n",
       "1    [{'id': 7, 'name': 'Funny', 'count': 544}, {'i...\n",
       "2    [{'id': 7, 'name': 'Funny', 'count': 964}, {'i...\n",
       "3    [{'id': 3, 'name': 'Courageous', 'count': 760}...\n",
       "4    [{'id': 9, 'name': 'Ingenious', 'count': 3202}...\n",
       "Name: ratings, dtype: object"
      ]
     },
     "execution_count": 77,
     "metadata": {},
     "output_type": "execute_result"
    }
   ],
   "source": [
    "# an even shorter alternative is to apply the function directly (without lambda)\n",
    "ted.ratings.apply(ast.literal_eval).head()"
   ]
  },
  {
   "cell_type": "code",
   "execution_count": 78,
   "metadata": {},
   "outputs": [],
   "source": [
    "ted['ratings_list'] = ted.ratings.apply(lambda x: ast.literal_eval(x))"
   ]
  },
  {
   "cell_type": "code",
   "execution_count": 79,
   "metadata": {},
   "outputs": [
    {
     "data": {
      "text/plain": [
       "[{'id': 7, 'name': 'Funny', 'count': 19645},\n",
       " {'id': 1, 'name': 'Beautiful', 'count': 4573},\n",
       " {'id': 9, 'name': 'Ingenious', 'count': 6073},\n",
       " {'id': 3, 'name': 'Courageous', 'count': 3253},\n",
       " {'id': 11, 'name': 'Longwinded', 'count': 387},\n",
       " {'id': 2, 'name': 'Confusing', 'count': 242},\n",
       " {'id': 8, 'name': 'Informative', 'count': 7346},\n",
       " {'id': 22, 'name': 'Fascinating', 'count': 10581},\n",
       " {'id': 21, 'name': 'Unconvincing', 'count': 300},\n",
       " {'id': 24, 'name': 'Persuasive', 'count': 10704},\n",
       " {'id': 23, 'name': 'Jaw-dropping', 'count': 4439},\n",
       " {'id': 25, 'name': 'OK', 'count': 1174},\n",
       " {'id': 26, 'name': 'Obnoxious', 'count': 209},\n",
       " {'id': 10, 'name': 'Inspiring', 'count': 24924}]"
      ]
     },
     "execution_count": 79,
     "metadata": {},
     "output_type": "execute_result"
    }
   ],
   "source": [
    "ted.ratings_list[0]"
   ]
  },
  {
   "cell_type": "code",
   "execution_count": 80,
   "metadata": {},
   "outputs": [
    {
     "data": {
      "text/plain": [
       "list"
      ]
     },
     "execution_count": 80,
     "metadata": {},
     "output_type": "execute_result"
    }
   ],
   "source": [
    "# each element in the Series is a list\n",
    "type(ted.ratings_list[0])"
   ]
  },
  {
   "cell_type": "code",
   "execution_count": 81,
   "metadata": {},
   "outputs": [
    {
     "data": {
      "text/plain": [
       "dtype('O')"
      ]
     },
     "execution_count": 81,
     "metadata": {},
     "output_type": "execute_result"
    }
   ],
   "source": [
    "# data type of the new Series is object\n",
    "ted.ratings_list.dtype"
   ]
  },
  {
   "cell_type": "code",
   "execution_count": 82,
   "metadata": {},
   "outputs": [
    {
     "data": {
      "text/plain": [
       "comments                       int64\n",
       "description                   object\n",
       "duration                       int64\n",
       "event                         object\n",
       "film_date                      int64\n",
       "languages                      int64\n",
       "main_speaker                  object\n",
       "name                          object\n",
       "num_speaker                    int64\n",
       "published_date                 int64\n",
       "ratings                       object\n",
       "related_talks                 object\n",
       "speaker_occupation            object\n",
       "tags                          object\n",
       "title                         object\n",
       "url                           object\n",
       "views                          int64\n",
       "comments_per_view            float64\n",
       "views_per_comment            float64\n",
       "film_datetime         datetime64[ns]\n",
       "ratings_list                  object\n",
       "dtype: object"
      ]
     },
     "execution_count": 82,
     "metadata": {},
     "output_type": "execute_result"
    }
   ],
   "source": [
    "# object is not just for strings\n",
    "ted.dtypes"
   ]
  },
  {
   "cell_type": "code",
   "execution_count": 83,
   "metadata": {},
   "outputs": [
    {
     "data": {
      "text/html": [
       "<div>\n",
       "<style scoped>\n",
       "    .dataframe tbody tr th:only-of-type {\n",
       "        vertical-align: middle;\n",
       "    }\n",
       "\n",
       "    .dataframe tbody tr th {\n",
       "        vertical-align: top;\n",
       "    }\n",
       "\n",
       "    .dataframe thead th {\n",
       "        text-align: right;\n",
       "    }\n",
       "</style>\n",
       "<table border=\"1\" class=\"dataframe\">\n",
       "  <thead>\n",
       "    <tr style=\"text-align: right;\">\n",
       "      <th></th>\n",
       "      <th>count</th>\n",
       "      <th>id</th>\n",
       "      <th>name</th>\n",
       "    </tr>\n",
       "  </thead>\n",
       "  <tbody>\n",
       "    <tr>\n",
       "      <th>0</th>\n",
       "      <td>19645</td>\n",
       "      <td>7</td>\n",
       "      <td>Funny</td>\n",
       "    </tr>\n",
       "    <tr>\n",
       "      <th>1</th>\n",
       "      <td>4573</td>\n",
       "      <td>1</td>\n",
       "      <td>Beautiful</td>\n",
       "    </tr>\n",
       "    <tr>\n",
       "      <th>2</th>\n",
       "      <td>6073</td>\n",
       "      <td>9</td>\n",
       "      <td>Ingenious</td>\n",
       "    </tr>\n",
       "    <tr>\n",
       "      <th>3</th>\n",
       "      <td>3253</td>\n",
       "      <td>3</td>\n",
       "      <td>Courageous</td>\n",
       "    </tr>\n",
       "    <tr>\n",
       "      <th>4</th>\n",
       "      <td>387</td>\n",
       "      <td>11</td>\n",
       "      <td>Longwinded</td>\n",
       "    </tr>\n",
       "    <tr>\n",
       "      <th>5</th>\n",
       "      <td>242</td>\n",
       "      <td>2</td>\n",
       "      <td>Confusing</td>\n",
       "    </tr>\n",
       "    <tr>\n",
       "      <th>6</th>\n",
       "      <td>7346</td>\n",
       "      <td>8</td>\n",
       "      <td>Informative</td>\n",
       "    </tr>\n",
       "    <tr>\n",
       "      <th>7</th>\n",
       "      <td>10581</td>\n",
       "      <td>22</td>\n",
       "      <td>Fascinating</td>\n",
       "    </tr>\n",
       "    <tr>\n",
       "      <th>8</th>\n",
       "      <td>300</td>\n",
       "      <td>21</td>\n",
       "      <td>Unconvincing</td>\n",
       "    </tr>\n",
       "    <tr>\n",
       "      <th>9</th>\n",
       "      <td>10704</td>\n",
       "      <td>24</td>\n",
       "      <td>Persuasive</td>\n",
       "    </tr>\n",
       "    <tr>\n",
       "      <th>10</th>\n",
       "      <td>4439</td>\n",
       "      <td>23</td>\n",
       "      <td>Jaw-dropping</td>\n",
       "    </tr>\n",
       "    <tr>\n",
       "      <th>11</th>\n",
       "      <td>1174</td>\n",
       "      <td>25</td>\n",
       "      <td>OK</td>\n",
       "    </tr>\n",
       "    <tr>\n",
       "      <th>12</th>\n",
       "      <td>209</td>\n",
       "      <td>26</td>\n",
       "      <td>Obnoxious</td>\n",
       "    </tr>\n",
       "    <tr>\n",
       "      <th>13</th>\n",
       "      <td>24924</td>\n",
       "      <td>10</td>\n",
       "      <td>Inspiring</td>\n",
       "    </tr>\n",
       "  </tbody>\n",
       "</table>\n",
       "</div>"
      ],
      "text/plain": [
       "    count  id          name\n",
       "0   19645   7         Funny\n",
       "1    4573   1     Beautiful\n",
       "2    6073   9     Ingenious\n",
       "3    3253   3    Courageous\n",
       "4     387  11    Longwinded\n",
       "5     242   2     Confusing\n",
       "6    7346   8   Informative\n",
       "7   10581  22   Fascinating\n",
       "8     300  21  Unconvincing\n",
       "9   10704  24    Persuasive\n",
       "10   4439  23  Jaw-dropping\n",
       "11   1174  25            OK\n",
       "12    209  26     Obnoxious\n",
       "13  24924  10     Inspiring"
      ]
     },
     "execution_count": 83,
     "metadata": {},
     "output_type": "execute_result"
    }
   ],
   "source": [
    "# Finally we may use dataframe \n",
    "\n",
    "pd.DataFrame(ted.ratings_list[0])"
   ]
  },
  {
   "cell_type": "markdown",
   "metadata": {},
   "source": [
    "# 9)-Count the total number of ratings received by each talk"
   ]
  },
  {
   "cell_type": "code",
   "execution_count": 84,
   "metadata": {},
   "outputs": [
    {
     "data": {
      "text/plain": [
       "[{'id': 7, 'name': 'Funny', 'count': 19645},\n",
       " {'id': 1, 'name': 'Beautiful', 'count': 4573},\n",
       " {'id': 9, 'name': 'Ingenious', 'count': 6073},\n",
       " {'id': 3, 'name': 'Courageous', 'count': 3253},\n",
       " {'id': 11, 'name': 'Longwinded', 'count': 387},\n",
       " {'id': 2, 'name': 'Confusing', 'count': 242},\n",
       " {'id': 8, 'name': 'Informative', 'count': 7346},\n",
       " {'id': 22, 'name': 'Fascinating', 'count': 10581},\n",
       " {'id': 21, 'name': 'Unconvincing', 'count': 300},\n",
       " {'id': 24, 'name': 'Persuasive', 'count': 10704},\n",
       " {'id': 23, 'name': 'Jaw-dropping', 'count': 4439},\n",
       " {'id': 25, 'name': 'OK', 'count': 1174},\n",
       " {'id': 26, 'name': 'Obnoxious', 'count': 209},\n",
       " {'id': 10, 'name': 'Inspiring', 'count': 24924}]"
      ]
     },
     "execution_count": 84,
     "metadata": {},
     "output_type": "execute_result"
    }
   ],
   "source": [
    "# expected result (for each talk) is sum of count\n",
    "ted.ratings_list[0]"
   ]
  },
  {
   "cell_type": "code",
   "execution_count": 85,
   "metadata": {},
   "outputs": [],
   "source": [
    "# start by building a simple function\n",
    "def get_num_ratings(list_of_dicts):\n",
    "    return list_of_dicts[0]"
   ]
  },
  {
   "cell_type": "code",
   "execution_count": 86,
   "metadata": {},
   "outputs": [
    {
     "data": {
      "text/plain": [
       "{'id': 7, 'name': 'Funny', 'count': 19645}"
      ]
     },
     "execution_count": 86,
     "metadata": {},
     "output_type": "execute_result"
    }
   ],
   "source": [
    "# pass it a list, and it returns the first element in the list, which is a dictionary\n",
    "get_num_ratings(ted.ratings_list[0])"
   ]
  },
  {
   "cell_type": "code",
   "execution_count": 87,
   "metadata": {},
   "outputs": [],
   "source": [
    "\n",
    "# modify the function to return the vote count\n",
    "def get_num_ratings(list_of_dicts):\n",
    "    return list_of_dicts[0]['count']"
   ]
  },
  {
   "cell_type": "code",
   "execution_count": 88,
   "metadata": {},
   "outputs": [
    {
     "data": {
      "text/plain": [
       "19645"
      ]
     },
     "execution_count": 88,
     "metadata": {},
     "output_type": "execute_result"
    }
   ],
   "source": [
    "# pass it a list, and it returns a value from the first dictionary in the list\n",
    "get_num_ratings(ted.ratings_list[0])"
   ]
  },
  {
   "cell_type": "code",
   "execution_count": 89,
   "metadata": {},
   "outputs": [],
   "source": [
    "# modify the function to get the sum of count\n",
    "def get_num_ratings(list_of_dicts):\n",
    "    num = 0\n",
    "    for d in list_of_dicts:\n",
    "        num = num + d['count']\n",
    "    return num"
   ]
  },
  {
   "cell_type": "code",
   "execution_count": 90,
   "metadata": {},
   "outputs": [
    {
     "data": {
      "text/plain": [
       "93850"
      ]
     },
     "execution_count": 90,
     "metadata": {},
     "output_type": "execute_result"
    }
   ],
   "source": [
    "# looks about right\n",
    "get_num_ratings(ted.ratings_list[0])"
   ]
  },
  {
   "cell_type": "code",
   "execution_count": 91,
   "metadata": {},
   "outputs": [
    {
     "data": {
      "text/plain": [
       "[{'id': 7, 'name': 'Funny', 'count': 544},\n",
       " {'id': 3, 'name': 'Courageous', 'count': 139},\n",
       " {'id': 2, 'name': 'Confusing', 'count': 62},\n",
       " {'id': 1, 'name': 'Beautiful', 'count': 58},\n",
       " {'id': 21, 'name': 'Unconvincing', 'count': 258},\n",
       " {'id': 11, 'name': 'Longwinded', 'count': 113},\n",
       " {'id': 8, 'name': 'Informative', 'count': 443},\n",
       " {'id': 10, 'name': 'Inspiring', 'count': 413},\n",
       " {'id': 22, 'name': 'Fascinating', 'count': 132},\n",
       " {'id': 9, 'name': 'Ingenious', 'count': 56},\n",
       " {'id': 24, 'name': 'Persuasive', 'count': 268},\n",
       " {'id': 23, 'name': 'Jaw-dropping', 'count': 116},\n",
       " {'id': 26, 'name': 'Obnoxious', 'count': 131},\n",
       " {'id': 25, 'name': 'OK', 'count': 203}]"
      ]
     },
     "execution_count": 91,
     "metadata": {},
     "output_type": "execute_result"
    }
   ],
   "source": [
    "# check with another record\n",
    "ted.ratings_list[1]"
   ]
  },
  {
   "cell_type": "code",
   "execution_count": 92,
   "metadata": {},
   "outputs": [
    {
     "data": {
      "text/plain": [
       "2936"
      ]
     },
     "execution_count": 92,
     "metadata": {},
     "output_type": "execute_result"
    }
   ],
   "source": [
    "# looks about right\n",
    "get_num_ratings(ted.ratings_list[1])"
   ]
  },
  {
   "cell_type": "code",
   "execution_count": 93,
   "metadata": {},
   "outputs": [
    {
     "data": {
      "text/plain": [
       "0    93850\n",
       "1     2936\n",
       "2     2824\n",
       "3     3728\n",
       "4    25620\n",
       "Name: ratings_list, dtype: int64"
      ]
     },
     "execution_count": 93,
     "metadata": {},
     "output_type": "execute_result"
    }
   ],
   "source": [
    "# apply it to every element in the Series\n",
    "ted.ratings_list.apply(get_num_ratings).head()"
   ]
  },
  {
   "cell_type": "code",
   "execution_count": 94,
   "metadata": {},
   "outputs": [
    {
     "data": {
      "text/plain": [
       "93850"
      ]
     },
     "execution_count": 94,
     "metadata": {},
     "output_type": "execute_result"
    }
   ],
   "source": [
    "# another alternative is to use a generator expression\n",
    "sum((d['count'] for d in ted.ratings_list[0]))"
   ]
  },
  {
   "cell_type": "code",
   "execution_count": 95,
   "metadata": {},
   "outputs": [
    {
     "data": {
      "text/plain": [
       "0    93850\n",
       "1     2936\n",
       "2     2824\n",
       "3     3728\n",
       "4    25620\n",
       "Name: ratings_list, dtype: int64"
      ]
     },
     "execution_count": 95,
     "metadata": {},
     "output_type": "execute_result"
    }
   ],
   "source": [
    "# use lambda to apply this method\n",
    "ted.ratings_list.apply(lambda x: sum((d['count'] for d in x))).head()"
   ]
  },
  {
   "cell_type": "code",
   "execution_count": 96,
   "metadata": {},
   "outputs": [
    {
     "data": {
      "text/plain": [
       "93850"
      ]
     },
     "execution_count": 96,
     "metadata": {},
     "output_type": "execute_result"
    }
   ],
   "source": [
    "# another alternative is to use pd.DataFrame()\n",
    "pd.DataFrame(ted.ratings_list[0])['count'].sum()"
   ]
  },
  {
   "cell_type": "code",
   "execution_count": 97,
   "metadata": {},
   "outputs": [
    {
     "data": {
      "text/plain": [
       "0    93850\n",
       "1     2936\n",
       "2     2824\n",
       "3     3728\n",
       "4    25620\n",
       "Name: ratings_list, dtype: int64"
      ]
     },
     "execution_count": 97,
     "metadata": {},
     "output_type": "execute_result"
    }
   ],
   "source": [
    "# use lambda to apply this method\n",
    "ted.ratings_list.apply(lambda x: pd.DataFrame(x)['count'].sum()).head()"
   ]
  },
  {
   "cell_type": "code",
   "execution_count": 98,
   "metadata": {},
   "outputs": [],
   "source": [
    "ted['num_ratings'] = ted.ratings_list.apply(get_num_ratings)"
   ]
  },
  {
   "cell_type": "code",
   "execution_count": 99,
   "metadata": {},
   "outputs": [
    {
     "data": {
      "text/plain": [
       "count     2550.000000\n",
       "mean      2436.408235\n",
       "std       4226.795631\n",
       "min         68.000000\n",
       "25%        870.750000\n",
       "50%       1452.500000\n",
       "75%       2506.750000\n",
       "max      93850.000000\n",
       "Name: num_ratings, dtype: float64"
      ]
     },
     "execution_count": 99,
     "metadata": {},
     "output_type": "execute_result"
    }
   ],
   "source": [
    "# do one more check\n",
    "ted.num_ratings.describe()"
   ]
  },
  {
   "cell_type": "markdown",
   "metadata": {},
   "source": [
    "# 10)- Which occupations deliver the funniest TED talks on average?"
   ]
  },
  {
   "cell_type": "code",
   "execution_count": 100,
   "metadata": {},
   "outputs": [
    {
     "data": {
      "text/plain": [
       "0    [{'id': 7, 'name': 'Funny', 'count': 19645}, {...\n",
       "1    [{'id': 7, 'name': 'Funny', 'count': 544}, {'i...\n",
       "2    [{'id': 7, 'name': 'Funny', 'count': 964}, {'i...\n",
       "3    [{'id': 3, 'name': 'Courageous', 'count': 760}...\n",
       "4    [{'id': 9, 'name': 'Ingenious', 'count': 3202}...\n",
       "Name: ratings_list, dtype: object"
      ]
     },
     "execution_count": 100,
     "metadata": {},
     "output_type": "execute_result"
    }
   ],
   "source": [
    "# \"Funny\" is not always the first dictionary in the list\n",
    "ted.ratings_list.head()"
   ]
  },
  {
   "cell_type": "code",
   "execution_count": 101,
   "metadata": {},
   "outputs": [
    {
     "data": {
      "text/plain": [
       "True    2550\n",
       "Name: ratings, dtype: int64"
      ]
     },
     "execution_count": 101,
     "metadata": {},
     "output_type": "execute_result"
    }
   ],
   "source": [
    "# check ratings (not ratings_list) to see if \"Funny\" is always a rating type\n",
    "ted.ratings.str.contains('Funny').value_counts()"
   ]
  },
  {
   "cell_type": "code",
   "execution_count": 102,
   "metadata": {},
   "outputs": [],
   "source": [
    "# write a custom function\n",
    "def get_funny_ratings(list_of_dicts):\n",
    "    for d in list_of_dicts:\n",
    "        if d['name'] == 'Funny':\n",
    "            return d['count']"
   ]
  },
  {
   "cell_type": "code",
   "execution_count": 103,
   "metadata": {},
   "outputs": [
    {
     "data": {
      "text/plain": [
       "[{'id': 3, 'name': 'Courageous', 'count': 760},\n",
       " {'id': 1, 'name': 'Beautiful', 'count': 291},\n",
       " {'id': 2, 'name': 'Confusing', 'count': 32},\n",
       " {'id': 7, 'name': 'Funny', 'count': 59},\n",
       " {'id': 9, 'name': 'Ingenious', 'count': 105},\n",
       " {'id': 21, 'name': 'Unconvincing', 'count': 36},\n",
       " {'id': 11, 'name': 'Longwinded', 'count': 53},\n",
       " {'id': 8, 'name': 'Informative', 'count': 380},\n",
       " {'id': 10, 'name': 'Inspiring', 'count': 1070},\n",
       " {'id': 22, 'name': 'Fascinating', 'count': 132},\n",
       " {'id': 24, 'name': 'Persuasive', 'count': 460},\n",
       " {'id': 23, 'name': 'Jaw-dropping', 'count': 230},\n",
       " {'id': 26, 'name': 'Obnoxious', 'count': 35},\n",
       " {'id': 25, 'name': 'OK', 'count': 85}]"
      ]
     },
     "execution_count": 103,
     "metadata": {},
     "output_type": "execute_result"
    }
   ],
   "source": [
    "# examine a record in which \"Funny\" is not the first dictionary\n",
    "ted.ratings_list[3]"
   ]
  },
  {
   "cell_type": "code",
   "execution_count": 104,
   "metadata": {},
   "outputs": [
    {
     "data": {
      "text/plain": [
       "59"
      ]
     },
     "execution_count": 104,
     "metadata": {},
     "output_type": "execute_result"
    }
   ],
   "source": [
    "# check that the function works\n",
    "get_funny_ratings(ted.ratings_list[3])"
   ]
  },
  {
   "cell_type": "code",
   "execution_count": 105,
   "metadata": {},
   "outputs": [
    {
     "data": {
      "text/plain": [
       "0    19645\n",
       "1      544\n",
       "2      964\n",
       "3       59\n",
       "4     1390\n",
       "Name: funny_ratings, dtype: int64"
      ]
     },
     "execution_count": 105,
     "metadata": {},
     "output_type": "execute_result"
    }
   ],
   "source": [
    "# apply it to every element in the Series\n",
    "ted['funny_ratings'] = ted.ratings_list.apply(get_funny_ratings)\n",
    "ted.funny_ratings.head()"
   ]
  },
  {
   "cell_type": "code",
   "execution_count": 106,
   "metadata": {},
   "outputs": [
    {
     "data": {
      "text/plain": [
       "0"
      ]
     },
     "execution_count": 106,
     "metadata": {},
     "output_type": "execute_result"
    }
   ],
   "source": [
    "# check for missing values\n",
    "ted.funny_ratings.isna().sum()"
   ]
  },
  {
   "cell_type": "markdown",
   "metadata": {},
   "source": [
    "### Step 2: Calculate the percentage of ratings that are funny"
   ]
  },
  {
   "cell_type": "code",
   "execution_count": 107,
   "metadata": {},
   "outputs": [],
   "source": [
    "ted['funny_rate'] = ted.funny_ratings / ted.num_ratings"
   ]
  },
  {
   "cell_type": "code",
   "execution_count": 108,
   "metadata": {},
   "outputs": [
    {
     "data": {
      "text/plain": [
       "1849                       Science humorist\n",
       "337                                Comedian\n",
       "124     Performance poet, multimedia artist\n",
       "315                                  Expert\n",
       "1168             Social energy entrepreneur\n",
       "1468                          Ornithologist\n",
       "595                  Comedian, voice artist\n",
       "1534                         Cartoon editor\n",
       "97                                 Satirist\n",
       "2297                          Actor, writer\n",
       "568                                Comedian\n",
       "675                          Data scientist\n",
       "21                     Humorist, web artist\n",
       "194                                Jugglers\n",
       "2273                    Comedian and writer\n",
       "2114                    Comedian and writer\n",
       "173                                Investor\n",
       "747                                Comedian\n",
       "1398                               Comedian\n",
       "685             Actor, comedian, playwright\n",
       "Name: speaker_occupation, dtype: object"
      ]
     },
     "execution_count": 108,
     "metadata": {},
     "output_type": "execute_result"
    }
   ],
   "source": [
    "# \"gut check\" that this calculation makes sense by examining the occupations of the funniest talks\n",
    "ted.sort_values('funny_rate').speaker_occupation.tail(20)"
   ]
  },
  {
   "cell_type": "code",
   "execution_count": 109,
   "metadata": {},
   "outputs": [
    {
     "data": {
      "text/plain": [
       "2549               Game designer\n",
       "1612                   Biologist\n",
       "612                     Sculptor\n",
       "998               Penguin expert\n",
       "593                     Engineer\n",
       "284               Space activist\n",
       "1041         Biomedical engineer\n",
       "1618      Spinal cord researcher\n",
       "2132    Computational geneticist\n",
       "442                     Sculptor\n",
       "426              Author, thinker\n",
       "458                     Educator\n",
       "2437      Environmental engineer\n",
       "1491             Photojournalist\n",
       "1893     Forensic anthropologist\n",
       "783             Marine biologist\n",
       "195                    Kenyan MP\n",
       "772             HIV/AIDS fighter\n",
       "788            Building activist\n",
       "936                Neuroengineer\n",
       "Name: speaker_occupation, dtype: object"
      ]
     },
     "execution_count": 109,
     "metadata": {},
     "output_type": "execute_result"
    }
   ],
   "source": [
    "# examine the occupations of the least funny talks\n",
    "ted.sort_values('funny_rate').speaker_occupation.head(20)"
   ]
  },
  {
   "cell_type": "markdown",
   "metadata": {},
   "source": [
    "### Step 3: Analyze the funny rate by occupation"
   ]
  },
  {
   "cell_type": "code",
   "execution_count": 110,
   "metadata": {},
   "outputs": [
    {
     "data": {
      "text/plain": [
       "speaker_occupation\n",
       "Comedian                       0.512457\n",
       "Actor, writer                  0.515152\n",
       "Actor, comedian, playwright    0.558107\n",
       "Jugglers                       0.566828\n",
       "Comedian and writer            0.602085\n",
       "Name: funny_rate, dtype: float64"
      ]
     },
     "execution_count": 110,
     "metadata": {},
     "output_type": "execute_result"
    }
   ],
   "source": [
    "# calculate the mean funny rate for each occupation\n",
    "ted.groupby('speaker_occupation').funny_rate.mean().sort_values().tail()"
   ]
  },
  {
   "cell_type": "code",
   "execution_count": 111,
   "metadata": {},
   "outputs": [
    {
     "data": {
      "text/plain": [
       "count       2544\n",
       "unique      1458\n",
       "top       Writer\n",
       "freq          45\n",
       "Name: speaker_occupation, dtype: object"
      ]
     },
     "execution_count": 111,
     "metadata": {},
     "output_type": "execute_result"
    }
   ],
   "source": [
    "# however, most of the occupations have a sample size of 1\n",
    "ted.speaker_occupation.describe()"
   ]
  },
  {
   "cell_type": "markdown",
   "metadata": {},
   "source": [
    "### Step 4: Focus on occupations that are well-represented in the data"
   ]
  },
  {
   "cell_type": "code",
   "execution_count": 112,
   "metadata": {},
   "outputs": [
    {
     "data": {
      "text/plain": [
       "Writer                                     45\n",
       "Artist                                     34\n",
       "Designer                                   34\n",
       "Journalist                                 33\n",
       "Entrepreneur                               31\n",
       "Architect                                  30\n",
       "Inventor                                   27\n",
       "Psychologist                               26\n",
       "Photographer                               25\n",
       "Filmmaker                                  21\n",
       "Neuroscientist                             20\n",
       "Author                                     20\n",
       "Economist                                  20\n",
       "Educator                                   20\n",
       "Philosopher                                16\n",
       "Roboticist                                 16\n",
       "Biologist                                  15\n",
       "Physicist                                  14\n",
       "Musician                                   11\n",
       "Marine biologist                           11\n",
       "Technologist                               10\n",
       "Activist                                   10\n",
       "Global health expert; data visionary       10\n",
       "Historian                                   9\n",
       "Graphic designer                            9\n",
       "Singer/songwriter                           9\n",
       "Astronomer                                  9\n",
       "Philanthropist                              9\n",
       "Oceanographer                               9\n",
       "Behavioral economist                        9\n",
       "                                           ..\n",
       "Artist, musician, lawyer, activist          1\n",
       "Body architect                              1\n",
       "Listener                                    1\n",
       "Interface designer, engineer                1\n",
       "Dermatologist                               1\n",
       "Raptor biologist, wildlife photographer     1\n",
       "Writer and radio producer                   1\n",
       "Marketer, rock climber                      1\n",
       "Environmental scientist                     1\n",
       "Entrepreneur, inventor, author              1\n",
       "Student scientist                           1\n",
       "Marketing leader                            1\n",
       "Artist and curator                          1\n",
       "Author, designer                            1\n",
       "Doctor, writer and humanitarian             1\n",
       "Science entrepreneur                        1\n",
       "Net watchdog                                1\n",
       "Inventor, student scientist                 1\n",
       "President of the Republic of Kiribati       1\n",
       "Border specialist                           1\n",
       "Story collector                             1\n",
       "Sleep researcher                            1\n",
       "Epigeneticist                               1\n",
       "Space explorer                              1\n",
       "Blockchain entrepreneur and researcher      1\n",
       "Peace and conflict researcher               1\n",
       "Founder of the Beirut Marathon              1\n",
       "Satirist                                    1\n",
       "Global development worker                   1\n",
       "Refugee activist                            1\n",
       "Name: speaker_occupation, Length: 1458, dtype: int64"
      ]
     },
     "execution_count": 112,
     "metadata": {},
     "output_type": "execute_result"
    }
   ],
   "source": [
    "# count how many times each occupation appears\n",
    "ted.speaker_occupation.value_counts()"
   ]
  },
  {
   "cell_type": "code",
   "execution_count": 113,
   "metadata": {},
   "outputs": [
    {
     "data": {
      "text/plain": [
       "pandas.core.series.Series"
      ]
     },
     "execution_count": 113,
     "metadata": {},
     "output_type": "execute_result"
    }
   ],
   "source": [
    "# value_counts() outputs a pandas Series, thus we can use pandas to manipulate the output\n",
    "occupation_counts = ted.speaker_occupation.value_counts()\n",
    "type(occupation_counts)"
   ]
  },
  {
   "cell_type": "code",
   "execution_count": 114,
   "metadata": {},
   "outputs": [
    {
     "data": {
      "text/plain": [
       "Writer                                        45\n",
       "Artist                                        34\n",
       "Designer                                      34\n",
       "Journalist                                    33\n",
       "Entrepreneur                                  31\n",
       "Architect                                     30\n",
       "Inventor                                      27\n",
       "Psychologist                                  26\n",
       "Photographer                                  25\n",
       "Filmmaker                                     21\n",
       "Neuroscientist                                20\n",
       "Author                                        20\n",
       "Economist                                     20\n",
       "Educator                                      20\n",
       "Philosopher                                   16\n",
       "Roboticist                                    16\n",
       "Biologist                                     15\n",
       "Physicist                                     14\n",
       "Musician                                      11\n",
       "Marine biologist                              11\n",
       "Technologist                                  10\n",
       "Activist                                      10\n",
       "Global health expert; data visionary          10\n",
       "Historian                                      9\n",
       "Graphic designer                               9\n",
       "Singer/songwriter                              9\n",
       "Astronomer                                     9\n",
       "Philanthropist                                 9\n",
       "Oceanographer                                  9\n",
       "Behavioral economist                           9\n",
       "                                              ..\n",
       "Reporter                                       6\n",
       "Techno-illusionist                             6\n",
       "Legal activist                                 6\n",
       "Writer, activist                               6\n",
       "Social entrepreneur                            6\n",
       "Photojournalist                                6\n",
       "Comedian                                       6\n",
       "Evolutionary biologist                         6\n",
       "Climate advocate                               6\n",
       "Performance poet, multimedia artist            6\n",
       "Singer-songwriter                              6\n",
       "Paleontologist                                 5\n",
       "Physician                                      5\n",
       "Chef                                           5\n",
       "Chemist                                        5\n",
       "Producer                                       5\n",
       "Sound consultant                               5\n",
       "Violinist                                      5\n",
       "Cartoonist                                     5\n",
       "Environmentalist, futurist                     5\n",
       "Surgeon                                        5\n",
       "Researcher                                     5\n",
       "Data scientist                                 5\n",
       "Science writer                                 5\n",
       "Social Media Theorist                          5\n",
       "Sculptor                                       5\n",
       "Investor and advocate for moral leadership     5\n",
       "Musician, activist                             5\n",
       "Tech visionary                                 5\n",
       "Game designer                                  5\n",
       "Name: speaker_occupation, Length: 68, dtype: int64"
      ]
     },
     "execution_count": 114,
     "metadata": {},
     "output_type": "execute_result"
    }
   ],
   "source": [
    "# show occupations which appear at least 5 times\n",
    "occupation_counts[occupation_counts >= 5]"
   ]
  },
  {
   "cell_type": "code",
   "execution_count": 115,
   "metadata": {},
   "outputs": [
    {
     "data": {
      "text/plain": [
       "Index(['Writer', 'Artist', 'Designer', 'Journalist', 'Entrepreneur',\n",
       "       'Architect', 'Inventor', 'Psychologist', 'Photographer', 'Filmmaker',\n",
       "       'Neuroscientist', 'Author', 'Economist', 'Educator', 'Philosopher',\n",
       "       'Roboticist', 'Biologist', 'Physicist', 'Musician', 'Marine biologist',\n",
       "       'Technologist', 'Activist', 'Global health expert; data visionary',\n",
       "       'Historian', 'Graphic designer', 'Singer/songwriter', 'Astronomer',\n",
       "       'Philanthropist', 'Oceanographer', 'Behavioral economist', 'Poet',\n",
       "       'Social psychologist', 'Novelist', 'Computer scientist', 'Engineer',\n",
       "       'Futurist', 'Astrophysicist', 'Mathematician', 'Reporter',\n",
       "       'Techno-illusionist', 'Legal activist', 'Writer, activist',\n",
       "       'Social entrepreneur', 'Photojournalist', 'Comedian',\n",
       "       'Evolutionary biologist', 'Climate advocate',\n",
       "       'Performance poet, multimedia artist', 'Singer-songwriter',\n",
       "       'Paleontologist', 'Physician', 'Chef', 'Chemist', 'Producer',\n",
       "       'Sound consultant', 'Violinist', 'Cartoonist',\n",
       "       'Environmentalist, futurist', 'Surgeon', 'Researcher', 'Data scientist',\n",
       "       'Science writer', 'Social Media Theorist', 'Sculptor',\n",
       "       'Investor and advocate for moral leadership', 'Musician, activist',\n",
       "       'Tech visionary', 'Game designer'],\n",
       "      dtype='object')"
      ]
     },
     "execution_count": 115,
     "metadata": {},
     "output_type": "execute_result"
    }
   ],
   "source": [
    "# save the index of this Series\n",
    "top_occupations = occupation_counts[occupation_counts >= 5].index\n",
    "top_occupations"
   ]
  },
  {
   "cell_type": "markdown",
   "metadata": {},
   "source": [
    "### Step 5: Re-analyze the funny rate by occupation (for top occupations only)"
   ]
  },
  {
   "cell_type": "code",
   "execution_count": 116,
   "metadata": {},
   "outputs": [
    {
     "data": {
      "text/plain": [
       "(786, 24)"
      ]
     },
     "execution_count": 116,
     "metadata": {},
     "output_type": "execute_result"
    }
   ],
   "source": [
    "# filter DataFrame to include only those occupations\n",
    "ted_top_occupations = ted[ted.speaker_occupation.isin(top_occupations)]\n",
    "ted_top_occupations.shape"
   ]
  },
  {
   "cell_type": "code",
   "execution_count": 117,
   "metadata": {},
   "outputs": [
    {
     "data": {
      "text/plain": [
       "speaker_occupation\n",
       "Surgeon                                       0.002465\n",
       "Physician                                     0.004515\n",
       "Photojournalist                               0.004908\n",
       "Investor and advocate for moral leadership    0.005198\n",
       "Photographer                                  0.007152\n",
       "Environmentalist, futurist                    0.007317\n",
       "Violinist                                     0.009534\n",
       "Singer-songwriter                             0.010597\n",
       "Chemist                                       0.010970\n",
       "Philanthropist                                0.012522\n",
       "Activist                                      0.012539\n",
       "Astrophysicist                                0.013147\n",
       "Oceanographer                                 0.014596\n",
       "Paleontologist                                0.015780\n",
       "Social psychologist                           0.015887\n",
       "Tech visionary                                0.016654\n",
       "Sculptor                                      0.016960\n",
       "Social Media Theorist                         0.017450\n",
       "Social entrepreneur                           0.017921\n",
       "Inventor                                      0.021801\n",
       "Sound consultant                              0.022011\n",
       "Legal activist                                0.022303\n",
       "Historian                                     0.023215\n",
       "Musician, activist                            0.023395\n",
       "Economist                                     0.025488\n",
       "Writer, activist                              0.026665\n",
       "Journalist                                    0.027997\n",
       "Computer scientist                            0.029070\n",
       "Architect                                     0.030579\n",
       "Engineer                                      0.031711\n",
       "                                                ...   \n",
       "Roboticist                                    0.042777\n",
       "Astronomer                                    0.044581\n",
       "Psychologist                                  0.044984\n",
       "Musician                                      0.045336\n",
       "Physicist                                     0.046302\n",
       "Filmmaker                                     0.048603\n",
       "Futurist                                      0.050460\n",
       "Behavioral economist                          0.050460\n",
       "Technologist                                  0.050965\n",
       "Chef                                          0.054207\n",
       "Science writer                                0.055993\n",
       "Designer                                      0.059287\n",
       "Writer                                        0.060745\n",
       "Game designer                                 0.062317\n",
       "Reporter                                      0.066250\n",
       "Evolutionary biologist                        0.069157\n",
       "Novelist                                      0.070876\n",
       "Entrepreneur                                  0.073295\n",
       "Author                                        0.075508\n",
       "Artist                                        0.078939\n",
       "Global health expert; data visionary          0.090306\n",
       "Poet                                          0.107398\n",
       "Graphic designer                              0.135718\n",
       "Techno-illusionist                            0.152171\n",
       "Cartoonist                                    0.162120\n",
       "Data scientist                                0.184076\n",
       "Producer                                      0.202531\n",
       "Singer/songwriter                             0.252205\n",
       "Performance poet, multimedia artist           0.306468\n",
       "Comedian                                      0.512457\n",
       "Name: funny_rate, Length: 68, dtype: float64"
      ]
     },
     "execution_count": 117,
     "metadata": {},
     "output_type": "execute_result"
    }
   ],
   "source": [
    "# redo the previous groupby\n",
    "ted_top_occupations.groupby('speaker_occupation').funny_rate.mean().sort_values()"
   ]
  }
 ],
 "metadata": {
  "kernelspec": {
   "display_name": "Python 3",
   "language": "python",
   "name": "python3"
  },
  "language_info": {
   "codemirror_mode": {
    "name": "ipython",
    "version": 3
   },
   "file_extension": ".py",
   "mimetype": "text/x-python",
   "name": "python",
   "nbconvert_exporter": "python",
   "pygments_lexer": "ipython3",
   "version": "3.6.5"
  }
 },
 "nbformat": 4,
 "nbformat_minor": 2
}
